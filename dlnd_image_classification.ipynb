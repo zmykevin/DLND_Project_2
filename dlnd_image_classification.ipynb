{
 "cells": [
  {
   "cell_type": "markdown",
   "metadata": {
    "collapsed": true,
    "deletable": true,
    "editable": true
   },
   "source": [
    "# Image Classification\n",
    "In this project, you'll classify images from the [CIFAR-10 dataset](https://www.cs.toronto.edu/~kriz/cifar.html).  The dataset consists of airplanes, dogs, cats, and other objects. You'll preprocess the images, then train a convolutional neural network on all the samples. The images need to be normalized and the labels need to be one-hot encoded.  You'll get to apply what you learned and build a convolutional, max pooling, dropout, and fully connected layers.  At the end, you'll get to see your neural network's predictions on the sample images.\n",
    "## Get the Data\n",
    "Run the following cell to download the [CIFAR-10 dataset for python](https://www.cs.toronto.edu/~kriz/cifar-10-python.tar.gz)."
   ]
  },
  {
   "cell_type": "code",
   "execution_count": 1,
   "metadata": {
    "collapsed": false,
    "deletable": true,
    "editable": true
   },
   "outputs": [
    {
     "name": "stdout",
     "output_type": "stream",
     "text": [
      "All files found!\n"
     ]
    }
   ],
   "source": [
    "\"\"\"\n",
    "DON'T MODIFY ANYTHING IN THIS CELL THAT IS BELOW THIS LINE\n",
    "\"\"\"\n",
    "from urllib.request import urlretrieve\n",
    "from os.path import isfile, isdir\n",
    "from tqdm import tqdm\n",
    "import problem_unittests as tests\n",
    "import tarfile\n",
    "\n",
    "cifar10_dataset_folder_path = 'cifar-10-batches-py'\n",
    "\n",
    "class DLProgress(tqdm):\n",
    "    last_block = 0\n",
    "\n",
    "    def hook(self, block_num=1, block_size=1, total_size=None):\n",
    "        self.total = total_size\n",
    "        self.update((block_num - self.last_block) * block_size)\n",
    "        self.last_block = block_num\n",
    "\n",
    "if not isfile('cifar-10-python.tar.gz'):\n",
    "    with DLProgress(unit='B', unit_scale=True, miniters=1, desc='CIFAR-10 Dataset') as pbar:\n",
    "        urlretrieve(\n",
    "            'https://www.cs.toronto.edu/~kriz/cifar-10-python.tar.gz',\n",
    "            'cifar-10-python.tar.gz',\n",
    "            pbar.hook)\n",
    "\n",
    "if not isdir(cifar10_dataset_folder_path):\n",
    "    with tarfile.open('cifar-10-python.tar.gz') as tar:\n",
    "        tar.extractall()\n",
    "        tar.close()\n",
    "\n",
    "\n",
    "tests.test_folder_path(cifar10_dataset_folder_path)"
   ]
  },
  {
   "cell_type": "markdown",
   "metadata": {
    "deletable": true,
    "editable": true
   },
   "source": [
    "## Explore the Data\n",
    "The dataset is broken into batches to prevent your machine from running out of memory.  The CIFAR-10 dataset consists of 5 batches, named `data_batch_1`, `data_batch_2`, etc.. Each batch contains the labels and images that are one of the following:\n",
    "* airplane\n",
    "* automobile\n",
    "* bird\n",
    "* cat\n",
    "* deer\n",
    "* dog\n",
    "* frog\n",
    "* horse\n",
    "* ship\n",
    "* truck\n",
    "\n",
    "Understanding a dataset is part of making predictions on the data.  Play around with the code cell below by changing the `batch_id` and `sample_id`. The `batch_id` is the id for a batch (1-5). The `sample_id` is the id for a image and label pair in the batch.\n",
    "\n",
    "Ask yourself \"What are all possible labels?\", \"What is the range of values for the image data?\", \"Are the labels in order or random?\".  Answers to questions like these will help you preprocess the data and end up with better predictions."
   ]
  },
  {
   "cell_type": "code",
   "execution_count": 2,
   "metadata": {
    "collapsed": false,
    "deletable": true,
    "editable": true
   },
   "outputs": [
    {
     "name": "stdout",
     "output_type": "stream",
     "text": [
      "\n",
      "Stats of batch 1:\n",
      "Samples: 10000\n",
      "Label Counts: {0: 1005, 1: 974, 2: 1032, 3: 1016, 4: 999, 5: 937, 6: 1030, 7: 1001, 8: 1025, 9: 981}\n",
      "First 20 Labels: [6, 9, 9, 4, 1, 1, 2, 7, 8, 3, 4, 7, 7, 2, 9, 9, 9, 3, 2, 6]\n",
      "\n",
      "Example of Image 10:\n",
      "Image - Min Value: 24 Max Value: 130\n",
      "Image - Shape: (32, 32, 3)\n",
      "Label - Label Id: 4 Name: deer\n"
     ]
    },
    {
     "data": {
      "image/png": "[encoded data removed]",
      "text/plain": [
       "<matplotlib.figure.Figure at 0x7efd7841c4a8>"
      ]
     },
     "metadata": {
      "image/png": {
       "height": 250,
       "width": 253
      }
     },
     "output_type": "display_data"
    }
   ],
   "source": [
    "%matplotlib inline\n",
    "%config InlineBackend.figure_format = 'retina'\n",
    "\n",
    "import helper\n",
    "import numpy as np\n",
    "\n",
    "# Explore the dataset\n",
    "batch_id = 1\n",
    "sample_id = 10\n",
    "helper.display_stats(cifar10_dataset_folder_path, batch_id, sample_id)"
   ]
  },
  {
   "cell_type": "markdown",
   "metadata": {
    "deletable": true,
    "editable": true
   },
   "source": [
    "## Implement Preprocess Functions\n",
    "### Normalize\n",
    "In the cell below, implement the `normalize` function to take in image data, `x`, and return it as a normalized Numpy array. The values should be in the range of 0 to 1, inclusive.  The return object should be the same shape as `x`."
   ]
  },
  {
   "cell_type": "code",
   "execution_count": 3,
   "metadata": {
    "collapsed": false,
    "deletable": true,
    "editable": true
   },
   "outputs": [
    {
     "name": "stdout",
     "output_type": "stream",
     "text": [
      "Tests Passed\n"
     ]
    }
   ],
   "source": [
    "def normalize(x):\n",
    "    \"\"\"\n",
    "    Normalize a list of sample image data in the range of 0 to 1\n",
    "    : x: List of image data.  The image shape is (32, 32, 3)\n",
    "    : return: Numpy array of normalize data\n",
    "    \"\"\"\n",
    "    # TODO: Implement Function\n",
    "    #Initialize the ouptut\n",
    "    normalized_data = np.zeros((len(x),32,32,3))\n",
    "    for i,image in enumerate(x):\n",
    "        normalized_data[i,:,:,:] = image\n",
    "    \n",
    "    #Implement the min-max normalization\n",
    "    min_val = np.amin(normalized_data)\n",
    "    max_val = np.amax(normalized_data)\n",
    "    normalized_data = (normalized_data-min_val)/(max_val-min_val)\n",
    "    \n",
    "    return normalized_data \n",
    "\n",
    "\n",
    "\"\"\"\n",
    "DON'T MODIFY ANYTHING IN THIS CELL THAT IS BELOW THIS LINE\n",
    "\"\"\"\n",
    "tests.test_normalize(normalize)"
   ]
  },
  {
   "cell_type": "markdown",
   "metadata": {
    "deletable": true,
    "editable": true
   },
   "source": [
    "### One-hot encode\n",
    "Just like the previous code cell, you'll be implementing a function for preprocessing.  This time, you'll implement the `one_hot_encode` function. The input, `x`, are a list of labels.  Implement the function to return the list of labels as One-Hot encoded Numpy array.  The possible values for labels are 0 to 9. The one-hot encoding function should return the same encoding for each value between each call to `one_hot_encode`.  Make sure to save the map of encodings outside the function.\n",
    "\n",
    "Hint: Don't reinvent the wheel."
   ]
  },
  {
   "cell_type": "code",
   "execution_count": 4,
   "metadata": {
    "collapsed": false,
    "deletable": true,
    "editable": true
   },
   "outputs": [
    {
     "name": "stdout",
     "output_type": "stream",
     "text": [
      "Tests Passed\n"
     ]
    }
   ],
   "source": [
    "def one_hot_encode(x):\n",
    "    \"\"\"\n",
    "    One hot encode a list of sample labels. Return a one-hot encoded vector for each label.\n",
    "    : x: List of sample Labels\n",
    "    : return: Numpy array of one-hot encoded labels\n",
    "    \"\"\"\n",
    "    # TODO: Implement Function\n",
    "    one_hot_label = np.zeros((len(x),10))\n",
    "    \n",
    "    for i,label in enumerate(x):\n",
    "        one_hot_label[i,label] = 1\n",
    "        \n",
    "    return one_hot_label\n",
    "\n",
    "\n",
    "\"\"\"\n",
    "DON'T MODIFY ANYTHING IN THIS CELL THAT IS BELOW THIS LINE\n",
    "\"\"\"\n",
    "tests.test_one_hot_encode(one_hot_encode)"
   ]
  },
  {
   "cell_type": "markdown",
   "metadata": {
    "deletable": true,
    "editable": true
   },
   "source": [
    "### Randomize Data\n",
    "As you saw from exploring the data above, the order of the samples are randomized.  It doesn't hurt to randomize it again, but you don't need to for this dataset."
   ]
  },
  {
   "cell_type": "markdown",
   "metadata": {
    "deletable": true,
    "editable": true
   },
   "source": [
    "## Preprocess all the data and save it\n",
    "Running the code cell below will preprocess all the CIFAR-10 data and save it to file. The code below also uses 10% of the training data for validation."
   ]
  },
  {
   "cell_type": "code",
   "execution_count": 5,
   "metadata": {
    "collapsed": false,
    "deletable": true,
    "editable": true
   },
   "outputs": [],
   "source": [
    "\"\"\"\n",
    "DON'T MODIFY ANYTHING IN THIS CELL\n",
    "\"\"\"\n",
    "# Preprocess Training, Validation, and Testing Data\n",
    "helper.preprocess_and_save_data(cifar10_dataset_folder_path, normalize, one_hot_encode)"
   ]
  },
  {
   "cell_type": "markdown",
   "metadata": {
    "deletable": true,
    "editable": true
   },
   "source": [
    "# Check Point\n",
    "This is your first checkpoint.  If you ever decide to come back to this notebook or have to restart the notebook, you can start from here.  The preprocessed data has been saved to disk."
   ]
  },
  {
   "cell_type": "code",
   "execution_count": 6,
   "metadata": {
    "collapsed": true,
    "deletable": true,
    "editable": true
   },
   "outputs": [],
   "source": [
    "\"\"\"\n",
    "DON'T MODIFY ANYTHING IN THIS CELL\n",
    "\"\"\"\n",
    "import pickle\n",
    "import problem_unittests as tests\n",
    "import helper\n",
    "\n",
    "# Load the Preprocessed Validation data\n",
    "valid_features, valid_labels = pickle.load(open('preprocess_validation.p', mode='rb'))"
   ]
  },
  {
   "cell_type": "markdown",
   "metadata": {
    "deletable": true,
    "editable": true
   },
   "source": [
    "## Build the network\n",
    "For the neural network, you'll build each layer into a function.  Most of the code you've seen has been outside of functions. To test your code more thoroughly, we require that you put each layer in a function.  This allows us to give you better feedback and test for simple mistakes using our unittests before you submit your project.\n",
    "\n",
    "If you're finding it hard to dedicate enough time for this course a week, we've provided a small shortcut to this part of the project. In the next couple of problems, you'll have the option to use [TensorFlow Layers](https://www.tensorflow.org/api_docs/python/tf/layers) or [TensorFlow Layers (contrib)](https://www.tensorflow.org/api_guides/python/contrib.layers) to build each layer, except \"Convolutional & Max Pooling\" layer.  TF Layers is similar to Keras's and TFLearn's abstraction to layers, so it's easy to pickup.\n",
    "\n",
    "If you would like to get the most of this course, try to solve all the problems without TF Layers.  Let's begin!\n",
    "### Input\n",
    "The neural network needs to read the image data, one-hot encoded labels, and dropout keep probability. Implement the following functions\n",
    "* Implement `neural_net_image_input`\n",
    " * Return a [TF Placeholder](https://www.tensorflow.org/api_docs/python/tf/placeholder)\n",
    " * Set the shape using `image_shape` with batch size set to `None`.\n",
    " * Name the TensorFlow placeholder \"x\" using the TensorFlow `name` parameter in the [TF Placeholder](https://www.tensorflow.org/api_docs/python/tf/placeholder).\n",
    "* Implement `neural_net_label_input`\n",
    " * Return a [TF Placeholder](https://www.tensorflow.org/api_docs/python/tf/placeholder)\n",
    " * Set the shape using `n_classes` with batch size set to `None`.\n",
    " * Name the TensorFlow placeholder \"y\" using the TensorFlow `name` parameter in the [TF Placeholder](https://www.tensorflow.org/api_docs/python/tf/placeholder).\n",
    "* Implement `neural_net_keep_prob_input`\n",
    " * Return a [TF Placeholder](https://www.tensorflow.org/api_docs/python/tf/placeholder) for dropout keep probability.\n",
    " * Name the TensorFlow placeholder \"keep_prob\" using the TensorFlow `name` parameter in the [TF Placeholder](https://www.tensorflow.org/api_docs/python/tf/placeholder).\n",
    "\n",
    "These names will be used at the end of the project to load your saved model.\n",
    "\n",
    "Note: `None` for shapes in TensorFlow allow for a dynamic size."
   ]
  },
  {
   "cell_type": "code",
   "execution_count": 7,
   "metadata": {
    "collapsed": false,
    "deletable": true,
    "editable": true
   },
   "outputs": [
    {
     "name": "stdout",
     "output_type": "stream",
     "text": [
      "Image Input Tests Passed.\n",
      "Label Input Tests Passed.\n",
      "Keep Prob Tests Passed.\n"
     ]
    }
   ],
   "source": [
    "import tensorflow as tf\n",
    "\n",
    "def neural_net_image_input(image_shape):\n",
    "    \"\"\"\n",
    "    Return a Tensor for a bach of image input\n",
    "    : image_shape: Shape of the images\n",
    "    : return: Tensor for image input.\n",
    "    \"\"\"\n",
    "    # TODO: Implement Function\n",
    "    image_tensor = tf.placeholder(tf.float32,shape=[None,image_shape[0],image_shape[1],image_shape[2]],name=\"x\")\n",
    "    return image_tensor\n",
    "\n",
    "\n",
    "def neural_net_label_input(n_classes):\n",
    "    \"\"\"\n",
    "    Return a Tensor for a batch of label input\n",
    "    : n_classes: Number of classes\n",
    "    : return: Tensor for label input.\n",
    "    \"\"\"\n",
    "    # TODO: Implement Function\n",
    "    label_tensor = tf.placeholder(tf.float32, shape=[None,n_classes],name=\"y\")\n",
    "    return label_tensor\n",
    "\n",
    "\n",
    "def neural_net_keep_prob_input():\n",
    "    \"\"\"\n",
    "    Return a Tensor for keep probability\n",
    "    : return: Tensor for keep probability.\n",
    "    \"\"\"\n",
    "    # TODO: Implement Function\n",
    "    keep_prob = tf.placeholder(tf.float32,name=\"keep_prob\")\n",
    "    return keep_prob\n",
    "\n",
    "\n",
    "\"\"\"\n",
    "DON'T MODIFY ANYTHING IN THIS CELL THAT IS BELOW THIS LINE\n",
    "\"\"\"\n",
    "tf.reset_default_graph()\n",
    "tests.test_nn_image_inputs(neural_net_image_input)\n",
    "tests.test_nn_label_inputs(neural_net_label_input)\n",
    "tests.test_nn_keep_prob_inputs(neural_net_keep_prob_input)"
   ]
  },
  {
   "cell_type": "markdown",
   "metadata": {
    "deletable": true,
    "editable": true
   },
   "source": [
    "### Convolution and Max Pooling Layer\n",
    "Convolution layers have a lot of success with images. For this code cell, you should implement the function `conv2d_maxpool` to apply convolution then max pooling:\n",
    "* Create the weight and bias using `conv_ksize`, `conv_num_outputs` and the shape of `x_tensor`.\n",
    "* Apply a convolution to `x_tensor` using weight and `conv_strides`.\n",
    " * We recommend you use same padding, but you're welcome to use any padding.\n",
    "* Add bias\n",
    "* Add a nonlinear activation to the convolution.\n",
    "* Apply Max Pooling using `pool_ksize` and `pool_strides`.\n",
    " * We recommend you use same padding, but you're welcome to use any padding.\n",
    "\n",
    "Note: You **can't** use [TensorFlow Layers](https://www.tensorflow.org/api_docs/python/tf/layers) or [TensorFlow Layers (contrib)](https://www.tensorflow.org/api_guides/python/contrib.layers) for this layer.  You're free to use any TensorFlow package for all the other layers."
   ]
  },
  {
   "cell_type": "code",
   "execution_count": 100,
   "metadata": {
    "collapsed": false,
    "deletable": true,
    "editable": true
   },
   "outputs": [
    {
     "name": "stdout",
     "output_type": "stream",
     "text": [
      "Tests Passed\n"
     ]
    }
   ],
   "source": [
    "def conv2d_maxpool(x_tensor, conv_num_outputs, conv_ksize, conv_strides, pool_ksize, pool_strides):\n",
    "    \"\"\"\n",
    "    Apply convolution then max pooling to x_tensor\n",
    "    :param x_tensor: TensorFlow Tensor\n",
    "    :param conv_num_outputs: Number of outputs for the convolutional layer\n",
    "    :param conv_ksize: kernal size 2-D Tuple for the convolutional layer\n",
    "    :param conv_strides: Stride 2-D Tuple for convolution\n",
    "    :param pool_ksize: kernal size 2-D Tuple for pool\n",
    "    :param pool_strides: Stride 2-D Tuple for pool\n",
    "    : return: A tensor that represents convolution and max pooling of x_tensor\n",
    "    \"\"\"\n",
    "    # TODO: Implement Function\n",
    "    #Define Weights and Bias\n",
    "    input_shape = x_tensor.shape\n",
    "    Weights = tf.Variable(tf.random_normal([conv_ksize[0],conv_ksize[1],input_shape[-1].value,conv_num_outputs]))\n",
    "    Bias = tf.Variable(tf.random_normal([conv_num_outputs]))\n",
    "    \n",
    "    #Define the convolutional layer\n",
    "    conv_layer = tf.nn.conv2d(x_tensor,Weights,strides=[1,conv_strides[0],conv_strides[1],1],padding=\"SAME\")\n",
    "    conv_layer = tf.nn.bias_add(conv_layer,Bias)\n",
    "    conv_layer = tf.nn.relu(conv_layer)\n",
    "    \n",
    "    #Define the Max-Pooling Layer\n",
    "    pool_layer = tf.nn.max_pool(conv_layer,\n",
    "                                ksize=[1,pool_ksize[0],pool_ksize[1],1],\n",
    "                                strides=[1,pool_strides[0],pool_strides[1],1],\n",
    "                                padding = \"SAME\")\n",
    "    \n",
    "    return pool_layer \n",
    "\n",
    "\n",
    "\"\"\"\n",
    "DON'T MODIFY ANYTHING IN THIS CELL THAT IS BELOW THIS LINE\n",
    "\"\"\"\n",
    "tests.test_con_pool(conv2d_maxpool)"
   ]
  },
  {
   "cell_type": "markdown",
   "metadata": {
    "deletable": true,
    "editable": true
   },
   "source": [
    "### Flatten Layer\n",
    "Implement the `flatten` function to change the dimension of `x_tensor` from a 4-D tensor to a 2-D tensor.  The output should be the shape (*Batch Size*, *Flattened Image Size*). You can use [TensorFlow Layers](https://www.tensorflow.org/api_docs/python/tf/layers) or [TensorFlow Layers (contrib)](https://www.tensorflow.org/api_guides/python/contrib.layers) for this layer."
   ]
  },
  {
   "cell_type": "code",
   "execution_count": 99,
   "metadata": {
    "collapsed": false,
    "deletable": true,
    "editable": true
   },
   "outputs": [
    {
     "name": "stdout",
     "output_type": "stream",
     "text": [
      "Tests Passed\n"
     ]
    }
   ],
   "source": [
    "def flatten(x_tensor):\n",
    "    \"\"\"\n",
    "    Flatten x_tensor to (Batch Size, Flattened Image Size)\n",
    "    : x_tensor: A tensor of size (Batch Size, ...), where ... are the image dimensions.\n",
    "    : return: A tensor of size (Batch Size, Flattened Image Size).\n",
    "    \"\"\"\n",
    "    # TODO: Implement Function\n",
    "    x_shape = x_tensor.get_shape().as_list()\n",
    "    #Got the shape of the image size by multiplying the rest dimension of input shape except the first dimension\n",
    "    flatten_shape = 1\n",
    "    for i in range(1,len(x_shape)):\n",
    "        flatten_shape = flatten_shape * x_shape[i]\n",
    "    \n",
    "    flatten_layer = tf.reshape(x_tensor,[-1,flatten_shape])\n",
    "    return flatten_layer\n",
    "\n",
    "\n",
    "\"\"\"\n",
    "DON'T MODIFY ANYTHING IN THIS CELL THAT IS BELOW THIS LINE\n",
    "\"\"\"\n",
    "tests.test_flatten(flatten)"
   ]
  },
  {
   "cell_type": "markdown",
   "metadata": {
    "deletable": true,
    "editable": true
   },
   "source": [
    "### Fully-Connected Layer\n",
    "Implement the `fully_conn` function to apply a fully connected layer to `x_tensor` with the shape (*Batch Size*, *num_outputs*). You can use [TensorFlow Layers](https://www.tensorflow.org/api_docs/python/tf/layers) or [TensorFlow Layers (contrib)](https://www.tensorflow.org/api_guides/python/contrib.layers) for this layer."
   ]
  },
  {
   "cell_type": "code",
   "execution_count": 101,
   "metadata": {
    "collapsed": false,
    "deletable": true,
    "editable": true
   },
   "outputs": [
    {
     "name": "stdout",
     "output_type": "stream",
     "text": [
      "Tests Passed\n"
     ]
    }
   ],
   "source": [
    "def fully_conn(x_tensor, num_outputs):\n",
    "    \"\"\"\n",
    "    Apply a fully connected layer to x_tensor using weight and bias\n",
    "    : x_tensor: A 2-D tensor where the first dimension is batch size.\n",
    "    : num_outputs: The number of output that the new tensor should be.\n",
    "    : return: A 2-D tensor where the second dimension is num_outputs.\n",
    "    \"\"\"\n",
    "    # TODO: Implement Function\n",
    "    #Initialize weigths and bias\n",
    "    weights = tf.Variable(tf.random_normal([x_tensor.get_shape()[1].value,num_outputs]))\n",
    "    bias = tf.Variable(tf.random_normal([num_outputs]))\n",
    "    #Create the linear fully conneted layer\n",
    "    full_layer = tf.add(tf.matmul(x_tensor,weights),bias)\n",
    "    #Add relu to the ouput of fully_connected layer\n",
    "    full_layer = tf.nn.relu(full_layer)\n",
    "    return full_layer\n",
    "\n",
    "\n",
    "\"\"\"\n",
    "DON'T MODIFY ANYTHING IN THIS CELL THAT IS BELOW THIS LINE\n",
    "\"\"\"\n",
    "tests.test_fully_conn(fully_conn)"
   ]
  },
  {
   "cell_type": "markdown",
   "metadata": {
    "deletable": true,
    "editable": true
   },
   "source": [
    "### Output Layer\n",
    "Implement the `output` function to apply a fully connected layer to `x_tensor` with the shape (*Batch Size*, *num_outputs*). You can use [TensorFlow Layers](https://www.tensorflow.org/api_docs/python/tf/layers) or [TensorFlow Layers (contrib)](https://www.tensorflow.org/api_guides/python/contrib.layers) for this layer.\n",
    "\n",
    "Note: Activation, softmax, or cross entropy shouldn't be applied to this."
   ]
  },
  {
   "cell_type": "code",
   "execution_count": 102,
   "metadata": {
    "collapsed": false,
    "deletable": true,
    "editable": true
   },
   "outputs": [
    {
     "name": "stdout",
     "output_type": "stream",
     "text": [
      "Tests Passed\n"
     ]
    }
   ],
   "source": [
    "def output(x_tensor, num_outputs):\n",
    "    \"\"\"\n",
    "    Apply a output layer to x_tensor using weight and bias\n",
    "    : x_tensor: A 2-D tensor where the first dimension is batch size.\n",
    "    : num_outputs: The number of output that the new tensor should be.\n",
    "    : return: A 2-D tensor where the second dimension is num_outputs.\n",
    "    \"\"\"\n",
    "    # TODO: Implement Function\n",
    "    weights = tf.Variable(tf.truncated_normal((x_tensor.get_shape()[1].value,num_outputs)))\n",
    "    bias = tf.Variable(tf.zeros(num_outputs))\n",
    "    output_layer = tf.add(tf.matmul(x_tensor,weights),bias)\n",
    "    return output_layer\n",
    "\n",
    "\n",
    "\"\"\"\n",
    "DON'T MODIFY ANYTHING IN THIS CELL THAT IS BELOW THIS LINE\n",
    "\"\"\"\n",
    "tests.test_output(output)"
   ]
  },
  {
   "cell_type": "markdown",
   "metadata": {
    "deletable": true,
    "editable": true
   },
   "source": [
    "### Create Convolutional Model\n",
    "Implement the function `conv_net` to create a convolutional neural network model. The function takes in a batch of images, `x`, and outputs logits.  Use the layers you created above to create this model:\n",
    "\n",
    "* Apply 1, 2, or 3 Convolution and Max Pool layers\n",
    "* Apply a Flatten Layer\n",
    "* Apply 1, 2, or 3 Fully Connected Layers\n",
    "* Apply an Output Layer\n",
    "* Return the output\n",
    "* Apply [TensorFlow's Dropout](https://www.tensorflow.org/api_docs/python/tf/nn/dropout) to one or more layers in the model using `keep_prob`. "
   ]
  },
  {
   "cell_type": "code",
   "execution_count": 178,
   "metadata": {
    "collapsed": false,
    "deletable": true,
    "editable": true
   },
   "outputs": [
    {
     "name": "stdout",
     "output_type": "stream",
     "text": [
      "Neural Network Built!\n"
     ]
    }
   ],
   "source": [
    "def conv_net(x, keep_prob):\n",
    "    \"\"\"\n",
    "    Create a convolutional neural network model\n",
    "    : x: Placeholder tensor that holds image data.\n",
    "    : keep_prob: Placeholder tensor that hold dropout keep probability.\n",
    "    : return: Tensor that represents logits\n",
    "    \"\"\"\n",
    "    # TODO: Apply 1, 2, or 3 Convolution and Max Pool layers\n",
    "    #    Play around with different number of outputs, kernel size and stride\n",
    "    # Function Definition from Above:\n",
    "    #    conv2d_maxpool(x_tensor, conv_num_outputs, conv_ksize, conv_strides, pool_ksize, pool_strides)\n",
    "    #Define first convolutional layer, conv_1\n",
    "    conv_1_num_outputs = 32\n",
    "    conv_1_ksize = (5,5)\n",
    "    conv_1_strides = (1,1)\n",
    "    conv_1_pool_ksize = (3,3)\n",
    "    conv_1_pool_strides = (2,2)\n",
    "    conv_1 = conv2d_maxpool(x,conv_1_num_outputs,\n",
    "                            conv_1_ksize,\n",
    "                            conv_1_strides,\n",
    "                            conv_1_pool_ksize,\n",
    "                            conv_1_pool_strides)\n",
    "    #Output of conv_1: 14*14*32\n",
    "    \n",
    "    #Define second convolutional layer, conv_2\n",
    "    conv_2_num_outputs = 96\n",
    "    conv_2_ksize = (5,5)\n",
    "    conv_2_strides = (1,1)\n",
    "    conv_2_pool_ksize = (2,2)\n",
    "    conv_2_pool_strides = (2,2)\n",
    "    conv_2 = conv2d_maxpool(conv_1,conv_2_num_outputs,\n",
    "                            conv_1_ksize,\n",
    "                            conv_1_strides,\n",
    "                            conv_1_pool_ksize,\n",
    "                            conv_1_pool_strides)\n",
    "    #Output of conv_2: 7*7*96\n",
    "    \n",
    "    \n",
    "    #Define thir convolutional layer, conv_3\n",
    "    conv_3_num_outputs = 128\n",
    "    conv_3_ksize = (3,3)\n",
    "    conv_3_strides = (1,1)\n",
    "    conv_3_pool_ksize = (2,2)\n",
    "    conv_3_pool_strides = (2,2)\n",
    "    conv_3 = conv2d_maxpool(conv_2,conv_3_num_outputs,\n",
    "                            conv_3_ksize,\n",
    "                            conv_3_strides,\n",
    "                            conv_3_pool_ksize,\n",
    "                            conv_3_pool_strides)\n",
    "    #Output of conv_2: 3*3*128\n",
    "    \n",
    "    # TODO: Apply a Flatten Layer\n",
    "    # Function Definition from Above:\n",
    "    #   flatten(x_tensor)\n",
    "    flatten_layer = flatten(conv_3)\n",
    "\n",
    "    # TODO: Apply 1, 2, or 3 Fully Connected Layers\n",
    "    #    Play around with different number of outputs\n",
    "    # Function Definition from Above:\n",
    "    #   fully_conn(x_tensor, num_outputs)\n",
    "    \n",
    "    #Define the first fully connected layer,full_1\n",
    "    f1_num_outputs =  512\n",
    "    full_1 = fully_conn(flatten_layer,f1_num_outputs)\n",
    "    #Apply a dropout layer here\n",
    "    full_1 = tf.nn.dropout(full_1,keep_prob)\n",
    "    \n",
    "    #Define the second fully connected layer, full_2\n",
    "    f2_num_outputs = 128\n",
    "    full_2 = fully_conn(full_1,f2_num_outputs)\n",
    "    #Apply a dropout layer here\n",
    "    #full_2 = tf.nn.dropout(full_2,keep_prob)\n",
    "    \n",
    "    \n",
    "    # TODO: Apply an Output Layer\n",
    "    #    Set this to the number of classes\n",
    "    # Function Definition from Above:\n",
    "    #   output(x_tensor, num_outputs)\n",
    "    num_outputs = 10\n",
    "    output_layer = output(full_2,num_outputs)\n",
    "    \n",
    "    # TODO: return output\n",
    "    return output_layer\n",
    "\n",
    "\n",
    "\"\"\"\n",
    "DON'T MODIFY ANYTHING IN THIS CELL THAT IS BELOW THIS LINE\n",
    "\"\"\"\n",
    "\n",
    "##############################\n",
    "## Build the Neural Network ##\n",
    "##############################\n",
    "\n",
    "# Remove previous weights, bias, inputs, etc..\n",
    "tf.reset_default_graph()\n",
    "\n",
    "# Inputs\n",
    "x = neural_net_image_input((32, 32, 3))\n",
    "y = neural_net_label_input(10)\n",
    "keep_prob = neural_net_keep_prob_input()\n",
    "\n",
    "# Model\n",
    "logits = conv_net(x, keep_prob)\n",
    "\n",
    "# Name logits Tensor, so that is can be loaded from disk after training\n",
    "logits = tf.identity(logits, name='logits')\n",
    "\n",
    "# Loss and Optimizer\n",
    "cost = tf.reduce_mean(tf.nn.softmax_cross_entropy_with_logits(logits=logits, labels=y))\n",
    "optimizer = tf.train.AdamOptimizer().minimize(cost)\n",
    "\n",
    "# Accuracy\n",
    "correct_pred = tf.equal(tf.argmax(logits, 1), tf.argmax(y, 1))\n",
    "accuracy = tf.reduce_mean(tf.cast(correct_pred, tf.float32), name='accuracy')\n",
    "\n",
    "tests.test_conv_net(conv_net)"
   ]
  },
  {
   "cell_type": "markdown",
   "metadata": {
    "deletable": true,
    "editable": true
   },
   "source": [
    "## Train the Neural Network\n",
    "### Single Optimization\n",
    "Implement the function `train_neural_network` to do a single optimization.  The optimization should use `optimizer` to optimize in `session` with a `feed_dict` of the following:\n",
    "* `x` for image input\n",
    "* `y` for labels\n",
    "* `keep_prob` for keep probability for dropout\n",
    "\n",
    "This function will be called for each batch, so `tf.global_variables_initializer()` has already been called.\n",
    "\n",
    "Note: Nothing needs to be returned. This function is only optimizing the neural network."
   ]
  },
  {
   "cell_type": "code",
   "execution_count": 179,
   "metadata": {
    "collapsed": false,
    "deletable": true,
    "editable": true
   },
   "outputs": [
    {
     "name": "stdout",
     "output_type": "stream",
     "text": [
      "Tests Passed\n"
     ]
    }
   ],
   "source": [
    "def train_neural_network(session, optimizer, keep_probability, feature_batch, label_batch):\n",
    "    \"\"\"\n",
    "    Optimize the session on a batch of images and labels\n",
    "    : session: Current TensorFlow session\n",
    "    : optimizer: TensorFlow optimizer function\n",
    "    : keep_probability: keep probability\n",
    "    : feature_batch: Batch of Numpy image data\n",
    "    : label_batch: Batch of Numpy label data\n",
    "    \"\"\"\n",
    "    # TODO: Implement Function\n",
    "    session.run(optimizer, feed_dict={x:feature_batch,y:label_batch, keep_prob: keep_probability})\n",
    "    pass\n",
    "\n",
    "\n",
    "\"\"\"\n",
    "DON'T MODIFY ANYTHING IN THIS CELL THAT IS BELOW THIS LINE\n",
    "\"\"\"\n",
    "tests.test_train_nn(train_neural_network)"
   ]
  },
  {
   "cell_type": "markdown",
   "metadata": {
    "deletable": true,
    "editable": true
   },
   "source": [
    "### Show Stats\n",
    "Implement the function `print_stats` to print loss and validation accuracy.  Use the global variables `valid_features` and `valid_labels` to calculate validation accuracy.  Use a keep probability of `1.0` to calculate the loss and validation accuracy."
   ]
  },
  {
   "cell_type": "code",
   "execution_count": 180,
   "metadata": {
    "collapsed": false,
    "deletable": true,
    "editable": true
   },
   "outputs": [],
   "source": [
    "def print_stats(session, feature_batch, label_batch, cost, accuracy):\n",
    "    \"\"\"\n",
    "    Print information about loss and validation accuracy\n",
    "    : session: Current TensorFlow session\n",
    "    : feature_batch: Batch of Numpy image data\n",
    "    : label_batch: Batch of Numpy label data\n",
    "    : cost: TensorFlow cost function\n",
    "    : accuracy: TensorFlow accuracy function\n",
    "    \"\"\"\n",
    "    # TODO: Implement Function\n",
    "    #Compute the loss\n",
    "    loss = session.run(cost,feed_dict={x:feature_batch, y: label_batch, keep_prob: 1.0})\n",
    "    #Compute the validation accuracy\n",
    "    val_accuracy = session.run(accuracy, feed_dict={x:valid_features, y:valid_labels, keep_prob: 1.0})\n",
    "    #print the loss and validation accuracy\n",
    "    print(\"The loss is: {:>10.4f} and the validation_accuracy is {:.6f}\".format(loss, val_accuracy))\n",
    "    pass"
   ]
  },
  {
   "cell_type": "markdown",
   "metadata": {
    "deletable": true,
    "editable": true
   },
   "source": [
    "### Hyperparameters\n",
    "Tune the following parameters:\n",
    "* Set `epochs` to the number of iterations until the network stops learning or start overfitting\n",
    "* Set `batch_size` to the highest number that your machine has memory for.  Most people set them to common sizes of memory:\n",
    " * 64\n",
    " * 128\n",
    " * 256\n",
    " * ...\n",
    "* Set `keep_probability` to the probability of keeping a node using dropout"
   ]
  },
  {
   "cell_type": "code",
   "execution_count": 181,
   "metadata": {
    "collapsed": true,
    "deletable": true,
    "editable": true
   },
   "outputs": [],
   "source": [
    "# TODO: Tune Parameters\n",
    "epochs = 50\n",
    "batch_size = 256\n",
    "keep_probability = 1.0"
   ]
  },
  {
   "cell_type": "markdown",
   "metadata": {
    "deletable": true,
    "editable": true
   },
   "source": [
    "### Train on a Single CIFAR-10 Batch\n",
    "Instead of training the neural network on all the CIFAR-10 batches of data, let's use a single batch. This should save time while you iterate on the model to get a better accuracy.  Once the final validation accuracy is 50% or greater, run the model on all the data in the next section."
   ]
  },
  {
   "cell_type": "code",
   "execution_count": 182,
   "metadata": {
    "collapsed": false,
    "deletable": true,
    "editable": true
   },
   "outputs": [
    {
     "name": "stdout",
     "output_type": "stream",
     "text": [
      "Checking the Training on a Single Batch...\n",
      "Epoch  1, CIFAR-10 Batch 1:  The loss is: 1983252.7500 and the validation_accuracy is 0.155800\n",
      "Epoch  2, CIFAR-10 Batch 1:  The loss is: 1284183.5000 and the validation_accuracy is 0.213400\n",
      "Epoch  3, CIFAR-10 Batch 1:  The loss is: 847588.5000 and the validation_accuracy is 0.242400\n",
      "Epoch  4, CIFAR-10 Batch 1:  The loss is: 577050.4375 and the validation_accuracy is 0.250600\n",
      "Epoch  5, CIFAR-10 Batch 1:  The loss is: 437648.3750 and the validation_accuracy is 0.272400\n",
      "Epoch  6, CIFAR-10 Batch 1:  The loss is: 357279.6875 and the validation_accuracy is 0.282200\n",
      "Epoch  7, CIFAR-10 Batch 1:  The loss is: 293628.4375 and the validation_accuracy is 0.292200\n",
      "Epoch  8, CIFAR-10 Batch 1:  The loss is: 248870.8281 and the validation_accuracy is 0.295400\n",
      "Epoch  9, CIFAR-10 Batch 1:  The loss is: 194966.0938 and the validation_accuracy is 0.297000\n",
      "Epoch 10, CIFAR-10 Batch 1:  The loss is: 158683.3750 and the validation_accuracy is 0.304600\n",
      "Epoch 11, CIFAR-10 Batch 1:  The loss is: 141230.8281 and the validation_accuracy is 0.308600\n",
      "Epoch 12, CIFAR-10 Batch 1:  The loss is: 131510.8750 and the validation_accuracy is 0.308800\n",
      "Epoch 13, CIFAR-10 Batch 1:  The loss is: 108867.4688 and the validation_accuracy is 0.314800\n",
      "Epoch 14, CIFAR-10 Batch 1:  The loss is: 107028.8047 and the validation_accuracy is 0.322400\n",
      "Epoch 15, CIFAR-10 Batch 1:  The loss is: 102369.6406 and the validation_accuracy is 0.320000\n",
      "Epoch 16, CIFAR-10 Batch 1:  The loss is: 113503.4531 and the validation_accuracy is 0.320800\n",
      "Epoch 17, CIFAR-10 Batch 1:  The loss is: 86031.9531 and the validation_accuracy is 0.326800\n",
      "Epoch 18, CIFAR-10 Batch 1:  The loss is: 68684.6953 and the validation_accuracy is 0.325800\n",
      "Epoch 19, CIFAR-10 Batch 1:  The loss is: 62706.9883 and the validation_accuracy is 0.323000\n",
      "Epoch 20, CIFAR-10 Batch 1:  The loss is: 54085.6055 and the validation_accuracy is 0.332400\n",
      "Epoch 21, CIFAR-10 Batch 1:  The loss is: 56409.3594 and the validation_accuracy is 0.329000\n",
      "Epoch 22, CIFAR-10 Batch 1:  The loss is: 50814.8555 and the validation_accuracy is 0.331200\n",
      "Epoch 23, CIFAR-10 Batch 1:  The loss is: 47605.4258 and the validation_accuracy is 0.347800\n",
      "Epoch 24, CIFAR-10 Batch 1:  The loss is: 56605.0078 and the validation_accuracy is 0.353800\n",
      "Epoch 25, CIFAR-10 Batch 1:  The loss is: 38490.4844 and the validation_accuracy is 0.352800\n",
      "Epoch 26, CIFAR-10 Batch 1:  The loss is: 27774.4570 and the validation_accuracy is 0.356200\n",
      "Epoch 27, CIFAR-10 Batch 1:  The loss is: 37024.8438 and the validation_accuracy is 0.356600\n"
     ]
    },
    {
     "ename": "KeyboardInterrupt",
     "evalue": "",
     "output_type": "error",
     "traceback": [
      "\u001b[0;31m---------------------------------------------------------------------------\u001b[0m",
      "\u001b[0;31mKeyboardInterrupt\u001b[0m                         Traceback (most recent call last)",
      "\u001b[0;32m<ipython-input-182-0ebd1bbc35ad>\u001b[0m in \u001b[0;36m<module>\u001b[0;34m()\u001b[0m\n\u001b[1;32m     11\u001b[0m         \u001b[0mbatch_i\u001b[0m \u001b[0;34m=\u001b[0m \u001b[0;36m1\u001b[0m\u001b[0;34m\u001b[0m\u001b[0m\n\u001b[1;32m     12\u001b[0m         \u001b[0;32mfor\u001b[0m \u001b[0mbatch_features\u001b[0m\u001b[0;34m,\u001b[0m \u001b[0mbatch_labels\u001b[0m \u001b[0;32min\u001b[0m \u001b[0mhelper\u001b[0m\u001b[0;34m.\u001b[0m\u001b[0mload_preprocess_training_batch\u001b[0m\u001b[0;34m(\u001b[0m\u001b[0mbatch_i\u001b[0m\u001b[0;34m,\u001b[0m \u001b[0mbatch_size\u001b[0m\u001b[0;34m)\u001b[0m\u001b[0;34m:\u001b[0m\u001b[0;34m\u001b[0m\u001b[0m\n\u001b[0;32m---> 13\u001b[0;31m             \u001b[0mtrain_neural_network\u001b[0m\u001b[0;34m(\u001b[0m\u001b[0msess\u001b[0m\u001b[0;34m,\u001b[0m \u001b[0moptimizer\u001b[0m\u001b[0;34m,\u001b[0m \u001b[0mkeep_probability\u001b[0m\u001b[0;34m,\u001b[0m \u001b[0mbatch_features\u001b[0m\u001b[0;34m,\u001b[0m \u001b[0mbatch_labels\u001b[0m\u001b[0;34m)\u001b[0m\u001b[0;34m\u001b[0m\u001b[0m\n\u001b[0m\u001b[1;32m     14\u001b[0m         \u001b[0mprint\u001b[0m\u001b[0;34m(\u001b[0m\u001b[0;34m'Epoch {:>2}, CIFAR-10 Batch {}:  '\u001b[0m\u001b[0;34m.\u001b[0m\u001b[0mformat\u001b[0m\u001b[0;34m(\u001b[0m\u001b[0mepoch\u001b[0m \u001b[0;34m+\u001b[0m \u001b[0;36m1\u001b[0m\u001b[0;34m,\u001b[0m \u001b[0mbatch_i\u001b[0m\u001b[0;34m)\u001b[0m\u001b[0;34m,\u001b[0m \u001b[0mend\u001b[0m\u001b[0;34m=\u001b[0m\u001b[0;34m''\u001b[0m\u001b[0;34m)\u001b[0m\u001b[0;34m\u001b[0m\u001b[0m\n\u001b[1;32m     15\u001b[0m         \u001b[0mprint_stats\u001b[0m\u001b[0;34m(\u001b[0m\u001b[0msess\u001b[0m\u001b[0;34m,\u001b[0m \u001b[0mbatch_features\u001b[0m\u001b[0;34m,\u001b[0m \u001b[0mbatch_labels\u001b[0m\u001b[0;34m,\u001b[0m \u001b[0mcost\u001b[0m\u001b[0;34m,\u001b[0m \u001b[0maccuracy\u001b[0m\u001b[0;34m)\u001b[0m\u001b[0;34m\u001b[0m\u001b[0m\n",
      "\u001b[0;32m<ipython-input-179-89f3f7140264>\u001b[0m in \u001b[0;36mtrain_neural_network\u001b[0;34m(session, optimizer, keep_probability, feature_batch, label_batch)\u001b[0m\n\u001b[1;32m      9\u001b[0m     \"\"\"\n\u001b[1;32m     10\u001b[0m     \u001b[0;31m# TODO: Implement Function\u001b[0m\u001b[0;34m\u001b[0m\u001b[0;34m\u001b[0m\u001b[0m\n\u001b[0;32m---> 11\u001b[0;31m     \u001b[0msession\u001b[0m\u001b[0;34m.\u001b[0m\u001b[0mrun\u001b[0m\u001b[0;34m(\u001b[0m\u001b[0moptimizer\u001b[0m\u001b[0;34m,\u001b[0m \u001b[0mfeed_dict\u001b[0m\u001b[0;34m=\u001b[0m\u001b[0;34m{\u001b[0m\u001b[0mx\u001b[0m\u001b[0;34m:\u001b[0m\u001b[0mfeature_batch\u001b[0m\u001b[0;34m,\u001b[0m\u001b[0my\u001b[0m\u001b[0;34m:\u001b[0m\u001b[0mlabel_batch\u001b[0m\u001b[0;34m,\u001b[0m \u001b[0mkeep_prob\u001b[0m\u001b[0;34m:\u001b[0m \u001b[0mkeep_probability\u001b[0m\u001b[0;34m}\u001b[0m\u001b[0;34m)\u001b[0m\u001b[0;34m\u001b[0m\u001b[0m\n\u001b[0m\u001b[1;32m     12\u001b[0m     \u001b[0;32mpass\u001b[0m\u001b[0;34m\u001b[0m\u001b[0m\n\u001b[1;32m     13\u001b[0m \u001b[0;34m\u001b[0m\u001b[0m\n",
      "\u001b[0;32m/home/carnd/anaconda3/envs/dl/lib/python3.5/site-packages/tensorflow/python/client/session.py\u001b[0m in \u001b[0;36mrun\u001b[0;34m(self, fetches, feed_dict, options, run_metadata)\u001b[0m\n\u001b[1;32m    765\u001b[0m     \u001b[0;32mtry\u001b[0m\u001b[0;34m:\u001b[0m\u001b[0;34m\u001b[0m\u001b[0m\n\u001b[1;32m    766\u001b[0m       result = self._run(None, fetches, feed_dict, options_ptr,\n\u001b[0;32m--> 767\u001b[0;31m                          run_metadata_ptr)\n\u001b[0m\u001b[1;32m    768\u001b[0m       \u001b[0;32mif\u001b[0m \u001b[0mrun_metadata\u001b[0m\u001b[0;34m:\u001b[0m\u001b[0;34m\u001b[0m\u001b[0m\n\u001b[1;32m    769\u001b[0m         \u001b[0mproto_data\u001b[0m \u001b[0;34m=\u001b[0m \u001b[0mtf_session\u001b[0m\u001b[0;34m.\u001b[0m\u001b[0mTF_GetBuffer\u001b[0m\u001b[0;34m(\u001b[0m\u001b[0mrun_metadata_ptr\u001b[0m\u001b[0;34m)\u001b[0m\u001b[0;34m\u001b[0m\u001b[0m\n",
      "\u001b[0;32m/home/carnd/anaconda3/envs/dl/lib/python3.5/site-packages/tensorflow/python/client/session.py\u001b[0m in \u001b[0;36m_run\u001b[0;34m(self, handle, fetches, feed_dict, options, run_metadata)\u001b[0m\n\u001b[1;32m    963\u001b[0m     \u001b[0;32mif\u001b[0m \u001b[0mfinal_fetches\u001b[0m \u001b[0;32mor\u001b[0m \u001b[0mfinal_targets\u001b[0m\u001b[0;34m:\u001b[0m\u001b[0;34m\u001b[0m\u001b[0m\n\u001b[1;32m    964\u001b[0m       results = self._do_run(handle, final_targets, final_fetches,\n\u001b[0;32m--> 965\u001b[0;31m                              feed_dict_string, options, run_metadata)\n\u001b[0m\u001b[1;32m    966\u001b[0m     \u001b[0;32melse\u001b[0m\u001b[0;34m:\u001b[0m\u001b[0;34m\u001b[0m\u001b[0m\n\u001b[1;32m    967\u001b[0m       \u001b[0mresults\u001b[0m \u001b[0;34m=\u001b[0m \u001b[0;34m[\u001b[0m\u001b[0;34m]\u001b[0m\u001b[0;34m\u001b[0m\u001b[0m\n",
      "\u001b[0;32m/home/carnd/anaconda3/envs/dl/lib/python3.5/site-packages/tensorflow/python/client/session.py\u001b[0m in \u001b[0;36m_do_run\u001b[0;34m(self, handle, target_list, fetch_list, feed_dict, options, run_metadata)\u001b[0m\n\u001b[1;32m   1013\u001b[0m     \u001b[0;32mif\u001b[0m \u001b[0mhandle\u001b[0m \u001b[0;32mis\u001b[0m \u001b[0;32mNone\u001b[0m\u001b[0;34m:\u001b[0m\u001b[0;34m\u001b[0m\u001b[0m\n\u001b[1;32m   1014\u001b[0m       return self._do_call(_run_fn, self._session, feed_dict, fetch_list,\n\u001b[0;32m-> 1015\u001b[0;31m                            target_list, options, run_metadata)\n\u001b[0m\u001b[1;32m   1016\u001b[0m     \u001b[0;32melse\u001b[0m\u001b[0;34m:\u001b[0m\u001b[0;34m\u001b[0m\u001b[0m\n\u001b[1;32m   1017\u001b[0m       return self._do_call(_prun_fn, self._session, handle, feed_dict,\n",
      "\u001b[0;32m/home/carnd/anaconda3/envs/dl/lib/python3.5/site-packages/tensorflow/python/client/session.py\u001b[0m in \u001b[0;36m_do_call\u001b[0;34m(self, fn, *args)\u001b[0m\n\u001b[1;32m   1020\u001b[0m   \u001b[0;32mdef\u001b[0m \u001b[0m_do_call\u001b[0m\u001b[0;34m(\u001b[0m\u001b[0mself\u001b[0m\u001b[0;34m,\u001b[0m \u001b[0mfn\u001b[0m\u001b[0;34m,\u001b[0m \u001b[0;34m*\u001b[0m\u001b[0margs\u001b[0m\u001b[0;34m)\u001b[0m\u001b[0;34m:\u001b[0m\u001b[0;34m\u001b[0m\u001b[0m\n\u001b[1;32m   1021\u001b[0m     \u001b[0;32mtry\u001b[0m\u001b[0;34m:\u001b[0m\u001b[0;34m\u001b[0m\u001b[0m\n\u001b[0;32m-> 1022\u001b[0;31m       \u001b[0;32mreturn\u001b[0m \u001b[0mfn\u001b[0m\u001b[0;34m(\u001b[0m\u001b[0;34m*\u001b[0m\u001b[0margs\u001b[0m\u001b[0;34m)\u001b[0m\u001b[0;34m\u001b[0m\u001b[0m\n\u001b[0m\u001b[1;32m   1023\u001b[0m     \u001b[0;32mexcept\u001b[0m \u001b[0merrors\u001b[0m\u001b[0;34m.\u001b[0m\u001b[0mOpError\u001b[0m \u001b[0;32mas\u001b[0m \u001b[0me\u001b[0m\u001b[0;34m:\u001b[0m\u001b[0;34m\u001b[0m\u001b[0m\n\u001b[1;32m   1024\u001b[0m       \u001b[0mmessage\u001b[0m \u001b[0;34m=\u001b[0m \u001b[0mcompat\u001b[0m\u001b[0;34m.\u001b[0m\u001b[0mas_text\u001b[0m\u001b[0;34m(\u001b[0m\u001b[0me\u001b[0m\u001b[0;34m.\u001b[0m\u001b[0mmessage\u001b[0m\u001b[0;34m)\u001b[0m\u001b[0;34m\u001b[0m\u001b[0m\n",
      "\u001b[0;32m/home/carnd/anaconda3/envs/dl/lib/python3.5/site-packages/tensorflow/python/client/session.py\u001b[0m in \u001b[0;36m_run_fn\u001b[0;34m(session, feed_dict, fetch_list, target_list, options, run_metadata)\u001b[0m\n\u001b[1;32m   1002\u001b[0m         return tf_session.TF_Run(session, options,\n\u001b[1;32m   1003\u001b[0m                                  \u001b[0mfeed_dict\u001b[0m\u001b[0;34m,\u001b[0m \u001b[0mfetch_list\u001b[0m\u001b[0;34m,\u001b[0m \u001b[0mtarget_list\u001b[0m\u001b[0;34m,\u001b[0m\u001b[0;34m\u001b[0m\u001b[0m\n\u001b[0;32m-> 1004\u001b[0;31m                                  status, run_metadata)\n\u001b[0m\u001b[1;32m   1005\u001b[0m \u001b[0;34m\u001b[0m\u001b[0m\n\u001b[1;32m   1006\u001b[0m     \u001b[0;32mdef\u001b[0m \u001b[0m_prun_fn\u001b[0m\u001b[0;34m(\u001b[0m\u001b[0msession\u001b[0m\u001b[0;34m,\u001b[0m \u001b[0mhandle\u001b[0m\u001b[0;34m,\u001b[0m \u001b[0mfeed_dict\u001b[0m\u001b[0;34m,\u001b[0m \u001b[0mfetch_list\u001b[0m\u001b[0;34m)\u001b[0m\u001b[0;34m:\u001b[0m\u001b[0;34m\u001b[0m\u001b[0m\n",
      "\u001b[0;31mKeyboardInterrupt\u001b[0m: "
     ]
    }
   ],
   "source": [
    "\"\"\"\n",
    "DON'T MODIFY ANYTHING IN THIS CELL\n",
    "\"\"\"\n",
    "print('Checking the Training on a Single Batch...')\n",
    "with tf.Session() as sess:\n",
    "    # Initializing the variables\n",
    "    sess.run(tf.global_variables_initializer())\n",
    "    \n",
    "    # Training cycle\n",
    "    for epoch in range(epochs):\n",
    "        batch_i = 1\n",
    "        for batch_features, batch_labels in helper.load_preprocess_training_batch(batch_i, batch_size):\n",
    "            train_neural_network(sess, optimizer, keep_probability, batch_features, batch_labels)\n",
    "        print('Epoch {:>2}, CIFAR-10 Batch {}:  '.format(epoch + 1, batch_i), end='')\n",
    "        print_stats(sess, batch_features, batch_labels, cost, accuracy)"
   ]
  },
  {
   "cell_type": "markdown",
   "metadata": {
    "deletable": true,
    "editable": true
   },
   "source": [
    "### Fully Train the Model\n",
    "Now that you got a good accuracy with a single CIFAR-10 batch, try it with all five batches."
   ]
  },
  {
   "cell_type": "code",
   "execution_count": 183,
   "metadata": {
    "collapsed": false,
    "deletable": true,
    "editable": true
   },
   "outputs": [
    {
     "name": "stdout",
     "output_type": "stream",
     "text": [
      "Training...\n",
      "Epoch  1, CIFAR-10 Batch 1:  The loss is: 2326217.2500 and the validation_accuracy is 0.157200\n",
      "Epoch  1, CIFAR-10 Batch 2:  The loss is: 1551230.1250 and the validation_accuracy is 0.201200\n",
      "Epoch  1, CIFAR-10 Batch 3:  The loss is: 1055298.5000 and the validation_accuracy is 0.247600\n",
      "Epoch  1, CIFAR-10 Batch 4:  The loss is: 1278926.8750 and the validation_accuracy is 0.264200\n",
      "Epoch  1, CIFAR-10 Batch 5:  The loss is: 1184787.7500 and the validation_accuracy is 0.277400\n",
      "Epoch  2, CIFAR-10 Batch 1:  The loss is: 893113.0000 and the validation_accuracy is 0.280200\n",
      "Epoch  2, CIFAR-10 Batch 2:  The loss is: 713449.3125 and the validation_accuracy is 0.288200\n",
      "Epoch  2, CIFAR-10 Batch 3:  The loss is: 632598.3750 and the validation_accuracy is 0.304400\n",
      "Epoch  2, CIFAR-10 Batch 4:  The loss is: 875198.0625 and the validation_accuracy is 0.301000\n",
      "Epoch  2, CIFAR-10 Batch 5:  The loss is: 704607.0000 and the validation_accuracy is 0.301400\n",
      "Epoch  3, CIFAR-10 Batch 1:  The loss is: 597999.5625 and the validation_accuracy is 0.310000\n",
      "Epoch  3, CIFAR-10 Batch 2:  The loss is: 421804.9375 and the validation_accuracy is 0.312400\n",
      "Epoch  3, CIFAR-10 Batch 3:  The loss is: 403347.9688 and the validation_accuracy is 0.322800\n",
      "Epoch  3, CIFAR-10 Batch 4:  The loss is: 629666.1250 and the validation_accuracy is 0.334000\n",
      "Epoch  3, CIFAR-10 Batch 5:  The loss is: 479300.0000 and the validation_accuracy is 0.323600\n",
      "Epoch  4, CIFAR-10 Batch 1:  The loss is: 498855.0312 and the validation_accuracy is 0.328400\n",
      "Epoch  4, CIFAR-10 Batch 2:  The loss is: 313265.3750 and the validation_accuracy is 0.329400\n",
      "Epoch  4, CIFAR-10 Batch 3:  The loss is: 291618.9062 and the validation_accuracy is 0.327800\n",
      "Epoch  4, CIFAR-10 Batch 4:  The loss is: 481336.2500 and the validation_accuracy is 0.348200\n",
      "Epoch  4, CIFAR-10 Batch 5:  The loss is: 336144.5938 and the validation_accuracy is 0.337600\n",
      "Epoch  5, CIFAR-10 Batch 1:  The loss is: 439326.8125 and the validation_accuracy is 0.347000\n",
      "Epoch  5, CIFAR-10 Batch 2:  The loss is: 219374.2188 and the validation_accuracy is 0.348600\n",
      "Epoch  5, CIFAR-10 Batch 3:  The loss is: 242757.0312 and the validation_accuracy is 0.341000\n",
      "Epoch  5, CIFAR-10 Batch 4:  The loss is: 342082.8750 and the validation_accuracy is 0.360200\n",
      "Epoch  5, CIFAR-10 Batch 5:  The loss is: 248687.9375 and the validation_accuracy is 0.360600\n",
      "Epoch  6, CIFAR-10 Batch 1:  The loss is: 357196.8438 and the validation_accuracy is 0.359400\n",
      "Epoch  6, CIFAR-10 Batch 2:  The loss is: 180309.9062 and the validation_accuracy is 0.358400\n",
      "Epoch  6, CIFAR-10 Batch 3:  The loss is: 193803.3750 and the validation_accuracy is 0.362600\n",
      "Epoch  6, CIFAR-10 Batch 4:  The loss is: 273676.0000 and the validation_accuracy is 0.374200\n",
      "Epoch  6, CIFAR-10 Batch 5:  The loss is: 171147.9688 and the validation_accuracy is 0.366400\n",
      "Epoch  7, CIFAR-10 Batch 1:  The loss is: 300824.8750 and the validation_accuracy is 0.378000\n",
      "Epoch  7, CIFAR-10 Batch 2:  The loss is: 148011.0312 and the validation_accuracy is 0.376200\n",
      "Epoch  7, CIFAR-10 Batch 3:  The loss is: 156979.1250 and the validation_accuracy is 0.371200\n",
      "Epoch  7, CIFAR-10 Batch 4:  The loss is: 227025.7500 and the validation_accuracy is 0.383000\n",
      "Epoch  7, CIFAR-10 Batch 5:  The loss is: 159273.2500 and the validation_accuracy is 0.380000\n",
      "Epoch  8, CIFAR-10 Batch 1:  The loss is: 230839.7188 and the validation_accuracy is 0.386000\n",
      "Epoch  8, CIFAR-10 Batch 2:  The loss is: 123269.2031 and the validation_accuracy is 0.390000\n",
      "Epoch  8, CIFAR-10 Batch 3:  The loss is: 134091.5000 and the validation_accuracy is 0.380000\n",
      "Epoch  8, CIFAR-10 Batch 4:  The loss is: 186026.6094 and the validation_accuracy is 0.389200\n",
      "Epoch  8, CIFAR-10 Batch 5:  The loss is: 142381.7188 and the validation_accuracy is 0.381000\n",
      "Epoch  9, CIFAR-10 Batch 1:  The loss is: 191969.8750 and the validation_accuracy is 0.389200\n",
      "Epoch  9, CIFAR-10 Batch 2:  The loss is: 86705.1953 and the validation_accuracy is 0.395200\n",
      "Epoch  9, CIFAR-10 Batch 3:  The loss is: 105118.1406 and the validation_accuracy is 0.399600\n",
      "Epoch  9, CIFAR-10 Batch 4:  The loss is: 171394.5625 and the validation_accuracy is 0.396600\n",
      "Epoch  9, CIFAR-10 Batch 5:  The loss is: 127354.5938 and the validation_accuracy is 0.385400\n",
      "Epoch 10, CIFAR-10 Batch 1:  The loss is: 144343.7188 and the validation_accuracy is 0.398400\n",
      "Epoch 10, CIFAR-10 Batch 2:  The loss is: 78316.2578 and the validation_accuracy is 0.399000\n",
      "Epoch 10, CIFAR-10 Batch 3:  The loss is: 75140.7969 and the validation_accuracy is 0.411600\n",
      "Epoch 10, CIFAR-10 Batch 4:  The loss is: 127732.9844 and the validation_accuracy is 0.408800\n",
      "Epoch 10, CIFAR-10 Batch 5:  The loss is: 95493.7969 and the validation_accuracy is 0.393600\n",
      "Epoch 11, CIFAR-10 Batch 1:  The loss is: 121530.1016 and the validation_accuracy is 0.399800\n",
      "Epoch 11, CIFAR-10 Batch 2:  The loss is: 68652.7891 and the validation_accuracy is 0.400400\n",
      "Epoch 11, CIFAR-10 Batch 3:  The loss is: 60567.9180 and the validation_accuracy is 0.414200\n",
      "Epoch 11, CIFAR-10 Batch 4:  The loss is: 125170.4297 and the validation_accuracy is 0.404400\n",
      "Epoch 11, CIFAR-10 Batch 5:  The loss is: 83543.1094 and the validation_accuracy is 0.407600\n",
      "Epoch 12, CIFAR-10 Batch 1:  The loss is: 96743.5234 and the validation_accuracy is 0.418000\n",
      "Epoch 12, CIFAR-10 Batch 2:  The loss is: 49254.8828 and the validation_accuracy is 0.400400\n",
      "Epoch 12, CIFAR-10 Batch 3:  The loss is: 54724.7422 and the validation_accuracy is 0.417200\n",
      "Epoch 12, CIFAR-10 Batch 4:  The loss is: 87915.3359 and the validation_accuracy is 0.412000\n",
      "Epoch 12, CIFAR-10 Batch 5:  The loss is: 58850.8984 and the validation_accuracy is 0.417000\n",
      "Epoch 13, CIFAR-10 Batch 1:  The loss is: 81972.2031 and the validation_accuracy is 0.422800\n",
      "Epoch 13, CIFAR-10 Batch 2:  The loss is: 47365.6992 and the validation_accuracy is 0.407200\n",
      "Epoch 13, CIFAR-10 Batch 3:  The loss is: 47728.3281 and the validation_accuracy is 0.423000\n",
      "Epoch 13, CIFAR-10 Batch 4:  The loss is: 71389.7812 and the validation_accuracy is 0.418600\n",
      "Epoch 13, CIFAR-10 Batch 5:  The loss is: 51296.5312 and the validation_accuracy is 0.420200\n",
      "Epoch 14, CIFAR-10 Batch 1:  The loss is: 69277.7734 and the validation_accuracy is 0.428200\n",
      "Epoch 14, CIFAR-10 Batch 2:  The loss is: 43324.3594 and the validation_accuracy is 0.403000\n",
      "Epoch 14, CIFAR-10 Batch 3:  The loss is: 35565.4844 and the validation_accuracy is 0.437000\n",
      "Epoch 14, CIFAR-10 Batch 4:  The loss is: 73942.9062 and the validation_accuracy is 0.428800\n",
      "Epoch 14, CIFAR-10 Batch 5:  The loss is: 43396.5000 and the validation_accuracy is 0.428000\n",
      "Epoch 15, CIFAR-10 Batch 1:  The loss is: 65899.9922 and the validation_accuracy is 0.427600\n",
      "Epoch 15, CIFAR-10 Batch 2:  The loss is: 37064.9961 and the validation_accuracy is 0.401800\n",
      "Epoch 15, CIFAR-10 Batch 3:  The loss is: 41814.6719 and the validation_accuracy is 0.431200\n",
      "Epoch 15, CIFAR-10 Batch 4:  The loss is: 77080.9219 and the validation_accuracy is 0.418400\n",
      "Epoch 15, CIFAR-10 Batch 5:  The loss is: 35483.4609 and the validation_accuracy is 0.432600\n",
      "Epoch 16, CIFAR-10 Batch 1:  The loss is: 50457.1562 and the validation_accuracy is 0.434400\n",
      "Epoch 16, CIFAR-10 Batch 2:  The loss is: 35007.0586 and the validation_accuracy is 0.414200\n",
      "Epoch 16, CIFAR-10 Batch 3:  The loss is: 35098.2734 and the validation_accuracy is 0.434400\n",
      "Epoch 16, CIFAR-10 Batch 4:  The loss is: 67128.9766 and the validation_accuracy is 0.428000\n",
      "Epoch 16, CIFAR-10 Batch 5:  The loss is: 23917.1543 and the validation_accuracy is 0.439000\n",
      "Epoch 17, CIFAR-10 Batch 1:  The loss is: 46426.7188 and the validation_accuracy is 0.444800\n",
      "Epoch 17, CIFAR-10 Batch 2:  The loss is: 32820.5781 and the validation_accuracy is 0.414000\n",
      "Epoch 17, CIFAR-10 Batch 3:  The loss is: 28487.9531 and the validation_accuracy is 0.438800\n",
      "Epoch 17, CIFAR-10 Batch 4:  The loss is: 56361.7109 and the validation_accuracy is 0.434200\n",
      "Epoch 17, CIFAR-10 Batch 5:  The loss is: 17285.5977 and the validation_accuracy is 0.439400\n",
      "Epoch 18, CIFAR-10 Batch 1:  The loss is: 44194.9414 and the validation_accuracy is 0.433800\n",
      "Epoch 18, CIFAR-10 Batch 2:  The loss is: 28353.1836 and the validation_accuracy is 0.424000\n",
      "Epoch 18, CIFAR-10 Batch 3:  The loss is: 26747.2578 and the validation_accuracy is 0.438200\n",
      "Epoch 18, CIFAR-10 Batch 4:  The loss is: 47094.6719 and the validation_accuracy is 0.434800\n",
      "Epoch 18, CIFAR-10 Batch 5:  The loss is: 20041.2305 and the validation_accuracy is 0.441800\n",
      "Epoch 19, CIFAR-10 Batch 1:  The loss is: 33151.0312 and the validation_accuracy is 0.434000\n",
      "Epoch 19, CIFAR-10 Batch 2:  The loss is: 28011.2910 and the validation_accuracy is 0.431400\n",
      "Epoch 19, CIFAR-10 Batch 3:  The loss is: 20045.0488 and the validation_accuracy is 0.439000\n",
      "Epoch 19, CIFAR-10 Batch 4:  The loss is: 40947.1406 and the validation_accuracy is 0.430200\n",
      "Epoch 19, CIFAR-10 Batch 5:  The loss is: 18103.0938 and the validation_accuracy is 0.438600\n",
      "Epoch 20, CIFAR-10 Batch 1:  The loss is: 27742.7129 and the validation_accuracy is 0.438000\n",
      "Epoch 20, CIFAR-10 Batch 2:  The loss is: 22304.6875 and the validation_accuracy is 0.430200\n",
      "Epoch 20, CIFAR-10 Batch 3:  The loss is: 18560.3613 and the validation_accuracy is 0.446800\n",
      "Epoch 20, CIFAR-10 Batch 4:  The loss is: 34692.5430 and the validation_accuracy is 0.435400\n",
      "Epoch 20, CIFAR-10 Batch 5:  The loss is: 17100.5078 and the validation_accuracy is 0.444600\n",
      "Epoch 21, CIFAR-10 Batch 1:  The loss is: 24460.0156 and the validation_accuracy is 0.444200\n",
      "Epoch 21, CIFAR-10 Batch 2:  The loss is: 17707.6484 and the validation_accuracy is 0.439200\n",
      "Epoch 21, CIFAR-10 Batch 3:  The loss is: 15814.8701 and the validation_accuracy is 0.456600\n",
      "Epoch 21, CIFAR-10 Batch 4:  The loss is: 27183.6230 and the validation_accuracy is 0.436800\n",
      "Epoch 21, CIFAR-10 Batch 5:  The loss is: 15883.0703 and the validation_accuracy is 0.447800\n",
      "Epoch 22, CIFAR-10 Batch 1:  The loss is: 20508.9805 and the validation_accuracy is 0.440400\n",
      "Epoch 22, CIFAR-10 Batch 2:  The loss is: 17772.6250 and the validation_accuracy is 0.442800\n",
      "Epoch 22, CIFAR-10 Batch 3:  The loss is: 14537.6348 and the validation_accuracy is 0.452400\n",
      "Epoch 22, CIFAR-10 Batch 4:  The loss is: 22312.7891 and the validation_accuracy is 0.448000\n",
      "Epoch 22, CIFAR-10 Batch 5:  The loss is: 10178.9824 and the validation_accuracy is 0.453200\n",
      "Epoch 23, CIFAR-10 Batch 1:  The loss is: 14254.1709 and the validation_accuracy is 0.439400\n",
      "Epoch 23, CIFAR-10 Batch 2:  The loss is: 11263.7041 and the validation_accuracy is 0.439000\n",
      "Epoch 23, CIFAR-10 Batch 3:  The loss is: 12063.9023 and the validation_accuracy is 0.463000\n",
      "Epoch 23, CIFAR-10 Batch 4:  The loss is: 16887.0059 and the validation_accuracy is 0.452200\n",
      "Epoch 23, CIFAR-10 Batch 5:  The loss is:  9407.0586 and the validation_accuracy is 0.452800\n",
      "Epoch 24, CIFAR-10 Batch 1:  The loss is: 14561.8379 and the validation_accuracy is 0.439000\n",
      "Epoch 24, CIFAR-10 Batch 2:  The loss is:  9183.6172 and the validation_accuracy is 0.442000\n",
      "Epoch 24, CIFAR-10 Batch 3:  The loss is: 10749.1045 and the validation_accuracy is 0.465200\n",
      "Epoch 24, CIFAR-10 Batch 4:  The loss is: 15894.9863 and the validation_accuracy is 0.453000\n",
      "Epoch 24, CIFAR-10 Batch 5:  The loss is:  7239.2593 and the validation_accuracy is 0.458400\n",
      "Epoch 25, CIFAR-10 Batch 1:  The loss is: 11067.0566 and the validation_accuracy is 0.442000\n",
      "Epoch 25, CIFAR-10 Batch 2:  The loss is:  7470.9443 and the validation_accuracy is 0.444200\n",
      "Epoch 25, CIFAR-10 Batch 3:  The loss is:  8503.2129 and the validation_accuracy is 0.463400\n",
      "Epoch 25, CIFAR-10 Batch 4:  The loss is: 15520.6836 and the validation_accuracy is 0.455600\n",
      "Epoch 25, CIFAR-10 Batch 5:  The loss is:  7353.8877 and the validation_accuracy is 0.457000\n",
      "Epoch 26, CIFAR-10 Batch 1:  The loss is: 10468.1211 and the validation_accuracy is 0.454600\n",
      "Epoch 26, CIFAR-10 Batch 2:  The loss is:  3491.4109 and the validation_accuracy is 0.442600\n",
      "Epoch 26, CIFAR-10 Batch 3:  The loss is:  5780.3320 and the validation_accuracy is 0.463400\n",
      "Epoch 26, CIFAR-10 Batch 4:  The loss is: 13125.0742 and the validation_accuracy is 0.454400\n",
      "Epoch 26, CIFAR-10 Batch 5:  The loss is:  7206.2983 and the validation_accuracy is 0.463800\n",
      "Epoch 27, CIFAR-10 Batch 1:  The loss is:  9514.7002 and the validation_accuracy is 0.455200\n",
      "Epoch 27, CIFAR-10 Batch 2:  The loss is:  2744.2578 and the validation_accuracy is 0.441200\n",
      "Epoch 27, CIFAR-10 Batch 3:  The loss is:  4807.7710 and the validation_accuracy is 0.468200\n",
      "Epoch 27, CIFAR-10 Batch 4:  The loss is:  9149.3262 and the validation_accuracy is 0.460200\n",
      "Epoch 27, CIFAR-10 Batch 5:  The loss is:  6675.1953 and the validation_accuracy is 0.457400\n",
      "Epoch 28, CIFAR-10 Batch 1:  The loss is: 10151.0449 and the validation_accuracy is 0.465200\n",
      "Epoch 28, CIFAR-10 Batch 2:  The loss is:  2562.7539 and the validation_accuracy is 0.447800\n",
      "Epoch 28, CIFAR-10 Batch 3:  The loss is:  3991.9790 and the validation_accuracy is 0.472800\n",
      "Epoch 28, CIFAR-10 Batch 4:  The loss is:  6966.9897 and the validation_accuracy is 0.469800\n",
      "Epoch 28, CIFAR-10 Batch 5:  The loss is:  8595.1787 and the validation_accuracy is 0.460200\n",
      "Epoch 29, CIFAR-10 Batch 1:  The loss is:  9729.4004 and the validation_accuracy is 0.470000\n",
      "Epoch 29, CIFAR-10 Batch 2:  The loss is:   808.2344 and the validation_accuracy is 0.446400\n",
      "Epoch 29, CIFAR-10 Batch 3:  The loss is:  2445.9600 and the validation_accuracy is 0.474000\n",
      "Epoch 29, CIFAR-10 Batch 4:  The loss is:  6583.4106 and the validation_accuracy is 0.474600\n",
      "Epoch 29, CIFAR-10 Batch 5:  The loss is:  4643.0815 and the validation_accuracy is 0.465800\n",
      "Epoch 30, CIFAR-10 Batch 1:  The loss is: 10327.3691 and the validation_accuracy is 0.472000\n",
      "Epoch 30, CIFAR-10 Batch 2:  The loss is:  1857.3782 and the validation_accuracy is 0.452000\n",
      "Epoch 30, CIFAR-10 Batch 3:  The loss is:  3623.6943 and the validation_accuracy is 0.479800\n",
      "Epoch 30, CIFAR-10 Batch 4:  The loss is:  4473.5229 and the validation_accuracy is 0.475600\n",
      "Epoch 30, CIFAR-10 Batch 5:  The loss is:  6451.4507 and the validation_accuracy is 0.466600\n",
      "Epoch 31, CIFAR-10 Batch 1:  The loss is:  7626.5186 and the validation_accuracy is 0.468000\n",
      "Epoch 31, CIFAR-10 Batch 2:  The loss is:   574.9641 and the validation_accuracy is 0.447000\n",
      "Epoch 31, CIFAR-10 Batch 3:  The loss is:  2896.5635 and the validation_accuracy is 0.486600\n",
      "Epoch 31, CIFAR-10 Batch 4:  The loss is:  5491.3164 and the validation_accuracy is 0.477800\n",
      "Epoch 31, CIFAR-10 Batch 5:  The loss is:  3336.1548 and the validation_accuracy is 0.474200\n",
      "Epoch 32, CIFAR-10 Batch 1:  The loss is:  6130.8164 and the validation_accuracy is 0.478600\n",
      "Epoch 32, CIFAR-10 Batch 2:  The loss is:  1086.4188 and the validation_accuracy is 0.448800\n",
      "Epoch 32, CIFAR-10 Batch 3:  The loss is:  2866.4731 and the validation_accuracy is 0.484200\n",
      "Epoch 32, CIFAR-10 Batch 4:  The loss is:  6526.6772 and the validation_accuracy is 0.476600\n",
      "Epoch 32, CIFAR-10 Batch 5:  The loss is:  5712.6255 and the validation_accuracy is 0.475800\n",
      "Epoch 33, CIFAR-10 Batch 1:  The loss is:  4954.4009 and the validation_accuracy is 0.475400\n",
      "Epoch 33, CIFAR-10 Batch 2:  The loss is:  1435.2656 and the validation_accuracy is 0.454600\n",
      "Epoch 33, CIFAR-10 Batch 3:  The loss is:  3003.5032 and the validation_accuracy is 0.485800\n",
      "Epoch 33, CIFAR-10 Batch 4:  The loss is:  5547.0991 and the validation_accuracy is 0.477200\n",
      "Epoch 33, CIFAR-10 Batch 5:  The loss is:  4203.7515 and the validation_accuracy is 0.476200\n",
      "Epoch 34, CIFAR-10 Batch 1:  The loss is:  7604.7061 and the validation_accuracy is 0.479400\n",
      "Epoch 34, CIFAR-10 Batch 2:  The loss is:  2339.7485 and the validation_accuracy is 0.446400\n",
      "Epoch 34, CIFAR-10 Batch 3:  The loss is:  1249.7383 and the validation_accuracy is 0.481600\n",
      "Epoch 34, CIFAR-10 Batch 4:  The loss is:  6495.7954 and the validation_accuracy is 0.473800\n",
      "Epoch 34, CIFAR-10 Batch 5:  The loss is:  6903.0576 and the validation_accuracy is 0.466600\n",
      "Epoch 35, CIFAR-10 Batch 1:  The loss is:  5346.4297 and the validation_accuracy is 0.482200\n",
      "Epoch 35, CIFAR-10 Batch 2:  The loss is:   709.2695 and the validation_accuracy is 0.460400\n",
      "Epoch 35, CIFAR-10 Batch 3:  The loss is:     0.0000 and the validation_accuracy is 0.485400\n",
      "Epoch 35, CIFAR-10 Batch 4:  The loss is:  4422.1294 and the validation_accuracy is 0.470000\n",
      "Epoch 35, CIFAR-10 Batch 5:  The loss is:  7307.7603 and the validation_accuracy is 0.467800\n",
      "Epoch 36, CIFAR-10 Batch 1:  The loss is:  7996.1221 and the validation_accuracy is 0.474200\n",
      "Epoch 36, CIFAR-10 Batch 2:  The loss is:    40.7609 and the validation_accuracy is 0.457600\n",
      "Epoch 36, CIFAR-10 Batch 3:  The loss is:   754.0477 and the validation_accuracy is 0.478400\n",
      "Epoch 36, CIFAR-10 Batch 4:  The loss is:  4217.4663 and the validation_accuracy is 0.465200\n",
      "Epoch 36, CIFAR-10 Batch 5:  The loss is:  6186.9517 and the validation_accuracy is 0.474800\n",
      "Epoch 37, CIFAR-10 Batch 1:  The loss is:  6302.0146 and the validation_accuracy is 0.485200\n",
      "Epoch 37, CIFAR-10 Batch 2:  The loss is:     0.0000 and the validation_accuracy is 0.470800\n",
      "Epoch 37, CIFAR-10 Batch 3:  The loss is:     0.0000 and the validation_accuracy is 0.483400\n",
      "Epoch 37, CIFAR-10 Batch 4:  The loss is:  3817.3887 and the validation_accuracy is 0.462800\n",
      "Epoch 37, CIFAR-10 Batch 5:  The loss is:  5339.8022 and the validation_accuracy is 0.473000\n",
      "Epoch 38, CIFAR-10 Batch 1:  The loss is:  3834.4131 and the validation_accuracy is 0.487200\n",
      "Epoch 38, CIFAR-10 Batch 2:  The loss is:   777.2766 and the validation_accuracy is 0.473200\n",
      "Epoch 38, CIFAR-10 Batch 3:  The loss is:   208.9563 and the validation_accuracy is 0.482800\n",
      "Epoch 38, CIFAR-10 Batch 4:  The loss is:  4115.4326 and the validation_accuracy is 0.468200\n",
      "Epoch 38, CIFAR-10 Batch 5:  The loss is:  3400.6936 and the validation_accuracy is 0.478800\n",
      "Epoch 39, CIFAR-10 Batch 1:  The loss is:  4343.8467 and the validation_accuracy is 0.492000\n",
      "Epoch 39, CIFAR-10 Batch 2:  The loss is:  1340.9606 and the validation_accuracy is 0.468200\n",
      "Epoch 39, CIFAR-10 Batch 3:  The loss is:     0.0000 and the validation_accuracy is 0.490800\n",
      "Epoch 39, CIFAR-10 Batch 4:  The loss is:  3217.7271 and the validation_accuracy is 0.465800\n",
      "Epoch 39, CIFAR-10 Batch 5:  The loss is:  3395.2012 and the validation_accuracy is 0.478200\n",
      "Epoch 40, CIFAR-10 Batch 1:  The loss is:  3514.4590 and the validation_accuracy is 0.496000\n",
      "Epoch 40, CIFAR-10 Batch 2:  The loss is:   124.6828 and the validation_accuracy is 0.472400\n",
      "Epoch 40, CIFAR-10 Batch 3:  The loss is:   532.4984 and the validation_accuracy is 0.491200\n",
      "Epoch 40, CIFAR-10 Batch 4:  The loss is:  4293.7944 and the validation_accuracy is 0.458400\n",
      "Epoch 40, CIFAR-10 Batch 5:  The loss is:  2695.3130 and the validation_accuracy is 0.473400\n",
      "Epoch 41, CIFAR-10 Batch 1:  The loss is:  4094.4053 and the validation_accuracy is 0.497400\n",
      "Epoch 41, CIFAR-10 Batch 2:  The loss is:  1623.9543 and the validation_accuracy is 0.463000\n",
      "Epoch 41, CIFAR-10 Batch 3:  The loss is:   914.5571 and the validation_accuracy is 0.483800\n",
      "Epoch 41, CIFAR-10 Batch 4:  The loss is:  2899.2146 and the validation_accuracy is 0.475600\n",
      "Epoch 41, CIFAR-10 Batch 5:  The loss is:  3115.5237 and the validation_accuracy is 0.472600\n",
      "Epoch 42, CIFAR-10 Batch 1:  The loss is:  2077.0242 and the validation_accuracy is 0.491400\n",
      "Epoch 42, CIFAR-10 Batch 2:  The loss is:   332.8574 and the validation_accuracy is 0.474600\n",
      "Epoch 42, CIFAR-10 Batch 3:  The loss is:   600.4855 and the validation_accuracy is 0.480600\n",
      "Epoch 42, CIFAR-10 Batch 4:  The loss is:  1631.0817 and the validation_accuracy is 0.487600\n",
      "Epoch 42, CIFAR-10 Batch 5:  The loss is:  1658.8890 and the validation_accuracy is 0.477800\n",
      "Epoch 43, CIFAR-10 Batch 1:  The loss is:  2296.4954 and the validation_accuracy is 0.488400\n",
      "Epoch 43, CIFAR-10 Batch 2:  The loss is:     0.0000 and the validation_accuracy is 0.464600\n",
      "Epoch 43, CIFAR-10 Batch 3:  The loss is:   470.6688 and the validation_accuracy is 0.487400\n",
      "Epoch 43, CIFAR-10 Batch 4:  The loss is:  2020.5122 and the validation_accuracy is 0.480600\n",
      "Epoch 43, CIFAR-10 Batch 5:  The loss is:  1786.8430 and the validation_accuracy is 0.486800\n",
      "Epoch 44, CIFAR-10 Batch 1:  The loss is:  2991.6257 and the validation_accuracy is 0.486600\n",
      "Epoch 44, CIFAR-10 Batch 2:  The loss is:   903.5211 and the validation_accuracy is 0.471800\n",
      "Epoch 44, CIFAR-10 Batch 3:  The loss is:   167.9594 and the validation_accuracy is 0.488600\n",
      "Epoch 44, CIFAR-10 Batch 4:  The loss is:  1854.2593 and the validation_accuracy is 0.486600\n",
      "Epoch 44, CIFAR-10 Batch 5:  The loss is:   785.5582 and the validation_accuracy is 0.498400\n",
      "Epoch 45, CIFAR-10 Batch 1:  The loss is:  2737.4143 and the validation_accuracy is 0.483800\n",
      "Epoch 45, CIFAR-10 Batch 2:  The loss is:  2505.2083 and the validation_accuracy is 0.447200\n",
      "Epoch 45, CIFAR-10 Batch 3:  The loss is:  1275.7766 and the validation_accuracy is 0.482200\n",
      "Epoch 45, CIFAR-10 Batch 4:  The loss is:  2515.0813 and the validation_accuracy is 0.494800\n",
      "Epoch 45, CIFAR-10 Batch 5:  The loss is:  2632.2056 and the validation_accuracy is 0.491600\n",
      "Epoch 46, CIFAR-10 Batch 1:  The loss is:  1067.0648 and the validation_accuracy is 0.497600\n",
      "Epoch 46, CIFAR-10 Batch 2:  The loss is:   913.5571 and the validation_accuracy is 0.467000\n",
      "Epoch 46, CIFAR-10 Batch 3:  The loss is:  1426.8110 and the validation_accuracy is 0.481600\n",
      "Epoch 46, CIFAR-10 Batch 4:  The loss is:  2057.7290 and the validation_accuracy is 0.486800\n",
      "Epoch 46, CIFAR-10 Batch 5:  The loss is:  3816.9668 and the validation_accuracy is 0.498000\n",
      "Epoch 47, CIFAR-10 Batch 1:  The loss is:   128.1461 and the validation_accuracy is 0.493200\n",
      "Epoch 47, CIFAR-10 Batch 2:  The loss is:   594.3656 and the validation_accuracy is 0.470800\n",
      "Epoch 47, CIFAR-10 Batch 3:  The loss is:   421.4315 and the validation_accuracy is 0.475600\n",
      "Epoch 47, CIFAR-10 Batch 4:  The loss is:  2417.8923 and the validation_accuracy is 0.488600\n",
      "Epoch 47, CIFAR-10 Batch 5:  The loss is:  2717.6150 and the validation_accuracy is 0.500400\n",
      "Epoch 48, CIFAR-10 Batch 1:  The loss is:   325.1793 and the validation_accuracy is 0.492600\n",
      "Epoch 48, CIFAR-10 Batch 2:  The loss is:   211.9684 and the validation_accuracy is 0.473400\n",
      "Epoch 48, CIFAR-10 Batch 3:  The loss is:   630.6715 and the validation_accuracy is 0.471800\n",
      "Epoch 48, CIFAR-10 Batch 4:  The loss is:   223.9957 and the validation_accuracy is 0.493800\n",
      "Epoch 48, CIFAR-10 Batch 5:  The loss is:  1733.4880 and the validation_accuracy is 0.509800\n",
      "Epoch 49, CIFAR-10 Batch 1:  The loss is:     0.0000 and the validation_accuracy is 0.497800\n",
      "Epoch 49, CIFAR-10 Batch 2:  The loss is:    70.7570 and the validation_accuracy is 0.472000\n",
      "Epoch 49, CIFAR-10 Batch 3:  The loss is:    94.7387 and the validation_accuracy is 0.485000\n",
      "Epoch 49, CIFAR-10 Batch 4:  The loss is:  1151.2426 and the validation_accuracy is 0.480200\n",
      "Epoch 49, CIFAR-10 Batch 5:  The loss is:  1174.3324 and the validation_accuracy is 0.503000\n",
      "Epoch 50, CIFAR-10 Batch 1:  The loss is:   385.2953 and the validation_accuracy is 0.491200\n",
      "Epoch 50, CIFAR-10 Batch 2:  The loss is:   643.3406 and the validation_accuracy is 0.475000\n",
      "Epoch 50, CIFAR-10 Batch 3:  The loss is:     0.0000 and the validation_accuracy is 0.490200\n",
      "Epoch 50, CIFAR-10 Batch 4:  The loss is:  1230.9551 and the validation_accuracy is 0.449000\n",
      "Epoch 50, CIFAR-10 Batch 5:  The loss is:   868.9856 and the validation_accuracy is 0.506200\n"
     ]
    }
   ],
   "source": [
    "\"\"\"\n",
    "DON'T MODIFY ANYTHING IN THIS CELL\n",
    "\"\"\"\n",
    "save_model_path = './image_classification_03012345'\n",
    "\n",
    "print('Training...')\n",
    "with tf.Session() as sess:\n",
    "    # Initializing the variables\n",
    "    sess.run(tf.global_variables_initializer())\n",
    "    \n",
    "    # Training cycle\n",
    "    for epoch in range(epochs):\n",
    "        # Loop over all batches\n",
    "        n_batches = 5\n",
    "        for batch_i in range(1, n_batches + 1):\n",
    "            for batch_features, batch_labels in helper.load_preprocess_training_batch(batch_i, batch_size):\n",
    "                train_neural_network(sess, optimizer, keep_probability, batch_features, batch_labels)\n",
    "            print('Epoch {:>2}, CIFAR-10 Batch {}:  '.format(epoch + 1, batch_i), end='')\n",
    "            print_stats(sess, batch_features, batch_labels, cost, accuracy)\n",
    "            \n",
    "    # Save Model\n",
    "    saver = tf.train.Saver()\n",
    "    save_path = saver.save(sess, save_model_path)"
   ]
  },
  {
   "cell_type": "markdown",
   "metadata": {
    "deletable": true,
    "editable": true
   },
   "source": [
    "# Checkpoint\n",
    "The model has been saved to disk.\n",
    "## Test Model\n",
    "Test your model against the test dataset.  This will be your final accuracy. You should have an accuracy greater than 50%. If you don't, keep tweaking the model architecture and parameters."
   ]
  },
  {
   "cell_type": "code",
   "execution_count": 184,
   "metadata": {
    "collapsed": false,
    "deletable": true,
    "editable": true
   },
   "outputs": [
    {
     "name": "stdout",
     "output_type": "stream",
     "text": [
      "Testing Accuracy: 0.50107421875\n",
      "\n"
     ]
    },
    {
     "data": {
      "image/png": "[encoded data removed]",
      "text/plain": [
       "<matplotlib.figure.Figure at 0x7efd081f8a20>"
      ]
     },
     "metadata": {
      "image/png": {
       "height": 319,
       "width": 349
      }
     },
     "output_type": "display_data"
    }
   ],
   "source": [
    "\"\"\"\n",
    "DON'T MODIFY ANYTHING IN THIS CELL\n",
    "\"\"\"\n",
    "%matplotlib inline\n",
    "%config InlineBackend.figure_format = 'retina'\n",
    "\n",
    "import tensorflow as tf\n",
    "import pickle\n",
    "import helper\n",
    "import random\n",
    "\n",
    "# Set batch size if not already set\n",
    "try:\n",
    "    if batch_size:\n",
    "        pass\n",
    "except NameError:\n",
    "    batch_size = 64\n",
    "\n",
    "save_model_path = './image_classification_03012345'\n",
    "n_samples = 4\n",
    "top_n_predictions = 3\n",
    "\n",
    "def test_model():\n",
    "    \"\"\"\n",
    "    Test the saved model against the test dataset\n",
    "    \"\"\"\n",
    "\n",
    "    test_features, test_labels = pickle.load(open('preprocess_training.p', mode='rb'))\n",
    "    loaded_graph = tf.Graph()\n",
    "\n",
    "    with tf.Session(graph=loaded_graph) as sess:\n",
    "        # Load model\n",
    "        loader = tf.train.import_meta_graph(save_model_path + '.meta')\n",
    "        loader.restore(sess, save_model_path)\n",
    "\n",
    "        # Get Tensors from loaded model\n",
    "        loaded_x = loaded_graph.get_tensor_by_name('x:0')\n",
    "        loaded_y = loaded_graph.get_tensor_by_name('y:0')\n",
    "        loaded_keep_prob = loaded_graph.get_tensor_by_name('keep_prob:0')\n",
    "        loaded_logits = loaded_graph.get_tensor_by_name('logits:0')\n",
    "        loaded_acc = loaded_graph.get_tensor_by_name('accuracy:0')\n",
    "        \n",
    "        # Get accuracy in batches for memory limitations\n",
    "        test_batch_acc_total = 0\n",
    "        test_batch_count = 0\n",
    "        \n",
    "        for train_feature_batch, train_label_batch in helper.batch_features_labels(test_features, test_labels, batch_size):\n",
    "            test_batch_acc_total += sess.run(\n",
    "                loaded_acc,\n",
    "                feed_dict={loaded_x: train_feature_batch, loaded_y: train_label_batch, loaded_keep_prob: 1.0})\n",
    "            test_batch_count += 1\n",
    "\n",
    "        print('Testing Accuracy: {}\\n'.format(test_batch_acc_total/test_batch_count))\n",
    "\n",
    "        # Print Random Samples\n",
    "        random_test_features, random_test_labels = tuple(zip(*random.sample(list(zip(test_features, test_labels)), n_samples)))\n",
    "        random_test_predictions = sess.run(\n",
    "            tf.nn.top_k(tf.nn.softmax(loaded_logits), top_n_predictions),\n",
    "            feed_dict={loaded_x: random_test_features, loaded_y: random_test_labels, loaded_keep_prob: 1.0})\n",
    "        helper.display_image_predictions(random_test_features, random_test_labels, random_test_predictions)\n",
    "\n",
    "\n",
    "test_model()"
   ]
  },
  {
   "cell_type": "markdown",
   "metadata": {
    "deletable": true,
    "editable": true
   },
   "source": [
    "## Why 50-70% Accuracy?\n",
    "You might be wondering why you can't get an accuracy any higher. First things first, 50% isn't bad for a simple CNN.  Pure guessing would get you 10% accuracy. However, you might notice people are getting scores [well above 70%](http://rodrigob.github.io/are_we_there_yet/build/classification_datasets_results.html#43494641522d3130).  That's because we haven't taught you all there is to know about neural networks. We still need to cover a few more techniques.\n",
    "## Submitting This Project\n",
    "When submitting this project, make sure to run all the cells before saving the notebook.  Save the notebook file as \"dlnd_image_classification.ipynb\" and save it as a HTML file under \"File\" -> \"Download as\".  Include the \"helper.py\" and \"problem_unittests.py\" files in your submission."
   ]
  }
 ],
 "metadata": {
  "kernelspec": {
   "display_name": "Python 3",
   "language": "python",
   "name": "python3"
  },
  "language_info": {
   "codemirror_mode": {
    "name": "ipython",
    "version": 3
   },
   "file_extension": ".py",
   "mimetype": "text/x-python",
   "name": "python",
   "nbconvert_exporter": "python",
   "pygments_lexer": "ipython3",
   "version": "3.5.2"
  },
  "widgets": {
   "state": {},
   "version": "1.1.2"
  }
 },
 "nbformat": 4,
 "nbformat_minor": 0
}
