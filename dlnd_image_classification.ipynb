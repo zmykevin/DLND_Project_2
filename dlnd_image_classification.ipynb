{
 "cells": [
  {
   "cell_type": "markdown",
   "metadata": {
    "collapsed": true,
    "deletable": true,
    "editable": true
   },
   "source": [
    "# Image Classification\n",
    "In this project, you'll classify images from the [CIFAR-10 dataset](https://www.cs.toronto.edu/~kriz/cifar.html).  The dataset consists of airplanes, dogs, cats, and other objects. You'll preprocess the images, then train a convolutional neural network on all the samples. The images need to be normalized and the labels need to be one-hot encoded.  You'll get to apply what you learned and build a convolutional, max pooling, dropout, and fully connected layers.  At the end, you'll get to see your neural network's predictions on the sample images.\n",
    "## Get the Data\n",
    "Run the following cell to download the [CIFAR-10 dataset for python](https://www.cs.toronto.edu/~kriz/cifar-10-python.tar.gz)."
   ]
  },
  {
   "cell_type": "code",
   "execution_count": 26,
   "metadata": {
    "collapsed": false,
    "deletable": true,
    "editable": true
   },
   "outputs": [
    {
     "name": "stdout",
     "output_type": "stream",
     "text": [
      "All files found!\n"
     ]
    }
   ],
   "source": [
    "\"\"\"\n",
    "DON'T MODIFY ANYTHING IN THIS CELL THAT IS BELOW THIS LINE\n",
    "\"\"\"\n",
    "from urllib.request import urlretrieve\n",
    "from os.path import isfile, isdir\n",
    "from tqdm import tqdm\n",
    "import problem_unittests as tests\n",
    "import tarfile\n",
    "\n",
    "cifar10_dataset_folder_path = 'cifar-10-batches-py'\n",
    "\n",
    "class DLProgress(tqdm):\n",
    "    last_block = 0\n",
    "\n",
    "    def hook(self, block_num=1, block_size=1, total_size=None):\n",
    "        self.total = total_size\n",
    "        self.update((block_num - self.last_block) * block_size)\n",
    "        self.last_block = block_num\n",
    "\n",
    "if not isfile('cifar-10-python.tar.gz'):\n",
    "    with DLProgress(unit='B', unit_scale=True, miniters=1, desc='CIFAR-10 Dataset') as pbar:\n",
    "        urlretrieve(\n",
    "            'https://www.cs.toronto.edu/~kriz/cifar-10-python.tar.gz',\n",
    "            'cifar-10-python.tar.gz',\n",
    "            pbar.hook)\n",
    "\n",
    "if not isdir(cifar10_dataset_folder_path):\n",
    "    with tarfile.open('cifar-10-python.tar.gz') as tar:\n",
    "        tar.extractall()\n",
    "        tar.close()\n",
    "\n",
    "\n",
    "tests.test_folder_path(cifar10_dataset_folder_path)"
   ]
  },
  {
   "cell_type": "markdown",
   "metadata": {
    "deletable": true,
    "editable": true
   },
   "source": [
    "## Explore the Data\n",
    "The dataset is broken into batches to prevent your machine from running out of memory.  The CIFAR-10 dataset consists of 5 batches, named `data_batch_1`, `data_batch_2`, etc.. Each batch contains the labels and images that are one of the following:\n",
    "* airplane\n",
    "* automobile\n",
    "* bird\n",
    "* cat\n",
    "* deer\n",
    "* dog\n",
    "* frog\n",
    "* horse\n",
    "* ship\n",
    "* truck\n",
    "\n",
    "Understanding a dataset is part of making predictions on the data.  Play around with the code cell below by changing the `batch_id` and `sample_id`. The `batch_id` is the id for a batch (1-5). The `sample_id` is the id for a image and label pair in the batch.\n",
    "\n",
    "Ask yourself \"What are all possible labels?\", \"What is the range of values for the image data?\", \"Are the labels in order or random?\".  Answers to questions like these will help you preprocess the data and end up with better predictions."
   ]
  },
  {
   "cell_type": "code",
   "execution_count": 27,
   "metadata": {
    "collapsed": false,
    "deletable": true,
    "editable": true
   },
   "outputs": [
    {
     "name": "stdout",
     "output_type": "stream",
     "text": [
      "\n",
      "Stats of batch 1:\n",
      "Samples: 10000\n",
      "Label Counts: {0: 1005, 1: 974, 2: 1032, 3: 1016, 4: 999, 5: 937, 6: 1030, 7: 1001, 8: 1025, 9: 981}\n",
      "First 20 Labels: [6, 9, 9, 4, 1, 1, 2, 7, 8, 3, 4, 7, 7, 2, 9, 9, 9, 3, 2, 6]\n",
      "\n",
      "Example of Image 10:\n",
      "Image - Min Value: 24 Max Value: 130\n",
      "Image - Shape: (32, 32, 3)\n",
      "Label - Label Id: 4 Name: deer\n"
     ]
    },
    {
     "data": {
      "image/png": "[encoded data removed]",
      "text/plain": [
       "<matplotlib.figure.Figure at 0x7fb5abc1a080>"
      ]
     },
     "metadata": {
      "image/png": {
       "height": 250,
       "width": 253
      }
     },
     "output_type": "display_data"
    }
   ],
   "source": [
    "%matplotlib inline\n",
    "%config InlineBackend.figure_format = 'retina'\n",
    "\n",
    "import helper\n",
    "import numpy as np\n",
    "\n",
    "# Explore the dataset\n",
    "batch_id = 1\n",
    "sample_id = 10\n",
    "helper.display_stats(cifar10_dataset_folder_path, batch_id, sample_id)"
   ]
  },
  {
   "cell_type": "markdown",
   "metadata": {
    "deletable": true,
    "editable": true
   },
   "source": [
    "## Implement Preprocess Functions\n",
    "### Normalize\n",
    "In the cell below, implement the `normalize` function to take in image data, `x`, and return it as a normalized Numpy array. The values should be in the range of 0 to 1, inclusive.  The return object should be the same shape as `x`."
   ]
  },
  {
   "cell_type": "code",
   "execution_count": 28,
   "metadata": {
    "collapsed": false,
    "deletable": true,
    "editable": true
   },
   "outputs": [
    {
     "name": "stdout",
     "output_type": "stream",
     "text": [
      "Tests Passed\n"
     ]
    }
   ],
   "source": [
    "def normalize(x):\n",
    "    \"\"\"\n",
    "    Normalize a list of sample image data in the range of 0 to 1\n",
    "    : x: List of image data.  The image shape is (32, 32, 3)\n",
    "    : return: Numpy array of normalize data\n",
    "    \"\"\"\n",
    "    # TODO: Implement Function\n",
    "    #Initialize the ouptut\n",
    "    normalized_data = np.zeros((len(x),32,32,3))\n",
    "    for i,image in enumerate(x):\n",
    "        normalized_data[i,:,:,:] = image\n",
    "    \n",
    "    #Implement the min-max normalization\n",
    "    min_val = np.amin(normalized_data)\n",
    "    max_val = np.amax(normalized_data)\n",
    "    normalized_data = (normalized_data-min_val)/(max_val-min_val)\n",
    "    \n",
    "    return normalized_data \n",
    "\n",
    "\n",
    "\"\"\"\n",
    "DON'T MODIFY ANYTHING IN THIS CELL THAT IS BELOW THIS LINE\n",
    "\"\"\"\n",
    "tests.test_normalize(normalize)"
   ]
  },
  {
   "cell_type": "markdown",
   "metadata": {
    "deletable": true,
    "editable": true
   },
   "source": [
    "### One-hot encode\n",
    "Just like the previous code cell, you'll be implementing a function for preprocessing.  This time, you'll implement the `one_hot_encode` function. The input, `x`, are a list of labels.  Implement the function to return the list of labels as One-Hot encoded Numpy array.  The possible values for labels are 0 to 9. The one-hot encoding function should return the same encoding for each value between each call to `one_hot_encode`.  Make sure to save the map of encodings outside the function.\n",
    "\n",
    "Hint: Don't reinvent the wheel."
   ]
  },
  {
   "cell_type": "code",
   "execution_count": 29,
   "metadata": {
    "collapsed": false,
    "deletable": true,
    "editable": true
   },
   "outputs": [
    {
     "name": "stdout",
     "output_type": "stream",
     "text": [
      "Tests Passed\n"
     ]
    }
   ],
   "source": [
    "def one_hot_encode(x):\n",
    "    \"\"\"\n",
    "    One hot encode a list of sample labels. Return a one-hot encoded vector for each label.\n",
    "    : x: List of sample Labels\n",
    "    : return: Numpy array of one-hot encoded labels\n",
    "    \"\"\"\n",
    "    # TODO: Implement Function\n",
    "    one_hot_label = np.zeros((len(x),10))\n",
    "    \n",
    "    for i,label in enumerate(x):\n",
    "        one_hot_label[i,label] = 1\n",
    "        \n",
    "    return one_hot_label\n",
    "\n",
    "\n",
    "\"\"\"\n",
    "DON'T MODIFY ANYTHING IN THIS CELL THAT IS BELOW THIS LINE\n",
    "\"\"\"\n",
    "tests.test_one_hot_encode(one_hot_encode)"
   ]
  },
  {
   "cell_type": "markdown",
   "metadata": {
    "deletable": true,
    "editable": true
   },
   "source": [
    "### Randomize Data\n",
    "As you saw from exploring the data above, the order of the samples are randomized.  It doesn't hurt to randomize it again, but you don't need to for this dataset."
   ]
  },
  {
   "cell_type": "markdown",
   "metadata": {
    "deletable": true,
    "editable": true
   },
   "source": [
    "## Preprocess all the data and save it\n",
    "Running the code cell below will preprocess all the CIFAR-10 data and save it to file. The code below also uses 10% of the training data for validation."
   ]
  },
  {
   "cell_type": "code",
   "execution_count": 30,
   "metadata": {
    "collapsed": false,
    "deletable": true,
    "editable": true
   },
   "outputs": [],
   "source": [
    "\"\"\"\n",
    "DON'T MODIFY ANYTHING IN THIS CELL\n",
    "\"\"\"\n",
    "# Preprocess Training, Validation, and Testing Data\n",
    "helper.preprocess_and_save_data(cifar10_dataset_folder_path, normalize, one_hot_encode)"
   ]
  },
  {
   "cell_type": "markdown",
   "metadata": {
    "deletable": true,
    "editable": true
   },
   "source": [
    "# Check Point\n",
    "This is your first checkpoint.  If you ever decide to come back to this notebook or have to restart the notebook, you can start from here.  The preprocessed data has been saved to disk."
   ]
  },
  {
   "cell_type": "code",
   "execution_count": 31,
   "metadata": {
    "collapsed": true,
    "deletable": true,
    "editable": true
   },
   "outputs": [],
   "source": [
    "\"\"\"\n",
    "DON'T MODIFY ANYTHING IN THIS CELL\n",
    "\"\"\"\n",
    "import pickle\n",
    "import problem_unittests as tests\n",
    "import helper\n",
    "\n",
    "# Load the Preprocessed Validation data\n",
    "valid_features, valid_labels = pickle.load(open('preprocess_validation.p', mode='rb'))"
   ]
  },
  {
   "cell_type": "markdown",
   "metadata": {
    "deletable": true,
    "editable": true
   },
   "source": [
    "## Build the network\n",
    "For the neural network, you'll build each layer into a function.  Most of the code you've seen has been outside of functions. To test your code more thoroughly, we require that you put each layer in a function.  This allows us to give you better feedback and test for simple mistakes using our unittests before you submit your project.\n",
    "\n",
    "If you're finding it hard to dedicate enough time for this course a week, we've provided a small shortcut to this part of the project. In the next couple of problems, you'll have the option to use [TensorFlow Layers](https://www.tensorflow.org/api_docs/python/tf/layers) or [TensorFlow Layers (contrib)](https://www.tensorflow.org/api_guides/python/contrib.layers) to build each layer, except \"Convolutional & Max Pooling\" layer.  TF Layers is similar to Keras's and TFLearn's abstraction to layers, so it's easy to pickup.\n",
    "\n",
    "If you would like to get the most of this course, try to solve all the problems without TF Layers.  Let's begin!\n",
    "### Input\n",
    "The neural network needs to read the image data, one-hot encoded labels, and dropout keep probability. Implement the following functions\n",
    "* Implement `neural_net_image_input`\n",
    " * Return a [TF Placeholder](https://www.tensorflow.org/api_docs/python/tf/placeholder)\n",
    " * Set the shape using `image_shape` with batch size set to `None`.\n",
    " * Name the TensorFlow placeholder \"x\" using the TensorFlow `name` parameter in the [TF Placeholder](https://www.tensorflow.org/api_docs/python/tf/placeholder).\n",
    "* Implement `neural_net_label_input`\n",
    " * Return a [TF Placeholder](https://www.tensorflow.org/api_docs/python/tf/placeholder)\n",
    " * Set the shape using `n_classes` with batch size set to `None`.\n",
    " * Name the TensorFlow placeholder \"y\" using the TensorFlow `name` parameter in the [TF Placeholder](https://www.tensorflow.org/api_docs/python/tf/placeholder).\n",
    "* Implement `neural_net_keep_prob_input`\n",
    " * Return a [TF Placeholder](https://www.tensorflow.org/api_docs/python/tf/placeholder) for dropout keep probability.\n",
    " * Name the TensorFlow placeholder \"keep_prob\" using the TensorFlow `name` parameter in the [TF Placeholder](https://www.tensorflow.org/api_docs/python/tf/placeholder).\n",
    "\n",
    "These names will be used at the end of the project to load your saved model.\n",
    "\n",
    "Note: `None` for shapes in TensorFlow allow for a dynamic size."
   ]
  },
  {
   "cell_type": "code",
   "execution_count": 32,
   "metadata": {
    "collapsed": false,
    "deletable": true,
    "editable": true
   },
   "outputs": [
    {
     "name": "stdout",
     "output_type": "stream",
     "text": [
      "Image Input Tests Passed.\n",
      "Label Input Tests Passed.\n",
      "Keep Prob Tests Passed.\n"
     ]
    }
   ],
   "source": [
    "import tensorflow as tf\n",
    "\n",
    "def neural_net_image_input(image_shape):\n",
    "    \"\"\"\n",
    "    Return a Tensor for a bach of image input\n",
    "    : image_shape: Shape of the images\n",
    "    : return: Tensor for image input.\n",
    "    \"\"\"\n",
    "    # TODO: Implement Function\n",
    "    image_tensor = tf.placeholder(tf.float32,shape=[None,image_shape[0],image_shape[1],image_shape[2]],name=\"x\")\n",
    "    return image_tensor\n",
    "\n",
    "\n",
    "def neural_net_label_input(n_classes):\n",
    "    \"\"\"\n",
    "    Return a Tensor for a batch of label input\n",
    "    : n_classes: Number of classes\n",
    "    : return: Tensor for label input.\n",
    "    \"\"\"\n",
    "    # TODO: Implement Function\n",
    "    label_tensor = tf.placeholder(tf.float32, shape=[None,n_classes],name=\"y\")\n",
    "    return label_tensor\n",
    "\n",
    "\n",
    "def neural_net_keep_prob_input():\n",
    "    \"\"\"\n",
    "    Return a Tensor for keep probability\n",
    "    : return: Tensor for keep probability.\n",
    "    \"\"\"\n",
    "    # TODO: Implement Function\n",
    "    prob = tf.placeholder(tf.float32,name=\"keep_prob\")\n",
    "    return prob\n",
    "\n",
    "\n",
    "\"\"\"\n",
    "DON'T MODIFY ANYTHING IN THIS CELL THAT IS BELOW THIS LINE\n",
    "\"\"\"\n",
    "tf.reset_default_graph()\n",
    "tests.test_nn_image_inputs(neural_net_image_input)\n",
    "tests.test_nn_label_inputs(neural_net_label_input)\n",
    "tests.test_nn_keep_prob_inputs(neural_net_keep_prob_input)"
   ]
  },
  {
   "cell_type": "markdown",
   "metadata": {
    "deletable": true,
    "editable": true
   },
   "source": [
    "### Convolution and Max Pooling Layer\n",
    "Convolution layers have a lot of success with images. For this code cell, you should implement the function `conv2d_maxpool` to apply convolution then max pooling:\n",
    "* Create the weight and bias using `conv_ksize`, `conv_num_outputs` and the shape of `x_tensor`.\n",
    "* Apply a convolution to `x_tensor` using weight and `conv_strides`.\n",
    " * We recommend you use same padding, but you're welcome to use any padding.\n",
    "* Add bias\n",
    "* Add a nonlinear activation to the convolution.\n",
    "* Apply Max Pooling using `pool_ksize` and `pool_strides`.\n",
    " * We recommend you use same padding, but you're welcome to use any padding.\n",
    "\n",
    "Note: You **can't** use [TensorFlow Layers](https://www.tensorflow.org/api_docs/python/tf/layers) or [TensorFlow Layers (contrib)](https://www.tensorflow.org/api_guides/python/contrib.layers) for this layer.  You're free to use any TensorFlow package for all the other layers."
   ]
  },
  {
   "cell_type": "code",
   "execution_count": 33,
   "metadata": {
    "collapsed": false,
    "deletable": true,
    "editable": true
   },
   "outputs": [
    {
     "name": "stdout",
     "output_type": "stream",
     "text": [
      "Tests Passed\n"
     ]
    }
   ],
   "source": [
    "def conv2d_maxpool(x_tensor, conv_num_outputs, conv_ksize, conv_strides, pool_ksize, pool_strides):\n",
    "    \"\"\"\n",
    "    Apply convolution then max pooling to x_tensor\n",
    "    :param x_tensor: TensorFlow Tensor\n",
    "    :param conv_num_outputs: Number of outputs for the convolutional layer\n",
    "    :param conv_ksize: kernal size 2-D Tuple for the convolutional layer\n",
    "    :param conv_strides: Stride 2-D Tuple for convolution\n",
    "    :param pool_ksize: kernal size 2-D Tuple for pool\n",
    "    :param pool_strides: Stride 2-D Tuple for pool\n",
    "    : return: A tensor that represents convolution and max pooling of x_tensor\n",
    "    \"\"\"\n",
    "    # TODO: Implement Function\n",
    "    #Define Weights and Bias\n",
    "    input_shape = x_tensor.shape\n",
    "    Weights = tf.Variable(tf.random_normal(shape=[conv_ksize[0],conv_ksize[1],input_shape[-1].value,conv_num_outputs],mean=0.0,stddev=0.1))\n",
    "    Bias = tf.Variable(tf.random_normal([conv_num_outputs]))\n",
    "    \n",
    "    #Define the convolutional layer\n",
    "    conv_layer = tf.nn.conv2d(x_tensor,Weights,strides=[1,conv_strides[0],conv_strides[1],1],padding=\"SAME\")\n",
    "    conv_layer = tf.nn.bias_add(conv_layer,Bias)\n",
    "    conv_layer = tf.nn.relu(conv_layer)\n",
    "    \n",
    "    #Define the Max-Pooling Layer\n",
    "    pool_layer = tf.nn.max_pool(conv_layer,\n",
    "                                ksize=[1,pool_ksize[0],pool_ksize[1],1],\n",
    "                                strides=[1,pool_strides[0],pool_strides[1],1],\n",
    "                                padding = \"SAME\")\n",
    "    \n",
    "    return pool_layer \n",
    "\n",
    "\n",
    "\"\"\"\n",
    "DON'T MODIFY ANYTHING IN THIS CELL THAT IS BELOW THIS LINE\n",
    "\"\"\"\n",
    "tests.test_con_pool(conv2d_maxpool)"
   ]
  },
  {
   "cell_type": "markdown",
   "metadata": {
    "deletable": true,
    "editable": true
   },
   "source": [
    "### Flatten Layer\n",
    "Implement the `flatten` function to change the dimension of `x_tensor` from a 4-D tensor to a 2-D tensor.  The output should be the shape (*Batch Size*, *Flattened Image Size*). You can use [TensorFlow Layers](https://www.tensorflow.org/api_docs/python/tf/layers) or [TensorFlow Layers (contrib)](https://www.tensorflow.org/api_guides/python/contrib.layers) for this layer."
   ]
  },
  {
   "cell_type": "code",
   "execution_count": 34,
   "metadata": {
    "collapsed": false,
    "deletable": true,
    "editable": true
   },
   "outputs": [
    {
     "name": "stdout",
     "output_type": "stream",
     "text": [
      "Tests Passed\n"
     ]
    }
   ],
   "source": [
    "def flatten(x_tensor):\n",
    "    \"\"\"\n",
    "    Flatten x_tensor to (Batch Size, Flattened Image Size)\n",
    "    : x_tensor: A tensor of size (Batch Size, ...), where ... are the image dimensions.\n",
    "    : return: A tensor of size (Batch Size, Flattened Image Size).\n",
    "    \"\"\"\n",
    "    # TODO: Implement Function\n",
    "    x_shape = x_tensor.get_shape().as_list()\n",
    "    #Got the shape of the image size by multiplying the rest dimension of input shape except the first dimension\n",
    "    flatten_shape = 1\n",
    "    for i in range(1,len(x_shape)):\n",
    "        flatten_shape = flatten_shape * x_shape[i]\n",
    "    \n",
    "    flatten_layer = tf.reshape(x_tensor,[-1,flatten_shape])\n",
    "    return flatten_layer\n",
    "\n",
    "\n",
    "\"\"\"\n",
    "DON'T MODIFY ANYTHING IN THIS CELL THAT IS BELOW THIS LINE\n",
    "\"\"\"\n",
    "tests.test_flatten(flatten)"
   ]
  },
  {
   "cell_type": "markdown",
   "metadata": {
    "deletable": true,
    "editable": true
   },
   "source": [
    "### Fully-Connected Layer\n",
    "Implement the `fully_conn` function to apply a fully connected layer to `x_tensor` with the shape (*Batch Size*, *num_outputs*). You can use [TensorFlow Layers](https://www.tensorflow.org/api_docs/python/tf/layers) or [TensorFlow Layers (contrib)](https://www.tensorflow.org/api_guides/python/contrib.layers) for this layer."
   ]
  },
  {
   "cell_type": "code",
   "execution_count": 35,
   "metadata": {
    "collapsed": false,
    "deletable": true,
    "editable": true
   },
   "outputs": [
    {
     "name": "stdout",
     "output_type": "stream",
     "text": [
      "Tests Passed\n"
     ]
    }
   ],
   "source": [
    "def fully_conn(x_tensor, num_outputs):\n",
    "    \"\"\"\n",
    "    Apply a fully connected layer to x_tensor using weight and bias\n",
    "    : x_tensor: A 2-D tensor where the first dimension is batch size.\n",
    "    : num_outputs: The number of output that the new tensor should be.\n",
    "    : return: A 2-D tensor where the second dimension is num_outputs.\n",
    "    \"\"\"\n",
    "    # TODO: Implement Function\n",
    "    #Initialize weigths and bias\n",
    "    weights = tf.Variable(tf.random_normal(shape=[x_tensor.get_shape()[1].value,num_outputs],mean=0.0,stddev=0.1))\n",
    "    bias = tf.Variable(tf.random_normal([num_outputs]))\n",
    "    #Create the linear fully conneted layer\n",
    "    full_layer = tf.add(tf.matmul(x_tensor,weights),bias)\n",
    "    #Add relu to the ouput of fully_connected layer\n",
    "    full_layer = tf.nn.relu(full_layer)\n",
    "    return full_layer\n",
    "\n",
    "\n",
    "\"\"\"\n",
    "DON'T MODIFY ANYTHING IN THIS CELL THAT IS BELOW THIS LINE\n",
    "\"\"\"\n",
    "tests.test_fully_conn(fully_conn)"
   ]
  },
  {
   "cell_type": "markdown",
   "metadata": {
    "deletable": true,
    "editable": true
   },
   "source": [
    "### Output Layer\n",
    "Implement the `output` function to apply a fully connected layer to `x_tensor` with the shape (*Batch Size*, *num_outputs*). You can use [TensorFlow Layers](https://www.tensorflow.org/api_docs/python/tf/layers) or [TensorFlow Layers (contrib)](https://www.tensorflow.org/api_guides/python/contrib.layers) for this layer.\n",
    "\n",
    "Note: Activation, softmax, or cross entropy shouldn't be applied to this."
   ]
  },
  {
   "cell_type": "code",
   "execution_count": 36,
   "metadata": {
    "collapsed": false,
    "deletable": true,
    "editable": true
   },
   "outputs": [
    {
     "name": "stdout",
     "output_type": "stream",
     "text": [
      "Tests Passed\n"
     ]
    }
   ],
   "source": [
    "def output(x_tensor, num_outputs):\n",
    "    \"\"\"\n",
    "    Apply a output layer to x_tensor using weight and bias\n",
    "    : x_tensor: A 2-D tensor where the first dimension is batch size.\n",
    "    : num_outputs: The number of output that the new tensor should be.\n",
    "    : return: A 2-D tensor where the second dimension is num_outputs.\n",
    "    \"\"\"\n",
    "    # TODO: Implement Function\n",
    "    weights = tf.Variable(tf.truncated_normal((x_tensor.get_shape()[1].value,num_outputs)))\n",
    "    bias = tf.Variable(tf.zeros(num_outputs))\n",
    "    output_layer = tf.add(tf.matmul(x_tensor,weights),bias)\n",
    "    return output_layer\n",
    "\n",
    "\n",
    "\"\"\"\n",
    "DON'T MODIFY ANYTHING IN THIS CELL THAT IS BELOW THIS LINE\n",
    "\"\"\"\n",
    "tests.test_output(output)"
   ]
  },
  {
   "cell_type": "markdown",
   "metadata": {
    "deletable": true,
    "editable": true
   },
   "source": [
    "### Create Convolutional Model\n",
    "Implement the function `conv_net` to create a convolutional neural network model. The function takes in a batch of images, `x`, and outputs logits.  Use the layers you created above to create this model:\n",
    "\n",
    "* Apply 1, 2, or 3 Convolution and Max Pool layers\n",
    "* Apply a Flatten Layer\n",
    "* Apply 1, 2, or 3 Fully Connected Layers\n",
    "* Apply an Output Layer\n",
    "* Return the output\n",
    "* Apply [TensorFlow's Dropout](https://www.tensorflow.org/api_docs/python/tf/nn/dropout) to one or more layers in the model using `keep_prob`. "
   ]
  },
  {
   "cell_type": "code",
   "execution_count": 37,
   "metadata": {
    "collapsed": false,
    "deletable": true,
    "editable": true
   },
   "outputs": [
    {
     "name": "stdout",
     "output_type": "stream",
     "text": [
      "Neural Network Built!\n"
     ]
    }
   ],
   "source": [
    "def conv_net(x, keep_prob):\n",
    "    \"\"\"\n",
    "    Create a convolutional neural network model\n",
    "    : x: Placeholder tensor that holds image data.\n",
    "    : keep_prob: Placeholder tensor that hold dropout keep probability.\n",
    "    : return: Tensor that represents logits\n",
    "    \"\"\"\n",
    "    # TODO: Apply 1, 2, or 3 Convolution and Max Pool layers\n",
    "    #    Play around with different number of outputs, kernel size and stride\n",
    "    # Function Definition from Above:\n",
    "    #    conv2d_maxpool(x_tensor, conv_num_outputs, conv_ksize, conv_strides, pool_ksize, pool_strides)\n",
    "    \n",
    "    #Define first convolutional layer, conv_1\n",
    "    conv_1_num_outputs = 64\n",
    "    conv_1_ksize = (5,5)\n",
    "    conv_1_strides = (1,1)\n",
    "    conv_1_pool_ksize = (2,2)\n",
    "    conv_1_pool_strides = (2,2)\n",
    "    conv_1 = conv2d_maxpool(x,conv_1_num_outputs,\n",
    "                            conv_1_ksize,\n",
    "                            conv_1_strides,\n",
    "                            conv_1_pool_ksize,\n",
    "                            conv_1_pool_strides)\n",
    "    #Output of conv_1: 16*16*64\n",
    "    \n",
    "    \n",
    "    \n",
    "    #Define second convolutional layer, conv_2\n",
    "    conv_2_num_outputs = 128\n",
    "    conv_2_ksize = (3,3)\n",
    "    conv_2_strides = (1,1)\n",
    "    conv_2_pool_ksize = (2,2)\n",
    "    conv_2_pool_strides = (2,2)\n",
    "    conv_2 = conv2d_maxpool(conv_1,conv_2_num_outputs,\n",
    "                            conv_1_ksize,\n",
    "                            conv_1_strides,\n",
    "                            conv_1_pool_ksize,\n",
    "                            conv_1_pool_strides)\n",
    "    #Output of conv_2: 8*8*128\n",
    "    \n",
    "    \n",
    "    '''\n",
    "    #Define thir convolutional layer, conv_3\n",
    "    conv_3_num_outputs = 256\n",
    "    conv_3_ksize = (3,3)\n",
    "    conv_3_strides = (1,1)\n",
    "    conv_3_pool_ksize = (2,2)\n",
    "    conv_3_pool_strides = (2,2)\n",
    "    conv_3 = conv2d_maxpool(conv_2,conv_3_num_outputs,\n",
    "                            conv_3_ksize,\n",
    "                            conv_3_strides,\n",
    "                            conv_3_pool_ksize,\n",
    "                            conv_3_pool_strides)\n",
    "    #Output of conv_2: 3*3*256\n",
    "    '''\n",
    "    \n",
    "    # TODO: Apply a Flatten Layer\n",
    "    # Function Definition from Above:\n",
    "    #   flatten(x_tensor)\n",
    "    flatten_layer = flatten(conv_1)\n",
    "\n",
    "    # TODO: Apply 1, 2, or 3 Fully Connected Layers\n",
    "    #    Play around with different number of outputs\n",
    "    # Function Definition from Above:\n",
    "    #   fully_conn(x_tensor, num_outputs)\n",
    "    \n",
    "    #Define the first fully connected layer,full_1\n",
    "    f1_num_outputs = 512\n",
    "    full_1 = fully_conn(flatten_layer,f1_num_outputs)\n",
    "    #Apply a dropout layer here\n",
    "    full_1 = tf.nn.dropout(full_1,keep_prob)\n",
    "    \n",
    "    \n",
    "    #Define the second fully connected layer, full_2\n",
    "    f2_num_outputs = 128\n",
    "    full_2 = fully_conn(full_1,f2_num_outputs)\n",
    "    #Apply a dropout layer here\n",
    "    #full_2 = tf.nn.dropout(full_2,keep_prob)\n",
    "    \n",
    "    \n",
    "    # TODO: Apply an Output Layer\n",
    "    #    Set this to the number of classes\n",
    "    # Function Definition from Above:\n",
    "    #   output(x_tensor, num_outputs)\n",
    "    num_outputs = 10\n",
    "    output_layer = output(full_2,num_outputs)\n",
    "    \n",
    "    # TODO: return output\n",
    "    return output_layer\n",
    "\n",
    "\n",
    "\"\"\"\n",
    "DON'T MODIFY ANYTHING IN THIS CELL THAT IS BELOW THIS LINE\n",
    "\"\"\"\n",
    "\n",
    "##############################\n",
    "## Build the Neural Network ##\n",
    "##############################\n",
    "\n",
    "# Remove previous weights, bias, inputs, etc..\n",
    "tf.reset_default_graph()\n",
    "\n",
    "# Inputs\n",
    "x = neural_net_image_input((32, 32, 3))\n",
    "y = neural_net_label_input(10)\n",
    "keep_prob = neural_net_keep_prob_input()\n",
    "\n",
    "# Model\n",
    "logits = conv_net(x, keep_prob)\n",
    "\n",
    "# Name logits Tensor, so that is can be loaded from disk after training\n",
    "logits = tf.identity(logits, name='logits')\n",
    "\n",
    "# Loss and Optimizer\n",
    "cost = tf.reduce_mean(tf.nn.softmax_cross_entropy_with_logits(logits=logits, labels=y))\n",
    "optimizer = tf.train.AdamOptimizer().minimize(cost)\n",
    "\n",
    "# Accuracy\n",
    "correct_pred = tf.equal(tf.argmax(logits, 1), tf.argmax(y, 1))\n",
    "accuracy = tf.reduce_mean(tf.cast(correct_pred, tf.float32), name='accuracy')\n",
    "\n",
    "tests.test_conv_net(conv_net)"
   ]
  },
  {
   "cell_type": "markdown",
   "metadata": {
    "deletable": true,
    "editable": true
   },
   "source": [
    "## Train the Neural Network\n",
    "### Single Optimization\n",
    "Implement the function `train_neural_network` to do a single optimization.  The optimization should use `optimizer` to optimize in `session` with a `feed_dict` of the following:\n",
    "* `x` for image input\n",
    "* `y` for labels\n",
    "* `keep_prob` for keep probability for dropout\n",
    "\n",
    "This function will be called for each batch, so `tf.global_variables_initializer()` has already been called.\n",
    "\n",
    "Note: Nothing needs to be returned. This function is only optimizing the neural network."
   ]
  },
  {
   "cell_type": "code",
   "execution_count": 38,
   "metadata": {
    "collapsed": false,
    "deletable": true,
    "editable": true
   },
   "outputs": [
    {
     "name": "stdout",
     "output_type": "stream",
     "text": [
      "Tests Passed\n"
     ]
    }
   ],
   "source": [
    "def train_neural_network(session, optimizer, keep_probability, feature_batch, label_batch):\n",
    "    \"\"\"\n",
    "    Optimize the session on a batch of images and labels\n",
    "    : session: Current TensorFlow session\n",
    "    : optimizer: TensorFlow optimizer function\n",
    "    : keep_probability: keep probability\n",
    "    : feature_batch: Batch of Numpy image data\n",
    "    : label_batch: Batch of Numpy label data\n",
    "    \"\"\"\n",
    "    # TODO: Implement Function\n",
    "    session.run(optimizer, feed_dict={x:feature_batch,y:label_batch, keep_prob: keep_probability})\n",
    "    pass\n",
    "\n",
    "\n",
    "\"\"\"\n",
    "DON'T MODIFY ANYTHING IN THIS CELL THAT IS BELOW THIS LINE\n",
    "\"\"\"\n",
    "tests.test_train_nn(train_neural_network)"
   ]
  },
  {
   "cell_type": "markdown",
   "metadata": {
    "deletable": true,
    "editable": true
   },
   "source": [
    "### Show Stats\n",
    "Implement the function `print_stats` to print loss and validation accuracy.  Use the global variables `valid_features` and `valid_labels` to calculate validation accuracy.  Use a keep probability of `1.0` to calculate the loss and validation accuracy."
   ]
  },
  {
   "cell_type": "code",
   "execution_count": 39,
   "metadata": {
    "collapsed": false,
    "deletable": true,
    "editable": true
   },
   "outputs": [],
   "source": [
    "def print_stats(session, feature_batch, label_batch, cost, accuracy):\n",
    "    \"\"\"\n",
    "    Print information about loss and validation accuracy\n",
    "    : session: Current TensorFlow session\n",
    "    : feature_batch: Batch of Numpy image data\n",
    "    : label_batch: Batch of Numpy label data\n",
    "    : cost: TensorFlow cost function\n",
    "    : accuracy: TensorFlow accuracy function\n",
    "    \"\"\"\n",
    "    # TODO: Implement Function\n",
    "    #Compute the loss\n",
    "    loss = session.run(cost,feed_dict={x:feature_batch, y: label_batch, keep_prob: 1.0})\n",
    "    #Compute the validation accuracy\n",
    "    val_accuracy = session.run(accuracy, feed_dict={x:valid_features, y:valid_labels, keep_prob: 1.0})\n",
    "    #print the loss and validation accuracy\n",
    "    print(\"The loss is: {:>10.4f} and the validation_accuracy is {:.6f}\".format(loss, val_accuracy))\n",
    "    pass"
   ]
  },
  {
   "cell_type": "markdown",
   "metadata": {
    "deletable": true,
    "editable": true
   },
   "source": [
    "### Hyperparameters\n",
    "Tune the following parameters:\n",
    "* Set `epochs` to the number of iterations until the network stops learning or start overfitting\n",
    "* Set `batch_size` to the highest number that your machine has memory for.  Most people set them to common sizes of memory:\n",
    " * 64\n",
    " * 128\n",
    " * 256\n",
    " * ...\n",
    "* Set `keep_probability` to the probability of keeping a node using dropout"
   ]
  },
  {
   "cell_type": "code",
   "execution_count": 40,
   "metadata": {
    "collapsed": true,
    "deletable": true,
    "editable": true
   },
   "outputs": [],
   "source": [
    "# TODO: Tune Parameters\n",
    "epochs = 40\n",
    "batch_size = 128\n",
    "keep_probability = 0.8"
   ]
  },
  {
   "cell_type": "markdown",
   "metadata": {
    "deletable": true,
    "editable": true
   },
   "source": [
    "### Train on a Single CIFAR-10 Batch\n",
    "Instead of training the neural network on all the CIFAR-10 batches of data, let's use a single batch. This should save time while you iterate on the model to get a better accuracy.  Once the final validation accuracy is 50% or greater, run the model on all the data in the next section."
   ]
  },
  {
   "cell_type": "code",
   "execution_count": 25,
   "metadata": {
    "collapsed": false,
    "deletable": true,
    "editable": true
   },
   "outputs": [
    {
     "name": "stdout",
     "output_type": "stream",
     "text": [
      "Checking the Training on a Single Batch...\n",
      "Epoch  1, CIFAR-10 Batch 1:  "
     ]
    },
    {
     "ename": "KeyboardInterrupt",
     "evalue": "",
     "output_type": "error",
     "traceback": [
      "\u001b[0;31m---------------------------------------------------------------------------\u001b[0m",
      "\u001b[0;31mKeyboardInterrupt\u001b[0m                         Traceback (most recent call last)",
      "\u001b[0;32m<ipython-input-25-0ebd1bbc35ad>\u001b[0m in \u001b[0;36m<module>\u001b[0;34m()\u001b[0m\n\u001b[1;32m     13\u001b[0m             \u001b[0mtrain_neural_network\u001b[0m\u001b[0;34m(\u001b[0m\u001b[0msess\u001b[0m\u001b[0;34m,\u001b[0m \u001b[0moptimizer\u001b[0m\u001b[0;34m,\u001b[0m \u001b[0mkeep_probability\u001b[0m\u001b[0;34m,\u001b[0m \u001b[0mbatch_features\u001b[0m\u001b[0;34m,\u001b[0m \u001b[0mbatch_labels\u001b[0m\u001b[0;34m)\u001b[0m\u001b[0;34m\u001b[0m\u001b[0m\n\u001b[1;32m     14\u001b[0m         \u001b[0mprint\u001b[0m\u001b[0;34m(\u001b[0m\u001b[0;34m'Epoch {:>2}, CIFAR-10 Batch {}:  '\u001b[0m\u001b[0;34m.\u001b[0m\u001b[0mformat\u001b[0m\u001b[0;34m(\u001b[0m\u001b[0mepoch\u001b[0m \u001b[0;34m+\u001b[0m \u001b[0;36m1\u001b[0m\u001b[0;34m,\u001b[0m \u001b[0mbatch_i\u001b[0m\u001b[0;34m)\u001b[0m\u001b[0;34m,\u001b[0m \u001b[0mend\u001b[0m\u001b[0;34m=\u001b[0m\u001b[0;34m''\u001b[0m\u001b[0;34m)\u001b[0m\u001b[0;34m\u001b[0m\u001b[0m\n\u001b[0;32m---> 15\u001b[0;31m         \u001b[0mprint_stats\u001b[0m\u001b[0;34m(\u001b[0m\u001b[0msess\u001b[0m\u001b[0;34m,\u001b[0m \u001b[0mbatch_features\u001b[0m\u001b[0;34m,\u001b[0m \u001b[0mbatch_labels\u001b[0m\u001b[0;34m,\u001b[0m \u001b[0mcost\u001b[0m\u001b[0;34m,\u001b[0m \u001b[0maccuracy\u001b[0m\u001b[0;34m)\u001b[0m\u001b[0;34m\u001b[0m\u001b[0m\n\u001b[0m",
      "\u001b[0;32m<ipython-input-14-a8a17aceba0c>\u001b[0m in \u001b[0;36mprint_stats\u001b[0;34m(session, feature_batch, label_batch, cost, accuracy)\u001b[0m\n\u001b[1;32m     12\u001b[0m     \u001b[0mloss\u001b[0m \u001b[0;34m=\u001b[0m \u001b[0msession\u001b[0m\u001b[0;34m.\u001b[0m\u001b[0mrun\u001b[0m\u001b[0;34m(\u001b[0m\u001b[0mcost\u001b[0m\u001b[0;34m,\u001b[0m\u001b[0mfeed_dict\u001b[0m\u001b[0;34m=\u001b[0m\u001b[0;34m{\u001b[0m\u001b[0mx\u001b[0m\u001b[0;34m:\u001b[0m\u001b[0mfeature_batch\u001b[0m\u001b[0;34m,\u001b[0m \u001b[0my\u001b[0m\u001b[0;34m:\u001b[0m \u001b[0mlabel_batch\u001b[0m\u001b[0;34m,\u001b[0m \u001b[0mkeep_prob\u001b[0m\u001b[0;34m:\u001b[0m \u001b[0;36m1.0\u001b[0m\u001b[0;34m}\u001b[0m\u001b[0;34m)\u001b[0m\u001b[0;34m\u001b[0m\u001b[0m\n\u001b[1;32m     13\u001b[0m     \u001b[0;31m#Compute the validation accuracy\u001b[0m\u001b[0;34m\u001b[0m\u001b[0;34m\u001b[0m\u001b[0m\n\u001b[0;32m---> 14\u001b[0;31m     \u001b[0mval_accuracy\u001b[0m \u001b[0;34m=\u001b[0m \u001b[0msession\u001b[0m\u001b[0;34m.\u001b[0m\u001b[0mrun\u001b[0m\u001b[0;34m(\u001b[0m\u001b[0maccuracy\u001b[0m\u001b[0;34m,\u001b[0m \u001b[0mfeed_dict\u001b[0m\u001b[0;34m=\u001b[0m\u001b[0;34m{\u001b[0m\u001b[0mx\u001b[0m\u001b[0;34m:\u001b[0m\u001b[0mvalid_features\u001b[0m\u001b[0;34m,\u001b[0m \u001b[0my\u001b[0m\u001b[0;34m:\u001b[0m\u001b[0mvalid_labels\u001b[0m\u001b[0;34m,\u001b[0m \u001b[0mkeep_prob\u001b[0m\u001b[0;34m:\u001b[0m \u001b[0;36m1.0\u001b[0m\u001b[0;34m}\u001b[0m\u001b[0;34m)\u001b[0m\u001b[0;34m\u001b[0m\u001b[0m\n\u001b[0m\u001b[1;32m     15\u001b[0m     \u001b[0;31m#print the loss and validation accuracy\u001b[0m\u001b[0;34m\u001b[0m\u001b[0;34m\u001b[0m\u001b[0m\n\u001b[1;32m     16\u001b[0m     \u001b[0mprint\u001b[0m\u001b[0;34m(\u001b[0m\u001b[0;34m\"The loss is: {:>10.4f} and the validation_accuracy is {:.6f}\"\u001b[0m\u001b[0;34m.\u001b[0m\u001b[0mformat\u001b[0m\u001b[0;34m(\u001b[0m\u001b[0mloss\u001b[0m\u001b[0;34m,\u001b[0m \u001b[0mval_accuracy\u001b[0m\u001b[0;34m)\u001b[0m\u001b[0;34m)\u001b[0m\u001b[0;34m\u001b[0m\u001b[0m\n",
      "\u001b[0;32m/home/carnd/anaconda3/envs/dl/lib/python3.5/site-packages/tensorflow/python/client/session.py\u001b[0m in \u001b[0;36mrun\u001b[0;34m(self, fetches, feed_dict, options, run_metadata)\u001b[0m\n\u001b[1;32m    765\u001b[0m     \u001b[0;32mtry\u001b[0m\u001b[0;34m:\u001b[0m\u001b[0;34m\u001b[0m\u001b[0m\n\u001b[1;32m    766\u001b[0m       result = self._run(None, fetches, feed_dict, options_ptr,\n\u001b[0;32m--> 767\u001b[0;31m                          run_metadata_ptr)\n\u001b[0m\u001b[1;32m    768\u001b[0m       \u001b[0;32mif\u001b[0m \u001b[0mrun_metadata\u001b[0m\u001b[0;34m:\u001b[0m\u001b[0;34m\u001b[0m\u001b[0m\n\u001b[1;32m    769\u001b[0m         \u001b[0mproto_data\u001b[0m \u001b[0;34m=\u001b[0m \u001b[0mtf_session\u001b[0m\u001b[0;34m.\u001b[0m\u001b[0mTF_GetBuffer\u001b[0m\u001b[0;34m(\u001b[0m\u001b[0mrun_metadata_ptr\u001b[0m\u001b[0;34m)\u001b[0m\u001b[0;34m\u001b[0m\u001b[0m\n",
      "\u001b[0;32m/home/carnd/anaconda3/envs/dl/lib/python3.5/site-packages/tensorflow/python/client/session.py\u001b[0m in \u001b[0;36m_run\u001b[0;34m(self, handle, fetches, feed_dict, options, run_metadata)\u001b[0m\n\u001b[1;32m    963\u001b[0m     \u001b[0;32mif\u001b[0m \u001b[0mfinal_fetches\u001b[0m \u001b[0;32mor\u001b[0m \u001b[0mfinal_targets\u001b[0m\u001b[0;34m:\u001b[0m\u001b[0;34m\u001b[0m\u001b[0m\n\u001b[1;32m    964\u001b[0m       results = self._do_run(handle, final_targets, final_fetches,\n\u001b[0;32m--> 965\u001b[0;31m                              feed_dict_string, options, run_metadata)\n\u001b[0m\u001b[1;32m    966\u001b[0m     \u001b[0;32melse\u001b[0m\u001b[0;34m:\u001b[0m\u001b[0;34m\u001b[0m\u001b[0m\n\u001b[1;32m    967\u001b[0m       \u001b[0mresults\u001b[0m \u001b[0;34m=\u001b[0m \u001b[0;34m[\u001b[0m\u001b[0;34m]\u001b[0m\u001b[0;34m\u001b[0m\u001b[0m\n",
      "\u001b[0;32m/home/carnd/anaconda3/envs/dl/lib/python3.5/site-packages/tensorflow/python/client/session.py\u001b[0m in \u001b[0;36m_do_run\u001b[0;34m(self, handle, target_list, fetch_list, feed_dict, options, run_metadata)\u001b[0m\n\u001b[1;32m   1013\u001b[0m     \u001b[0;32mif\u001b[0m \u001b[0mhandle\u001b[0m \u001b[0;32mis\u001b[0m \u001b[0;32mNone\u001b[0m\u001b[0;34m:\u001b[0m\u001b[0;34m\u001b[0m\u001b[0m\n\u001b[1;32m   1014\u001b[0m       return self._do_call(_run_fn, self._session, feed_dict, fetch_list,\n\u001b[0;32m-> 1015\u001b[0;31m                            target_list, options, run_metadata)\n\u001b[0m\u001b[1;32m   1016\u001b[0m     \u001b[0;32melse\u001b[0m\u001b[0;34m:\u001b[0m\u001b[0;34m\u001b[0m\u001b[0m\n\u001b[1;32m   1017\u001b[0m       return self._do_call(_prun_fn, self._session, handle, feed_dict,\n",
      "\u001b[0;32m/home/carnd/anaconda3/envs/dl/lib/python3.5/site-packages/tensorflow/python/client/session.py\u001b[0m in \u001b[0;36m_do_call\u001b[0;34m(self, fn, *args)\u001b[0m\n\u001b[1;32m   1020\u001b[0m   \u001b[0;32mdef\u001b[0m \u001b[0m_do_call\u001b[0m\u001b[0;34m(\u001b[0m\u001b[0mself\u001b[0m\u001b[0;34m,\u001b[0m \u001b[0mfn\u001b[0m\u001b[0;34m,\u001b[0m \u001b[0;34m*\u001b[0m\u001b[0margs\u001b[0m\u001b[0;34m)\u001b[0m\u001b[0;34m:\u001b[0m\u001b[0;34m\u001b[0m\u001b[0m\n\u001b[1;32m   1021\u001b[0m     \u001b[0;32mtry\u001b[0m\u001b[0;34m:\u001b[0m\u001b[0;34m\u001b[0m\u001b[0m\n\u001b[0;32m-> 1022\u001b[0;31m       \u001b[0;32mreturn\u001b[0m \u001b[0mfn\u001b[0m\u001b[0;34m(\u001b[0m\u001b[0;34m*\u001b[0m\u001b[0margs\u001b[0m\u001b[0;34m)\u001b[0m\u001b[0;34m\u001b[0m\u001b[0m\n\u001b[0m\u001b[1;32m   1023\u001b[0m     \u001b[0;32mexcept\u001b[0m \u001b[0merrors\u001b[0m\u001b[0;34m.\u001b[0m\u001b[0mOpError\u001b[0m \u001b[0;32mas\u001b[0m \u001b[0me\u001b[0m\u001b[0;34m:\u001b[0m\u001b[0;34m\u001b[0m\u001b[0m\n\u001b[1;32m   1024\u001b[0m       \u001b[0mmessage\u001b[0m \u001b[0;34m=\u001b[0m \u001b[0mcompat\u001b[0m\u001b[0;34m.\u001b[0m\u001b[0mas_text\u001b[0m\u001b[0;34m(\u001b[0m\u001b[0me\u001b[0m\u001b[0;34m.\u001b[0m\u001b[0mmessage\u001b[0m\u001b[0;34m)\u001b[0m\u001b[0;34m\u001b[0m\u001b[0m\n",
      "\u001b[0;32m/home/carnd/anaconda3/envs/dl/lib/python3.5/site-packages/tensorflow/python/client/session.py\u001b[0m in \u001b[0;36m_run_fn\u001b[0;34m(session, feed_dict, fetch_list, target_list, options, run_metadata)\u001b[0m\n\u001b[1;32m   1002\u001b[0m         return tf_session.TF_Run(session, options,\n\u001b[1;32m   1003\u001b[0m                                  \u001b[0mfeed_dict\u001b[0m\u001b[0;34m,\u001b[0m \u001b[0mfetch_list\u001b[0m\u001b[0;34m,\u001b[0m \u001b[0mtarget_list\u001b[0m\u001b[0;34m,\u001b[0m\u001b[0;34m\u001b[0m\u001b[0m\n\u001b[0;32m-> 1004\u001b[0;31m                                  status, run_metadata)\n\u001b[0m\u001b[1;32m   1005\u001b[0m \u001b[0;34m\u001b[0m\u001b[0m\n\u001b[1;32m   1006\u001b[0m     \u001b[0;32mdef\u001b[0m \u001b[0m_prun_fn\u001b[0m\u001b[0;34m(\u001b[0m\u001b[0msession\u001b[0m\u001b[0;34m,\u001b[0m \u001b[0mhandle\u001b[0m\u001b[0;34m,\u001b[0m \u001b[0mfeed_dict\u001b[0m\u001b[0;34m,\u001b[0m \u001b[0mfetch_list\u001b[0m\u001b[0;34m)\u001b[0m\u001b[0;34m:\u001b[0m\u001b[0;34m\u001b[0m\u001b[0m\n",
      "\u001b[0;31mKeyboardInterrupt\u001b[0m: "
     ]
    }
   ],
   "source": [
    "\"\"\"\n",
    "DON'T MODIFY ANYTHING IN THIS CELL\n",
    "\"\"\"\n",
    "print('Checking the Training on a Single Batch...')\n",
    "with tf.Session() as sess:\n",
    "    # Initializing the variables\n",
    "    sess.run(tf.global_variables_initializer())\n",
    "    \n",
    "    # Training cycle\n",
    "    for epoch in range(epochs):\n",
    "        batch_i = 1\n",
    "        for batch_features, batch_labels in helper.load_preprocess_training_batch(batch_i, batch_size):\n",
    "            train_neural_network(sess, optimizer, keep_probability, batch_features, batch_labels)\n",
    "        print('Epoch {:>2}, CIFAR-10 Batch {}:  '.format(epoch + 1, batch_i), end='')\n",
    "        print_stats(sess, batch_features, batch_labels, cost, accuracy)"
   ]
  },
  {
   "cell_type": "markdown",
   "metadata": {
    "deletable": true,
    "editable": true
   },
   "source": [
    "### Fully Train the Model\n",
    "Now that you got a good accuracy with a single CIFAR-10 batch, try it with all five batches."
   ]
  },
  {
   "cell_type": "code",
   "execution_count": 41,
   "metadata": {
    "collapsed": false,
    "deletable": true,
    "editable": true
   },
   "outputs": [
    {
     "name": "stdout",
     "output_type": "stream",
     "text": [
      "Training...\n",
      "Epoch  1, CIFAR-10 Batch 1:  The loss is:     2.4378 and the validation_accuracy is 0.158600\n",
      "Epoch  1, CIFAR-10 Batch 2:  The loss is:     2.3036 and the validation_accuracy is 0.095000\n",
      "Epoch  1, CIFAR-10 Batch 3:  The loss is:     2.3005 and the validation_accuracy is 0.094800\n",
      "Epoch  1, CIFAR-10 Batch 4:  The loss is:     2.2967 and the validation_accuracy is 0.094400\n",
      "Epoch  1, CIFAR-10 Batch 5:  The loss is:     2.3015 and the validation_accuracy is 0.094200\n",
      "Epoch  2, CIFAR-10 Batch 1:  The loss is:     2.3032 and the validation_accuracy is 0.095000\n",
      "Epoch  2, CIFAR-10 Batch 2:  The loss is:     2.2895 and the validation_accuracy is 0.114400\n",
      "Epoch  2, CIFAR-10 Batch 3:  The loss is:     2.2149 and the validation_accuracy is 0.165200\n",
      "Epoch  2, CIFAR-10 Batch 4:  The loss is:     2.1322 and the validation_accuracy is 0.169800\n",
      "Epoch  2, CIFAR-10 Batch 5:  The loss is:     2.2732 and the validation_accuracy is 0.179600\n",
      "Epoch  3, CIFAR-10 Batch 1:  The loss is:     2.2223 and the validation_accuracy is 0.212600\n",
      "Epoch  3, CIFAR-10 Batch 2:  The loss is:     2.1271 and the validation_accuracy is 0.234200\n",
      "Epoch  3, CIFAR-10 Batch 3:  The loss is:     1.8229 and the validation_accuracy is 0.264800\n",
      "Epoch  3, CIFAR-10 Batch 4:  The loss is:     1.8060 and the validation_accuracy is 0.276400\n",
      "Epoch  3, CIFAR-10 Batch 5:  The loss is:     1.9035 and the validation_accuracy is 0.275000\n",
      "Epoch  4, CIFAR-10 Batch 1:  The loss is:     1.9577 and the validation_accuracy is 0.300800\n",
      "Epoch  4, CIFAR-10 Batch 2:  The loss is:     1.9525 and the validation_accuracy is 0.316200\n",
      "Epoch  4, CIFAR-10 Batch 3:  The loss is:     1.6584 and the validation_accuracy is 0.314600\n",
      "Epoch  4, CIFAR-10 Batch 4:  The loss is:     1.7245 and the validation_accuracy is 0.335600\n",
      "Epoch  4, CIFAR-10 Batch 5:  The loss is:     1.7946 and the validation_accuracy is 0.316400\n",
      "Epoch  5, CIFAR-10 Batch 1:  The loss is:     1.8712 and the validation_accuracy is 0.353600\n",
      "Epoch  5, CIFAR-10 Batch 2:  The loss is:     1.8381 and the validation_accuracy is 0.353600\n",
      "Epoch  5, CIFAR-10 Batch 3:  The loss is:     1.4857 and the validation_accuracy is 0.351600\n",
      "Epoch  5, CIFAR-10 Batch 4:  The loss is:     1.6841 and the validation_accuracy is 0.374600\n",
      "Epoch  5, CIFAR-10 Batch 5:  The loss is:     1.6291 and the validation_accuracy is 0.369600\n",
      "Epoch  6, CIFAR-10 Batch 1:  The loss is:     1.8285 and the validation_accuracy is 0.381600\n",
      "Epoch  6, CIFAR-10 Batch 2:  The loss is:     1.6558 and the validation_accuracy is 0.386200\n",
      "Epoch  6, CIFAR-10 Batch 3:  The loss is:     1.3719 and the validation_accuracy is 0.382000\n",
      "Epoch  6, CIFAR-10 Batch 4:  The loss is:     1.5368 and the validation_accuracy is 0.404200\n",
      "Epoch  6, CIFAR-10 Batch 5:  The loss is:     1.6012 and the validation_accuracy is 0.368800\n",
      "Epoch  7, CIFAR-10 Batch 1:  The loss is:     1.7055 and the validation_accuracy is 0.401000\n",
      "Epoch  7, CIFAR-10 Batch 2:  The loss is:     1.5884 and the validation_accuracy is 0.424200\n",
      "Epoch  7, CIFAR-10 Batch 3:  The loss is:     1.2484 and the validation_accuracy is 0.400800\n",
      "Epoch  7, CIFAR-10 Batch 4:  The loss is:     1.4834 and the validation_accuracy is 0.432800\n",
      "Epoch  7, CIFAR-10 Batch 5:  The loss is:     1.5044 and the validation_accuracy is 0.405200\n",
      "Epoch  8, CIFAR-10 Batch 1:  The loss is:     1.5441 and the validation_accuracy is 0.420200\n",
      "Epoch  8, CIFAR-10 Batch 2:  The loss is:     1.4622 and the validation_accuracy is 0.439200\n",
      "Epoch  8, CIFAR-10 Batch 3:  The loss is:     1.1380 and the validation_accuracy is 0.439400\n",
      "Epoch  8, CIFAR-10 Batch 4:  The loss is:     1.3984 and the validation_accuracy is 0.446600\n",
      "Epoch  8, CIFAR-10 Batch 5:  The loss is:     1.3234 and the validation_accuracy is 0.430400\n",
      "Epoch  9, CIFAR-10 Batch 1:  The loss is:     1.4550 and the validation_accuracy is 0.445400\n",
      "Epoch  9, CIFAR-10 Batch 2:  The loss is:     1.3423 and the validation_accuracy is 0.459600\n",
      "Epoch  9, CIFAR-10 Batch 3:  The loss is:     1.0816 and the validation_accuracy is 0.450800\n",
      "Epoch  9, CIFAR-10 Batch 4:  The loss is:     1.2700 and the validation_accuracy is 0.468000\n",
      "Epoch  9, CIFAR-10 Batch 5:  The loss is:     1.2369 and the validation_accuracy is 0.454800\n",
      "Epoch 10, CIFAR-10 Batch 1:  The loss is:     1.2655 and the validation_accuracy is 0.477400\n",
      "Epoch 10, CIFAR-10 Batch 2:  The loss is:     1.2445 and the validation_accuracy is 0.476200\n",
      "Epoch 10, CIFAR-10 Batch 3:  The loss is:     1.0040 and the validation_accuracy is 0.483800\n",
      "Epoch 10, CIFAR-10 Batch 4:  The loss is:     1.2169 and the validation_accuracy is 0.480800\n",
      "Epoch 10, CIFAR-10 Batch 5:  The loss is:     1.2107 and the validation_accuracy is 0.453400\n",
      "Epoch 11, CIFAR-10 Batch 1:  The loss is:     1.1942 and the validation_accuracy is 0.478600\n",
      "Epoch 11, CIFAR-10 Batch 2:  The loss is:     1.0817 and the validation_accuracy is 0.486000\n",
      "Epoch 11, CIFAR-10 Batch 3:  The loss is:     0.9117 and the validation_accuracy is 0.503800\n",
      "Epoch 11, CIFAR-10 Batch 4:  The loss is:     1.1180 and the validation_accuracy is 0.500400\n",
      "Epoch 11, CIFAR-10 Batch 5:  The loss is:     1.1195 and the validation_accuracy is 0.485000\n",
      "Epoch 12, CIFAR-10 Batch 1:  The loss is:     1.1451 and the validation_accuracy is 0.508800\n",
      "Epoch 12, CIFAR-10 Batch 2:  The loss is:     1.0035 and the validation_accuracy is 0.506400\n",
      "Epoch 12, CIFAR-10 Batch 3:  The loss is:     0.8116 and the validation_accuracy is 0.515600\n",
      "Epoch 12, CIFAR-10 Batch 4:  The loss is:     0.9918 and the validation_accuracy is 0.525600\n",
      "Epoch 12, CIFAR-10 Batch 5:  The loss is:     0.9918 and the validation_accuracy is 0.509400\n",
      "Epoch 13, CIFAR-10 Batch 1:  The loss is:     0.9320 and the validation_accuracy is 0.523400\n",
      "Epoch 13, CIFAR-10 Batch 2:  The loss is:     0.9343 and the validation_accuracy is 0.535000\n",
      "Epoch 13, CIFAR-10 Batch 3:  The loss is:     0.7194 and the validation_accuracy is 0.541200\n",
      "Epoch 13, CIFAR-10 Batch 4:  The loss is:     0.8332 and the validation_accuracy is 0.539400\n",
      "Epoch 13, CIFAR-10 Batch 5:  The loss is:     0.8141 and the validation_accuracy is 0.532000\n",
      "Epoch 14, CIFAR-10 Batch 1:  The loss is:     0.9521 and the validation_accuracy is 0.550000\n",
      "Epoch 14, CIFAR-10 Batch 2:  The loss is:     0.8525 and the validation_accuracy is 0.526400\n",
      "Epoch 14, CIFAR-10 Batch 3:  The loss is:     0.6082 and the validation_accuracy is 0.561800\n",
      "Epoch 14, CIFAR-10 Batch 4:  The loss is:     0.7610 and the validation_accuracy is 0.557000\n",
      "Epoch 14, CIFAR-10 Batch 5:  The loss is:     0.7845 and the validation_accuracy is 0.558600\n",
      "Epoch 15, CIFAR-10 Batch 1:  The loss is:     0.8493 and the validation_accuracy is 0.552600\n",
      "Epoch 15, CIFAR-10 Batch 2:  The loss is:     0.7595 and the validation_accuracy is 0.548600\n",
      "Epoch 15, CIFAR-10 Batch 3:  The loss is:     0.5930 and the validation_accuracy is 0.569400\n",
      "Epoch 15, CIFAR-10 Batch 4:  The loss is:     0.7231 and the validation_accuracy is 0.561600\n",
      "Epoch 15, CIFAR-10 Batch 5:  The loss is:     0.7265 and the validation_accuracy is 0.568400\n",
      "Epoch 16, CIFAR-10 Batch 1:  The loss is:     0.7045 and the validation_accuracy is 0.561200\n",
      "Epoch 16, CIFAR-10 Batch 2:  The loss is:     0.7367 and the validation_accuracy is 0.562000\n",
      "Epoch 16, CIFAR-10 Batch 3:  The loss is:     0.5588 and the validation_accuracy is 0.566800\n",
      "Epoch 16, CIFAR-10 Batch 4:  The loss is:     0.6564 and the validation_accuracy is 0.574400\n",
      "Epoch 16, CIFAR-10 Batch 5:  The loss is:     0.6105 and the validation_accuracy is 0.575200\n",
      "Epoch 17, CIFAR-10 Batch 1:  The loss is:     0.6559 and the validation_accuracy is 0.574000\n",
      "Epoch 17, CIFAR-10 Batch 2:  The loss is:     0.5878 and the validation_accuracy is 0.581600\n",
      "Epoch 17, CIFAR-10 Batch 3:  The loss is:     0.5535 and the validation_accuracy is 0.581400\n",
      "Epoch 17, CIFAR-10 Batch 4:  The loss is:     0.6214 and the validation_accuracy is 0.574200\n",
      "Epoch 17, CIFAR-10 Batch 5:  The loss is:     0.4841 and the validation_accuracy is 0.584000\n",
      "Epoch 18, CIFAR-10 Batch 1:  The loss is:     0.5426 and the validation_accuracy is 0.580200\n",
      "Epoch 18, CIFAR-10 Batch 2:  The loss is:     0.5737 and the validation_accuracy is 0.590400\n",
      "Epoch 18, CIFAR-10 Batch 3:  The loss is:     0.4381 and the validation_accuracy is 0.584800\n",
      "Epoch 18, CIFAR-10 Batch 4:  The loss is:     0.5673 and the validation_accuracy is 0.581800\n",
      "Epoch 18, CIFAR-10 Batch 5:  The loss is:     0.4790 and the validation_accuracy is 0.591200\n",
      "Epoch 19, CIFAR-10 Batch 1:  The loss is:     0.5713 and the validation_accuracy is 0.597600\n",
      "Epoch 19, CIFAR-10 Batch 2:  The loss is:     0.5363 and the validation_accuracy is 0.587800\n",
      "Epoch 19, CIFAR-10 Batch 3:  The loss is:     0.3956 and the validation_accuracy is 0.583600\n",
      "Epoch 19, CIFAR-10 Batch 4:  The loss is:     0.4752 and the validation_accuracy is 0.574400\n",
      "Epoch 19, CIFAR-10 Batch 5:  The loss is:     0.4816 and the validation_accuracy is 0.584600\n",
      "Epoch 20, CIFAR-10 Batch 1:  The loss is:     0.4866 and the validation_accuracy is 0.594400\n",
      "Epoch 20, CIFAR-10 Batch 2:  The loss is:     0.4746 and the validation_accuracy is 0.592600\n",
      "Epoch 20, CIFAR-10 Batch 3:  The loss is:     0.3697 and the validation_accuracy is 0.588400\n",
      "Epoch 20, CIFAR-10 Batch 4:  The loss is:     0.5100 and the validation_accuracy is 0.594400\n",
      "Epoch 20, CIFAR-10 Batch 5:  The loss is:     0.3992 and the validation_accuracy is 0.597600\n",
      "Epoch 21, CIFAR-10 Batch 1:  The loss is:     0.4915 and the validation_accuracy is 0.586800\n",
      "Epoch 21, CIFAR-10 Batch 2:  The loss is:     0.4076 and the validation_accuracy is 0.589600\n",
      "Epoch 21, CIFAR-10 Batch 3:  The loss is:     0.3521 and the validation_accuracy is 0.593800\n",
      "Epoch 21, CIFAR-10 Batch 4:  The loss is:     0.4457 and the validation_accuracy is 0.588400\n",
      "Epoch 21, CIFAR-10 Batch 5:  The loss is:     0.3174 and the validation_accuracy is 0.601000\n",
      "Epoch 22, CIFAR-10 Batch 1:  The loss is:     0.4534 and the validation_accuracy is 0.595600\n",
      "Epoch 22, CIFAR-10 Batch 2:  The loss is:     0.3826 and the validation_accuracy is 0.584600\n",
      "Epoch 22, CIFAR-10 Batch 3:  The loss is:     0.3064 and the validation_accuracy is 0.595800\n",
      "Epoch 22, CIFAR-10 Batch 4:  The loss is:     0.3842 and the validation_accuracy is 0.587400\n",
      "Epoch 22, CIFAR-10 Batch 5:  The loss is:     0.3426 and the validation_accuracy is 0.600200\n",
      "Epoch 23, CIFAR-10 Batch 1:  The loss is:     0.4235 and the validation_accuracy is 0.599200\n",
      "Epoch 23, CIFAR-10 Batch 2:  The loss is:     0.3298 and the validation_accuracy is 0.599400\n",
      "Epoch 23, CIFAR-10 Batch 3:  The loss is:     0.2839 and the validation_accuracy is 0.597400\n",
      "Epoch 23, CIFAR-10 Batch 4:  The loss is:     0.3496 and the validation_accuracy is 0.597600\n",
      "Epoch 23, CIFAR-10 Batch 5:  The loss is:     0.2551 and the validation_accuracy is 0.608000\n",
      "Epoch 24, CIFAR-10 Batch 1:  The loss is:     0.3393 and the validation_accuracy is 0.606800\n",
      "Epoch 24, CIFAR-10 Batch 2:  The loss is:     0.2908 and the validation_accuracy is 0.613600\n",
      "Epoch 24, CIFAR-10 Batch 3:  The loss is:     0.2828 and the validation_accuracy is 0.608200\n",
      "Epoch 24, CIFAR-10 Batch 4:  The loss is:     0.2847 and the validation_accuracy is 0.598200\n",
      "Epoch 24, CIFAR-10 Batch 5:  The loss is:     0.2954 and the validation_accuracy is 0.597000\n",
      "Epoch 25, CIFAR-10 Batch 1:  The loss is:     0.2864 and the validation_accuracy is 0.613800\n",
      "Epoch 25, CIFAR-10 Batch 2:  The loss is:     0.2702 and the validation_accuracy is 0.617800\n",
      "Epoch 25, CIFAR-10 Batch 3:  The loss is:     0.2350 and the validation_accuracy is 0.606400\n",
      "Epoch 25, CIFAR-10 Batch 4:  The loss is:     0.2693 and the validation_accuracy is 0.610000\n",
      "Epoch 25, CIFAR-10 Batch 5:  The loss is:     0.2075 and the validation_accuracy is 0.609200\n",
      "Epoch 26, CIFAR-10 Batch 1:  The loss is:     0.2521 and the validation_accuracy is 0.621400\n",
      "Epoch 26, CIFAR-10 Batch 2:  The loss is:     0.2147 and the validation_accuracy is 0.615000\n",
      "Epoch 26, CIFAR-10 Batch 3:  The loss is:     0.2053 and the validation_accuracy is 0.614400\n",
      "Epoch 26, CIFAR-10 Batch 4:  The loss is:     0.2973 and the validation_accuracy is 0.612800\n",
      "Epoch 26, CIFAR-10 Batch 5:  The loss is:     0.1966 and the validation_accuracy is 0.601400\n",
      "Epoch 27, CIFAR-10 Batch 1:  The loss is:     0.2788 and the validation_accuracy is 0.611200\n",
      "Epoch 27, CIFAR-10 Batch 2:  The loss is:     0.2124 and the validation_accuracy is 0.619000\n",
      "Epoch 27, CIFAR-10 Batch 3:  The loss is:     0.2209 and the validation_accuracy is 0.617600\n",
      "Epoch 27, CIFAR-10 Batch 4:  The loss is:     0.2208 and the validation_accuracy is 0.616200\n",
      "Epoch 27, CIFAR-10 Batch 5:  The loss is:     0.1927 and the validation_accuracy is 0.606400\n",
      "Epoch 28, CIFAR-10 Batch 1:  The loss is:     0.2472 and the validation_accuracy is 0.605600\n",
      "Epoch 28, CIFAR-10 Batch 2:  The loss is:     0.2185 and the validation_accuracy is 0.613600\n",
      "Epoch 28, CIFAR-10 Batch 3:  The loss is:     0.1702 and the validation_accuracy is 0.628000\n",
      "Epoch 28, CIFAR-10 Batch 4:  The loss is:     0.1862 and the validation_accuracy is 0.611000\n",
      "Epoch 28, CIFAR-10 Batch 5:  The loss is:     0.1753 and the validation_accuracy is 0.608800\n",
      "Epoch 29, CIFAR-10 Batch 1:  The loss is:     0.2336 and the validation_accuracy is 0.604000\n",
      "Epoch 29, CIFAR-10 Batch 2:  The loss is:     0.1880 and the validation_accuracy is 0.618600\n",
      "Epoch 29, CIFAR-10 Batch 3:  The loss is:     0.1715 and the validation_accuracy is 0.630200\n",
      "Epoch 29, CIFAR-10 Batch 4:  The loss is:     0.2030 and the validation_accuracy is 0.612200\n",
      "Epoch 29, CIFAR-10 Batch 5:  The loss is:     0.1320 and the validation_accuracy is 0.621800\n",
      "Epoch 30, CIFAR-10 Batch 1:  The loss is:     0.1952 and the validation_accuracy is 0.620600\n",
      "Epoch 30, CIFAR-10 Batch 2:  The loss is:     0.1481 and the validation_accuracy is 0.618800\n",
      "Epoch 30, CIFAR-10 Batch 3:  The loss is:     0.1631 and the validation_accuracy is 0.626800\n",
      "Epoch 30, CIFAR-10 Batch 4:  The loss is:     0.1441 and the validation_accuracy is 0.632000\n",
      "Epoch 30, CIFAR-10 Batch 5:  The loss is:     0.1264 and the validation_accuracy is 0.618600\n",
      "Epoch 31, CIFAR-10 Batch 1:  The loss is:     0.1944 and the validation_accuracy is 0.627400\n",
      "Epoch 31, CIFAR-10 Batch 2:  The loss is:     0.1093 and the validation_accuracy is 0.622000\n",
      "Epoch 31, CIFAR-10 Batch 3:  The loss is:     0.1497 and the validation_accuracy is 0.635800\n",
      "Epoch 31, CIFAR-10 Batch 4:  The loss is:     0.1766 and the validation_accuracy is 0.625400\n",
      "Epoch 31, CIFAR-10 Batch 5:  The loss is:     0.0918 and the validation_accuracy is 0.622400\n",
      "Epoch 32, CIFAR-10 Batch 1:  The loss is:     0.1739 and the validation_accuracy is 0.632400\n",
      "Epoch 32, CIFAR-10 Batch 2:  The loss is:     0.0935 and the validation_accuracy is 0.624000\n",
      "Epoch 32, CIFAR-10 Batch 3:  The loss is:     0.1578 and the validation_accuracy is 0.632800\n",
      "Epoch 32, CIFAR-10 Batch 4:  The loss is:     0.1302 and the validation_accuracy is 0.620800\n",
      "Epoch 32, CIFAR-10 Batch 5:  The loss is:     0.0812 and the validation_accuracy is 0.617800\n",
      "Epoch 33, CIFAR-10 Batch 1:  The loss is:     0.1307 and the validation_accuracy is 0.628800\n",
      "Epoch 33, CIFAR-10 Batch 2:  The loss is:     0.0814 and the validation_accuracy is 0.628200\n",
      "Epoch 33, CIFAR-10 Batch 3:  The loss is:     0.1306 and the validation_accuracy is 0.639200\n",
      "Epoch 33, CIFAR-10 Batch 4:  The loss is:     0.1149 and the validation_accuracy is 0.626200\n",
      "Epoch 33, CIFAR-10 Batch 5:  The loss is:     0.0640 and the validation_accuracy is 0.611000\n",
      "Epoch 34, CIFAR-10 Batch 1:  The loss is:     0.1098 and the validation_accuracy is 0.627600\n",
      "Epoch 34, CIFAR-10 Batch 2:  The loss is:     0.0745 and the validation_accuracy is 0.630400\n",
      "Epoch 34, CIFAR-10 Batch 3:  The loss is:     0.0916 and the validation_accuracy is 0.634400\n",
      "Epoch 34, CIFAR-10 Batch 4:  The loss is:     0.0999 and the validation_accuracy is 0.631800\n",
      "Epoch 34, CIFAR-10 Batch 5:  The loss is:     0.0521 and the validation_accuracy is 0.609400\n",
      "Epoch 35, CIFAR-10 Batch 1:  The loss is:     0.1008 and the validation_accuracy is 0.638800\n",
      "Epoch 35, CIFAR-10 Batch 2:  The loss is:     0.0699 and the validation_accuracy is 0.628600\n",
      "Epoch 35, CIFAR-10 Batch 3:  The loss is:     0.1021 and the validation_accuracy is 0.630600\n",
      "Epoch 35, CIFAR-10 Batch 4:  The loss is:     0.0811 and the validation_accuracy is 0.624000\n",
      "Epoch 35, CIFAR-10 Batch 5:  The loss is:     0.0499 and the validation_accuracy is 0.608000\n",
      "Epoch 36, CIFAR-10 Batch 1:  The loss is:     0.0935 and the validation_accuracy is 0.629600\n",
      "Epoch 36, CIFAR-10 Batch 2:  The loss is:     0.0378 and the validation_accuracy is 0.625200\n",
      "Epoch 36, CIFAR-10 Batch 3:  The loss is:     0.0558 and the validation_accuracy is 0.626400\n",
      "Epoch 36, CIFAR-10 Batch 4:  The loss is:     0.0496 and the validation_accuracy is 0.607400\n",
      "Epoch 36, CIFAR-10 Batch 5:  The loss is:     0.0288 and the validation_accuracy is 0.617600\n",
      "Epoch 37, CIFAR-10 Batch 1:  The loss is:     0.1079 and the validation_accuracy is 0.620000\n",
      "Epoch 37, CIFAR-10 Batch 2:  The loss is:     0.0438 and the validation_accuracy is 0.625800\n",
      "Epoch 37, CIFAR-10 Batch 3:  The loss is:     0.0594 and the validation_accuracy is 0.618000\n",
      "Epoch 37, CIFAR-10 Batch 4:  The loss is:     0.0540 and the validation_accuracy is 0.627400\n",
      "Epoch 37, CIFAR-10 Batch 5:  The loss is:     0.0407 and the validation_accuracy is 0.609200\n",
      "Epoch 38, CIFAR-10 Batch 1:  The loss is:     0.0750 and the validation_accuracy is 0.621600\n",
      "Epoch 38, CIFAR-10 Batch 2:  The loss is:     0.0329 and the validation_accuracy is 0.626400\n",
      "Epoch 38, CIFAR-10 Batch 3:  The loss is:     0.0506 and the validation_accuracy is 0.617600\n",
      "Epoch 38, CIFAR-10 Batch 4:  The loss is:     0.0395 and the validation_accuracy is 0.626200\n",
      "Epoch 38, CIFAR-10 Batch 5:  The loss is:     0.0521 and the validation_accuracy is 0.623400\n",
      "Epoch 39, CIFAR-10 Batch 1:  The loss is:     0.0622 and the validation_accuracy is 0.621800\n",
      "Epoch 39, CIFAR-10 Batch 2:  The loss is:     0.0493 and the validation_accuracy is 0.610800\n",
      "Epoch 39, CIFAR-10 Batch 3:  The loss is:     0.0347 and the validation_accuracy is 0.634000\n",
      "Epoch 39, CIFAR-10 Batch 4:  The loss is:     0.0312 and the validation_accuracy is 0.622200\n",
      "Epoch 39, CIFAR-10 Batch 5:  The loss is:     0.0209 and the validation_accuracy is 0.628800\n",
      "Epoch 40, CIFAR-10 Batch 1:  The loss is:     0.0707 and the validation_accuracy is 0.618400\n",
      "Epoch 40, CIFAR-10 Batch 2:  The loss is:     0.0356 and the validation_accuracy is 0.614000\n",
      "Epoch 40, CIFAR-10 Batch 3:  The loss is:     0.0296 and the validation_accuracy is 0.609000\n",
      "Epoch 40, CIFAR-10 Batch 4:  The loss is:     0.0259 and the validation_accuracy is 0.619400\n",
      "Epoch 40, CIFAR-10 Batch 5:  The loss is:     0.0202 and the validation_accuracy is 0.636600\n"
     ]
    }
   ],
   "source": [
    "\"\"\"\n",
    "DON'T MODIFY ANYTHING IN THIS CELL\n",
    "\"\"\"\n",
    "save_model_path = './image_classification'\n",
    "\n",
    "print('Training...')\n",
    "with tf.Session() as sess:\n",
    "    # Initializing the variables\n",
    "    sess.run(tf.global_variables_initializer())\n",
    "    \n",
    "    # Training cycle\n",
    "    for epoch in range(epochs):\n",
    "        # Loop over all batches\n",
    "        n_batches = 5\n",
    "        for batch_i in range(1, n_batches + 1):\n",
    "            for batch_features, batch_labels in helper.load_preprocess_training_batch(batch_i, batch_size):\n",
    "                train_neural_network(sess, optimizer, keep_probability, batch_features, batch_labels)\n",
    "            print('Epoch {:>2}, CIFAR-10 Batch {}:  '.format(epoch + 1, batch_i), end='')\n",
    "            print_stats(sess, batch_features, batch_labels, cost, accuracy)\n",
    "            \n",
    "    # Save Model\n",
    "    saver = tf.train.Saver()\n",
    "    save_path = saver.save(sess, save_model_path)"
   ]
  },
  {
   "cell_type": "markdown",
   "metadata": {
    "deletable": true,
    "editable": true
   },
   "source": [
    "# Checkpoint\n",
    "The model has been saved to disk.\n",
    "## Test Model\n",
    "Test your model against the test dataset.  This will be your final accuracy. You should have an accuracy greater than 50%. If you don't, keep tweaking the model architecture and parameters."
   ]
  },
  {
   "cell_type": "code",
   "execution_count": 43,
   "metadata": {
    "collapsed": false,
    "deletable": true,
    "editable": true
   },
   "outputs": [
    {
     "name": "stdout",
     "output_type": "stream",
     "text": [
      "Testing Accuracy: 0.6357792721518988\n",
      "\n"
     ]
    },
    {
     "data": {
      "image/png": "[encoded data removed]",
      "text/plain": [
       "<matplotlib.figure.Figure at 0x7fb5606aef28>"
      ]
     },
     "metadata": {
      "image/png": {
       "height": 319,
       "width": 355
      }
     },
     "output_type": "display_data"
    }
   ],
   "source": [
    "\"\"\"\n",
    "DON'T MODIFY ANYTHING IN THIS CELL\n",
    "\"\"\"\n",
    "%matplotlib inline\n",
    "%config InlineBackend.figure_format = 'retina'\n",
    "\n",
    "import tensorflow as tf\n",
    "import pickle\n",
    "import helper\n",
    "import random\n",
    "\n",
    "# Set batch size if not already set\n",
    "try:\n",
    "    if batch_size:\n",
    "        pass\n",
    "except NameError:\n",
    "    batch_size = 64\n",
    "\n",
    "save_model_path = './image_classification'\n",
    "n_samples = 4\n",
    "top_n_predictions = 3\n",
    "\n",
    "def test_model():\n",
    "    \"\"\"\n",
    "    Test the saved model against the test dataset\n",
    "    \"\"\"\n",
    "\n",
    "    test_features, test_labels = pickle.load(open('preprocess_training.p', mode='rb'))\n",
    "    loaded_graph = tf.Graph()\n",
    "\n",
    "    with tf.Session(graph=loaded_graph) as sess:\n",
    "        # Load model\n",
    "        loader = tf.train.import_meta_graph(save_model_path + '.meta')\n",
    "        loader.restore(sess, save_model_path)\n",
    "\n",
    "        # Get Tensors from loaded model\n",
    "        loaded_x = loaded_graph.get_tensor_by_name('x:0')\n",
    "        loaded_y = loaded_graph.get_tensor_by_name('y:0')\n",
    "        loaded_keep_prob = loaded_graph.get_tensor_by_name('keep_prob:0')\n",
    "        loaded_logits = loaded_graph.get_tensor_by_name('logits:0')\n",
    "        loaded_acc = loaded_graph.get_tensor_by_name('accuracy:0')\n",
    "        \n",
    "        # Get accuracy in batches for memory limitations\n",
    "        test_batch_acc_total = 0\n",
    "        test_batch_count = 0\n",
    "        \n",
    "        for train_feature_batch, train_label_batch in helper.batch_features_labels(test_features, test_labels, batch_size):\n",
    "            test_batch_acc_total += sess.run(\n",
    "                loaded_acc,\n",
    "                feed_dict={loaded_x: train_feature_batch, loaded_y: train_label_batch, loaded_keep_prob: 1.0})\n",
    "            test_batch_count += 1\n",
    "\n",
    "        print('Testing Accuracy: {}\\n'.format(test_batch_acc_total/test_batch_count))\n",
    "\n",
    "        # Print Random Samples\n",
    "        random_test_features, random_test_labels = tuple(zip(*random.sample(list(zip(test_features, test_labels)), n_samples)))\n",
    "        random_test_predictions = sess.run(\n",
    "            tf.nn.top_k(tf.nn.softmax(loaded_logits), top_n_predictions),\n",
    "            feed_dict={loaded_x: random_test_features, loaded_y: random_test_labels, loaded_keep_prob: 1.0})\n",
    "        helper.display_image_predictions(random_test_features, random_test_labels, random_test_predictions)\n",
    "\n",
    "\n",
    "test_model()"
   ]
  },
  {
   "cell_type": "markdown",
   "metadata": {
    "deletable": true,
    "editable": true
   },
   "source": [
    "## Why 50-70% Accuracy?\n",
    "You might be wondering why you can't get an accuracy any higher. First things first, 50% isn't bad for a simple CNN.  Pure guessing would get you 10% accuracy. However, you might notice people are getting scores [well above 70%](http://rodrigob.github.io/are_we_there_yet/build/classification_datasets_results.html#43494641522d3130).  That's because we haven't taught you all there is to know about neural networks. We still need to cover a few more techniques.\n",
    "## Submitting This Project\n",
    "When submitting this project, make sure to run all the cells before saving the notebook.  Save the notebook file as \"dlnd_image_classification.ipynb\" and save it as a HTML file under \"File\" -> \"Download as\".  Include the \"helper.py\" and \"problem_unittests.py\" files in your submission."
   ]
  }
 ],
 "metadata": {
  "kernelspec": {
   "display_name": "Python 3",
   "language": "python",
   "name": "python3"
  },
  "language_info": {
   "codemirror_mode": {
    "name": "ipython",
    "version": 3
   },
   "file_extension": ".py",
   "mimetype": "text/x-python",
   "name": "python",
   "nbconvert_exporter": "python",
   "pygments_lexer": "ipython3",
   "version": "3.5.2"
  },
  "widgets": {
   "state": {},
   "version": "1.1.2"
  }
 },
 "nbformat": 4,
 "nbformat_minor": 0
}
