{
 "cells": [
  {
   "cell_type": "markdown",
   "metadata": {
    "collapsed": true,
    "deletable": true,
    "editable": true
   },
   "source": [
    "# Image Classification\n",
    "In this project, you'll classify images from the [CIFAR-10 dataset](https://www.cs.toronto.edu/~kriz/cifar.html).  The dataset consists of airplanes, dogs, cats, and other objects. You'll preprocess the images, then train a convolutional neural network on all the samples. The images need to be normalized and the labels need to be one-hot encoded.  You'll get to apply what you learned and build a convolutional, max pooling, dropout, and fully connected layers.  At the end, you'll get to see your neural network's predictions on the sample images.\n",
    "## Get the Data\n",
    "Run the following cell to download the [CIFAR-10 dataset for python](https://www.cs.toronto.edu/~kriz/cifar-10-python.tar.gz)."
   ]
  },
  {
   "cell_type": "code",
   "execution_count": 2,
   "metadata": {
    "collapsed": false,
    "deletable": true,
    "editable": true
   },
   "outputs": [
    {
     "name": "stdout",
     "output_type": "stream",
     "text": [
      "All files found!\n"
     ]
    }
   ],
   "source": [
    "\"\"\"\n",
    "DON'T MODIFY ANYTHING IN THIS CELL THAT IS BELOW THIS LINE\n",
    "\"\"\"\n",
    "from urllib.request import urlretrieve\n",
    "from os.path import isfile, isdir\n",
    "from tqdm import tqdm\n",
    "import problem_unittests as tests\n",
    "import tarfile\n",
    "\n",
    "cifar10_dataset_folder_path = 'cifar-10-batches-py'\n",
    "\n",
    "class DLProgress(tqdm):\n",
    "    last_block = 0\n",
    "\n",
    "    def hook(self, block_num=1, block_size=1, total_size=None):\n",
    "        self.total = total_size\n",
    "        self.update((block_num - self.last_block) * block_size)\n",
    "        self.last_block = block_num\n",
    "\n",
    "if not isfile('cifar-10-python.tar.gz'):\n",
    "    with DLProgress(unit='B', unit_scale=True, miniters=1, desc='CIFAR-10 Dataset') as pbar:\n",
    "        urlretrieve(\n",
    "            'https://www.cs.toronto.edu/~kriz/cifar-10-python.tar.gz',\n",
    "            'cifar-10-python.tar.gz',\n",
    "            pbar.hook)\n",
    "\n",
    "if not isdir(cifar10_dataset_folder_path):\n",
    "    with tarfile.open('cifar-10-python.tar.gz') as tar:\n",
    "        tar.extractall()\n",
    "        tar.close()\n",
    "\n",
    "\n",
    "tests.test_folder_path(cifar10_dataset_folder_path)"
   ]
  },
  {
   "cell_type": "markdown",
   "metadata": {
    "deletable": true,
    "editable": true
   },
   "source": [
    "## Explore the Data\n",
    "The dataset is broken into batches to prevent your machine from running out of memory.  The CIFAR-10 dataset consists of 5 batches, named `data_batch_1`, `data_batch_2`, etc.. Each batch contains the labels and images that are one of the following:\n",
    "* airplane\n",
    "* automobile\n",
    "* bird\n",
    "* cat\n",
    "* deer\n",
    "* dog\n",
    "* frog\n",
    "* horse\n",
    "* ship\n",
    "* truck\n",
    "\n",
    "Understanding a dataset is part of making predictions on the data.  Play around with the code cell below by changing the `batch_id` and `sample_id`. The `batch_id` is the id for a batch (1-5). The `sample_id` is the id for a image and label pair in the batch.\n",
    "\n",
    "Ask yourself \"What are all possible labels?\", \"What is the range of values for the image data?\", \"Are the labels in order or random?\".  Answers to questions like these will help you preprocess the data and end up with better predictions."
   ]
  },
  {
   "cell_type": "code",
   "execution_count": 3,
   "metadata": {
    "collapsed": false,
    "deletable": true,
    "editable": true
   },
   "outputs": [
    {
     "name": "stdout",
     "output_type": "stream",
     "text": [
      "\n",
      "Stats of batch 1:\n",
      "Samples: 10000\n",
      "Label Counts: {0: 1005, 1: 974, 2: 1032, 3: 1016, 4: 999, 5: 937, 6: 1030, 7: 1001, 8: 1025, 9: 981}\n",
      "First 20 Labels: [6, 9, 9, 4, 1, 1, 2, 7, 8, 3, 4, 7, 7, 2, 9, 9, 9, 3, 2, 6]\n",
      "\n",
      "Example of Image 10:\n",
      "Image - Min Value: 24 Max Value: 130\n",
      "Image - Shape: (32, 32, 3)\n",
      "Label - Label Id: 4 Name: deer\n"
     ]
    },
    {
     "data": {
      "image/png": "[encoded data removed]",
      "text/plain": [
       "<matplotlib.figure.Figure at 0x7f895fb91908>"
      ]
     },
     "metadata": {
      "image/png": {
       "height": 250,
       "width": 253
      }
     },
     "output_type": "display_data"
    }
   ],
   "source": [
    "%matplotlib inline\n",
    "%config InlineBackend.figure_format = 'retina'\n",
    "\n",
    "import helper\n",
    "import numpy as np\n",
    "\n",
    "# Explore the dataset\n",
    "batch_id = 1\n",
    "sample_id = 10\n",
    "helper.display_stats(cifar10_dataset_folder_path, batch_id, sample_id)"
   ]
  },
  {
   "cell_type": "markdown",
   "metadata": {
    "deletable": true,
    "editable": true
   },
   "source": [
    "## Implement Preprocess Functions\n",
    "### Normalize\n",
    "In the cell below, implement the `normalize` function to take in image data, `x`, and return it as a normalized Numpy array. The values should be in the range of 0 to 1, inclusive.  The return object should be the same shape as `x`."
   ]
  },
  {
   "cell_type": "code",
   "execution_count": 4,
   "metadata": {
    "collapsed": false,
    "deletable": true,
    "editable": true
   },
   "outputs": [
    {
     "name": "stdout",
     "output_type": "stream",
     "text": [
      "Tests Passed\n"
     ]
    }
   ],
   "source": [
    "def normalize(x):\n",
    "    \"\"\"\n",
    "    Normalize a list of sample image data in the range of 0 to 1\n",
    "    : x: List of image data.  The image shape is (32, 32, 3)\n",
    "    : return: Numpy array of normalize data\n",
    "    \"\"\"\n",
    "    # TODO: Implement Function\n",
    "    #Initialize the ouptut\n",
    "    normalized_data = np.zeros((len(x),32,32,3))\n",
    "    for i,image in enumerate(x):\n",
    "        normalized_data[i,:,:,:] = image\n",
    "    \n",
    "    #Implement the min-max normalization\n",
    "    min_val = np.amin(normalized_data)\n",
    "    max_val = np.amax(normalized_data)\n",
    "    normalized_data = (normalized_data-min_val)/(max_val-min_val)\n",
    "    \n",
    "    return normalized_data \n",
    "\n",
    "\n",
    "\"\"\"\n",
    "DON'T MODIFY ANYTHING IN THIS CELL THAT IS BELOW THIS LINE\n",
    "\"\"\"\n",
    "tests.test_normalize(normalize)"
   ]
  },
  {
   "cell_type": "markdown",
   "metadata": {
    "deletable": true,
    "editable": true
   },
   "source": [
    "### One-hot encode\n",
    "Just like the previous code cell, you'll be implementing a function for preprocessing.  This time, you'll implement the `one_hot_encode` function. The input, `x`, are a list of labels.  Implement the function to return the list of labels as One-Hot encoded Numpy array.  The possible values for labels are 0 to 9. The one-hot encoding function should return the same encoding for each value between each call to `one_hot_encode`.  Make sure to save the map of encodings outside the function.\n",
    "\n",
    "Hint: Don't reinvent the wheel."
   ]
  },
  {
   "cell_type": "code",
   "execution_count": 5,
   "metadata": {
    "collapsed": false,
    "deletable": true,
    "editable": true
   },
   "outputs": [
    {
     "name": "stdout",
     "output_type": "stream",
     "text": [
      "Tests Passed\n"
     ]
    }
   ],
   "source": [
    "def one_hot_encode(x):\n",
    "    \"\"\"\n",
    "    One hot encode a list of sample labels. Return a one-hot encoded vector for each label.\n",
    "    : x: List of sample Labels\n",
    "    : return: Numpy array of one-hot encoded labels\n",
    "    \"\"\"\n",
    "    # TODO: Implement Function\n",
    "    one_hot_label = np.zeros((len(x),10))\n",
    "    \n",
    "    for i,label in enumerate(x):\n",
    "        one_hot_label[i,label] = 1\n",
    "        \n",
    "    return one_hot_label\n",
    "\n",
    "\n",
    "\"\"\"\n",
    "DON'T MODIFY ANYTHING IN THIS CELL THAT IS BELOW THIS LINE\n",
    "\"\"\"\n",
    "tests.test_one_hot_encode(one_hot_encode)"
   ]
  },
  {
   "cell_type": "markdown",
   "metadata": {
    "deletable": true,
    "editable": true
   },
   "source": [
    "### Randomize Data\n",
    "As you saw from exploring the data above, the order of the samples are randomized.  It doesn't hurt to randomize it again, but you don't need to for this dataset."
   ]
  },
  {
   "cell_type": "markdown",
   "metadata": {
    "deletable": true,
    "editable": true
   },
   "source": [
    "## Preprocess all the data and save it\n",
    "Running the code cell below will preprocess all the CIFAR-10 data and save it to file. The code below also uses 10% of the training data for validation."
   ]
  },
  {
   "cell_type": "code",
   "execution_count": 6,
   "metadata": {
    "collapsed": false,
    "deletable": true,
    "editable": true
   },
   "outputs": [],
   "source": [
    "\"\"\"\n",
    "DON'T MODIFY ANYTHING IN THIS CELL\n",
    "\"\"\"\n",
    "# Preprocess Training, Validation, and Testing Data\n",
    "helper.preprocess_and_save_data(cifar10_dataset_folder_path, normalize, one_hot_encode)"
   ]
  },
  {
   "cell_type": "markdown",
   "metadata": {
    "deletable": true,
    "editable": true
   },
   "source": [
    "# Check Point\n",
    "This is your first checkpoint.  If you ever decide to come back to this notebook or have to restart the notebook, you can start from here.  The preprocessed data has been saved to disk."
   ]
  },
  {
   "cell_type": "code",
   "execution_count": 7,
   "metadata": {
    "collapsed": true,
    "deletable": true,
    "editable": true
   },
   "outputs": [],
   "source": [
    "\"\"\"\n",
    "DON'T MODIFY ANYTHING IN THIS CELL\n",
    "\"\"\"\n",
    "import pickle\n",
    "import problem_unittests as tests\n",
    "import helper\n",
    "\n",
    "# Load the Preprocessed Validation data\n",
    "valid_features, valid_labels = pickle.load(open('preprocess_validation.p', mode='rb'))"
   ]
  },
  {
   "cell_type": "markdown",
   "metadata": {
    "deletable": true,
    "editable": true
   },
   "source": [
    "## Build the network\n",
    "For the neural network, you'll build each layer into a function.  Most of the code you've seen has been outside of functions. To test your code more thoroughly, we require that you put each layer in a function.  This allows us to give you better feedback and test for simple mistakes using our unittests before you submit your project.\n",
    "\n",
    "If you're finding it hard to dedicate enough time for this course a week, we've provided a small shortcut to this part of the project. In the next couple of problems, you'll have the option to use [TensorFlow Layers](https://www.tensorflow.org/api_docs/python/tf/layers) or [TensorFlow Layers (contrib)](https://www.tensorflow.org/api_guides/python/contrib.layers) to build each layer, except \"Convolutional & Max Pooling\" layer.  TF Layers is similar to Keras's and TFLearn's abstraction to layers, so it's easy to pickup.\n",
    "\n",
    "If you would like to get the most of this course, try to solve all the problems without TF Layers.  Let's begin!\n",
    "### Input\n",
    "The neural network needs to read the image data, one-hot encoded labels, and dropout keep probability. Implement the following functions\n",
    "* Implement `neural_net_image_input`\n",
    " * Return a [TF Placeholder](https://www.tensorflow.org/api_docs/python/tf/placeholder)\n",
    " * Set the shape using `image_shape` with batch size set to `None`.\n",
    " * Name the TensorFlow placeholder \"x\" using the TensorFlow `name` parameter in the [TF Placeholder](https://www.tensorflow.org/api_docs/python/tf/placeholder).\n",
    "* Implement `neural_net_label_input`\n",
    " * Return a [TF Placeholder](https://www.tensorflow.org/api_docs/python/tf/placeholder)\n",
    " * Set the shape using `n_classes` with batch size set to `None`.\n",
    " * Name the TensorFlow placeholder \"y\" using the TensorFlow `name` parameter in the [TF Placeholder](https://www.tensorflow.org/api_docs/python/tf/placeholder).\n",
    "* Implement `neural_net_keep_prob_input`\n",
    " * Return a [TF Placeholder](https://www.tensorflow.org/api_docs/python/tf/placeholder) for dropout keep probability.\n",
    " * Name the TensorFlow placeholder \"keep_prob\" using the TensorFlow `name` parameter in the [TF Placeholder](https://www.tensorflow.org/api_docs/python/tf/placeholder).\n",
    "\n",
    "These names will be used at the end of the project to load your saved model.\n",
    "\n",
    "Note: `None` for shapes in TensorFlow allow for a dynamic size."
   ]
  },
  {
   "cell_type": "code",
   "execution_count": 8,
   "metadata": {
    "collapsed": false,
    "deletable": true,
    "editable": true
   },
   "outputs": [
    {
     "name": "stdout",
     "output_type": "stream",
     "text": [
      "Image Input Tests Passed.\n",
      "Label Input Tests Passed.\n",
      "Keep Prob Tests Passed.\n"
     ]
    }
   ],
   "source": [
    "import tensorflow as tf\n",
    "\n",
    "def neural_net_image_input(image_shape):\n",
    "    \"\"\"\n",
    "    Return a Tensor for a bach of image input\n",
    "    : image_shape: Shape of the images\n",
    "    : return: Tensor for image input.\n",
    "    \"\"\"\n",
    "    # TODO: Implement Function\n",
    "    image_tensor = tf.placeholder(tf.float32,shape=[None,image_shape[0],image_shape[1],image_shape[2]],name=\"x\")\n",
    "    return image_tensor\n",
    "\n",
    "\n",
    "def neural_net_label_input(n_classes):\n",
    "    \"\"\"\n",
    "    Return a Tensor for a batch of label input\n",
    "    : n_classes: Number of classes\n",
    "    : return: Tensor for label input.\n",
    "    \"\"\"\n",
    "    # TODO: Implement Function\n",
    "    label_tensor = tf.placeholder(tf.float32, shape=[None,n_classes],name=\"y\")\n",
    "    return label_tensor\n",
    "\n",
    "\n",
    "def neural_net_keep_prob_input():\n",
    "    \"\"\"\n",
    "    Return a Tensor for keep probability\n",
    "    : return: Tensor for keep probability.\n",
    "    \"\"\"\n",
    "    # TODO: Implement Function\n",
    "    prob = tf.placeholder(tf.float32,name=\"keep_prob\")\n",
    "    return prob\n",
    "\n",
    "\n",
    "\"\"\"\n",
    "DON'T MODIFY ANYTHING IN THIS CELL THAT IS BELOW THIS LINE\n",
    "\"\"\"\n",
    "tf.reset_default_graph()\n",
    "tests.test_nn_image_inputs(neural_net_image_input)\n",
    "tests.test_nn_label_inputs(neural_net_label_input)\n",
    "tests.test_nn_keep_prob_inputs(neural_net_keep_prob_input)"
   ]
  },
  {
   "cell_type": "markdown",
   "metadata": {
    "deletable": true,
    "editable": true
   },
   "source": [
    "### Convolution and Max Pooling Layer\n",
    "Convolution layers have a lot of success with images. For this code cell, you should implement the function `conv2d_maxpool` to apply convolution then max pooling:\n",
    "* Create the weight and bias using `conv_ksize`, `conv_num_outputs` and the shape of `x_tensor`.\n",
    "* Apply a convolution to `x_tensor` using weight and `conv_strides`.\n",
    " * We recommend you use same padding, but you're welcome to use any padding.\n",
    "* Add bias\n",
    "* Add a nonlinear activation to the convolution.\n",
    "* Apply Max Pooling using `pool_ksize` and `pool_strides`.\n",
    " * We recommend you use same padding, but you're welcome to use any padding.\n",
    "\n",
    "Note: You **can't** use [TensorFlow Layers](https://www.tensorflow.org/api_docs/python/tf/layers) or [TensorFlow Layers (contrib)](https://www.tensorflow.org/api_guides/python/contrib.layers) for this layer.  You're free to use any TensorFlow package for all the other layers."
   ]
  },
  {
   "cell_type": "code",
   "execution_count": 9,
   "metadata": {
    "collapsed": false,
    "deletable": true,
    "editable": true
   },
   "outputs": [
    {
     "name": "stdout",
     "output_type": "stream",
     "text": [
      "Tests Passed\n"
     ]
    }
   ],
   "source": [
    "def conv2d_maxpool(x_tensor, conv_num_outputs, conv_ksize, conv_strides, pool_ksize, pool_strides):\n",
    "    \"\"\"\n",
    "    Apply convolution then max pooling to x_tensor\n",
    "    :param x_tensor: TensorFlow Tensor\n",
    "    :param conv_num_outputs: Number of outputs for the convolutional layer\n",
    "    :param conv_ksize: kernal size 2-D Tuple for the convolutional layer\n",
    "    :param conv_strides: Stride 2-D Tuple for convolution\n",
    "    :param pool_ksize: kernal size 2-D Tuple for pool\n",
    "    :param pool_strides: Stride 2-D Tuple for pool\n",
    "    : return: A tensor that represents convolution and max pooling of x_tensor\n",
    "    \"\"\"\n",
    "    # TODO: Implement Function\n",
    "    #Define Weights and Bias\n",
    "    input_shape = x_tensor.shape\n",
    "    Weights = tf.Variable(tf.random_normal(shape=[conv_ksize[0],conv_ksize[1],input_shape[-1].value,conv_num_outputs],mean=0.0,stddev=0.1))\n",
    "    Bias = tf.Variable(tf.random_normal([conv_num_outputs]))\n",
    "    \n",
    "    #Define the convolutional layer\n",
    "    conv_layer = tf.nn.conv2d(x_tensor,Weights,strides=[1,conv_strides[0],conv_strides[1],1],padding=\"SAME\")\n",
    "    conv_layer = tf.nn.bias_add(conv_layer,Bias)\n",
    "    conv_layer = tf.nn.relu(conv_layer)\n",
    "    \n",
    "    #Define the Max-Pooling Layer\n",
    "    pool_layer = tf.nn.max_pool(conv_layer,\n",
    "                                ksize=[1,pool_ksize[0],pool_ksize[1],1],\n",
    "                                strides=[1,pool_strides[0],pool_strides[1],1],\n",
    "                                padding = \"SAME\")\n",
    "    \n",
    "    return pool_layer \n",
    "\n",
    "\n",
    "\"\"\"\n",
    "DON'T MODIFY ANYTHING IN THIS CELL THAT IS BELOW THIS LINE\n",
    "\"\"\"\n",
    "tests.test_con_pool(conv2d_maxpool)"
   ]
  },
  {
   "cell_type": "markdown",
   "metadata": {
    "deletable": true,
    "editable": true
   },
   "source": [
    "### Flatten Layer\n",
    "Implement the `flatten` function to change the dimension of `x_tensor` from a 4-D tensor to a 2-D tensor.  The output should be the shape (*Batch Size*, *Flattened Image Size*). You can use [TensorFlow Layers](https://www.tensorflow.org/api_docs/python/tf/layers) or [TensorFlow Layers (contrib)](https://www.tensorflow.org/api_guides/python/contrib.layers) for this layer."
   ]
  },
  {
   "cell_type": "code",
   "execution_count": 10,
   "metadata": {
    "collapsed": false,
    "deletable": true,
    "editable": true
   },
   "outputs": [
    {
     "name": "stdout",
     "output_type": "stream",
     "text": [
      "Tests Passed\n"
     ]
    }
   ],
   "source": [
    "def flatten(x_tensor):\n",
    "    \"\"\"\n",
    "    Flatten x_tensor to (Batch Size, Flattened Image Size)\n",
    "    : x_tensor: A tensor of size (Batch Size, ...), where ... are the image dimensions.\n",
    "    : return: A tensor of size (Batch Size, Flattened Image Size).\n",
    "    \"\"\"\n",
    "    # TODO: Implement Function\n",
    "    x_shape = x_tensor.get_shape().as_list()\n",
    "    #Got the shape of the image size by multiplying the rest dimension of input shape except the first dimension\n",
    "    flatten_shape = 1\n",
    "    for i in range(1,len(x_shape)):\n",
    "        flatten_shape = flatten_shape * x_shape[i]\n",
    "    \n",
    "    flatten_layer = tf.reshape(x_tensor,[-1,flatten_shape])\n",
    "    return flatten_layer\n",
    "\n",
    "\n",
    "\"\"\"\n",
    "DON'T MODIFY ANYTHING IN THIS CELL THAT IS BELOW THIS LINE\n",
    "\"\"\"\n",
    "tests.test_flatten(flatten)"
   ]
  },
  {
   "cell_type": "markdown",
   "metadata": {
    "deletable": true,
    "editable": true
   },
   "source": [
    "### Fully-Connected Layer\n",
    "Implement the `fully_conn` function to apply a fully connected layer to `x_tensor` with the shape (*Batch Size*, *num_outputs*). You can use [TensorFlow Layers](https://www.tensorflow.org/api_docs/python/tf/layers) or [TensorFlow Layers (contrib)](https://www.tensorflow.org/api_guides/python/contrib.layers) for this layer."
   ]
  },
  {
   "cell_type": "code",
   "execution_count": 11,
   "metadata": {
    "collapsed": false,
    "deletable": true,
    "editable": true
   },
   "outputs": [
    {
     "name": "stdout",
     "output_type": "stream",
     "text": [
      "Tests Passed\n"
     ]
    }
   ],
   "source": [
    "def fully_conn(x_tensor, num_outputs):\n",
    "    \"\"\"\n",
    "    Apply a fully connected layer to x_tensor using weight and bias\n",
    "    : x_tensor: A 2-D tensor where the first dimension is batch size.\n",
    "    : num_outputs: The number of output that the new tensor should be.\n",
    "    : return: A 2-D tensor where the second dimension is num_outputs.\n",
    "    \"\"\"\n",
    "    # TODO: Implement Function\n",
    "    #Initialize weigths and bias\n",
    "    weights = tf.Variable(tf.random_normal(shape=[x_tensor.get_shape()[1].value,num_outputs],mean=0.0,stddev=0.1))\n",
    "    bias = tf.Variable(tf.random_normal([num_outputs]))\n",
    "    #Create the linear fully conneted layer\n",
    "    full_layer = tf.add(tf.matmul(x_tensor,weights),bias)\n",
    "    #Add relu to the ouput of fully_connected layer\n",
    "    full_layer = tf.nn.relu(full_layer)\n",
    "    return full_layer\n",
    "\n",
    "\n",
    "\"\"\"\n",
    "DON'T MODIFY ANYTHING IN THIS CELL THAT IS BELOW THIS LINE\n",
    "\"\"\"\n",
    "tests.test_fully_conn(fully_conn)"
   ]
  },
  {
   "cell_type": "markdown",
   "metadata": {
    "deletable": true,
    "editable": true
   },
   "source": [
    "### Output Layer\n",
    "Implement the `output` function to apply a fully connected layer to `x_tensor` with the shape (*Batch Size*, *num_outputs*). You can use [TensorFlow Layers](https://www.tensorflow.org/api_docs/python/tf/layers) or [TensorFlow Layers (contrib)](https://www.tensorflow.org/api_guides/python/contrib.layers) for this layer.\n",
    "\n",
    "Note: Activation, softmax, or cross entropy shouldn't be applied to this."
   ]
  },
  {
   "cell_type": "code",
   "execution_count": 12,
   "metadata": {
    "collapsed": false,
    "deletable": true,
    "editable": true
   },
   "outputs": [
    {
     "name": "stdout",
     "output_type": "stream",
     "text": [
      "Tests Passed\n"
     ]
    }
   ],
   "source": [
    "def output(x_tensor, num_outputs):\n",
    "    \"\"\"\n",
    "    Apply a output layer to x_tensor using weight and bias\n",
    "    : x_tensor: A 2-D tensor where the first dimension is batch size.\n",
    "    : num_outputs: The number of output that the new tensor should be.\n",
    "    : return: A 2-D tensor where the second dimension is num_outputs.\n",
    "    \"\"\"\n",
    "    # TODO: Implement Function\n",
    "    weights = tf.Variable(tf.truncated_normal((x_tensor.get_shape()[1].value,num_outputs)))\n",
    "    bias = tf.Variable(tf.zeros(num_outputs))\n",
    "    output_layer = tf.add(tf.matmul(x_tensor,weights),bias)\n",
    "    return output_layer\n",
    "\n",
    "\n",
    "\"\"\"\n",
    "DON'T MODIFY ANYTHING IN THIS CELL THAT IS BELOW THIS LINE\n",
    "\"\"\"\n",
    "tests.test_output(output)"
   ]
  },
  {
   "cell_type": "markdown",
   "metadata": {
    "deletable": true,
    "editable": true
   },
   "source": [
    "### Create Convolutional Model\n",
    "Implement the function `conv_net` to create a convolutional neural network model. The function takes in a batch of images, `x`, and outputs logits.  Use the layers you created above to create this model:\n",
    "\n",
    "* Apply 1, 2, or 3 Convolution and Max Pool layers\n",
    "* Apply a Flatten Layer\n",
    "* Apply 1, 2, or 3 Fully Connected Layers\n",
    "* Apply an Output Layer\n",
    "* Return the output\n",
    "* Apply [TensorFlow's Dropout](https://www.tensorflow.org/api_docs/python/tf/nn/dropout) to one or more layers in the model using `keep_prob`. "
   ]
  },
  {
   "cell_type": "code",
   "execution_count": 24,
   "metadata": {
    "collapsed": false,
    "deletable": true,
    "editable": true
   },
   "outputs": [
    {
     "name": "stdout",
     "output_type": "stream",
     "text": [
      "Neural Network Built!\n"
     ]
    }
   ],
   "source": [
    "def conv_net(x, keep_prob):\n",
    "    \"\"\"\n",
    "    Create a convolutional neural network model\n",
    "    : x: Placeholder tensor that holds image data.\n",
    "    : keep_prob: Placeholder tensor that hold dropout keep probability.\n",
    "    : return: Tensor that represents logits\n",
    "    \"\"\"\n",
    "    # TODO: Apply 1, 2, or 3 Convolution and Max Pool layers\n",
    "    #    Play around with different number of outputs, kernel size and stride\n",
    "    # Function Definition from Above:\n",
    "    #    conv2d_maxpool(x_tensor, conv_num_outputs, conv_ksize, conv_strides, pool_ksize, pool_strides)\n",
    "    \n",
    "    #Define first convolutional layer, conv_1\n",
    "    conv_1_num_outputs = 64\n",
    "    conv_1_ksize = (5,5)\n",
    "    conv_1_strides = (1,1)\n",
    "    conv_1_pool_ksize = (2,2)\n",
    "    conv_1_pool_strides = (2,2)\n",
    "    conv_1 = conv2d_maxpool(x,conv_1_num_outputs,\n",
    "                            conv_1_ksize,\n",
    "                            conv_1_strides,\n",
    "                            conv_1_pool_ksize,\n",
    "                            conv_1_pool_strides)\n",
    "    #Output of conv_1: 16*16*64\n",
    "    \n",
    "    \n",
    "    \n",
    "    #Define second convolutional layer, conv_2\n",
    "    conv_2_num_outputs = 128\n",
    "    conv_2_ksize = (5,5)\n",
    "    conv_2_strides = (1,1)\n",
    "    conv_2_pool_ksize = (2,2)\n",
    "    conv_2_pool_strides = (2,2)\n",
    "    conv_2 = conv2d_maxpool(conv_1,conv_2_num_outputs,\n",
    "                            conv_2_ksize,\n",
    "                            conv_2_strides,\n",
    "                            conv_2_pool_ksize,\n",
    "                            conv_2_pool_strides)\n",
    "    #Output of conv_2: 8*8*128\n",
    "    \n",
    "    \n",
    "    '''\n",
    "    #Define thir convolutional layer, conv_3\n",
    "    conv_3_num_outputs = 256\n",
    "    conv_3_ksize = (3,3)\n",
    "    conv_3_strides = (1,1)\n",
    "    conv_3_pool_ksize = (2,2)\n",
    "    conv_3_pool_strides = (2,2)\n",
    "    conv_3 = conv2d_maxpool(conv_2,conv_3_num_outputs,\n",
    "                            conv_3_ksize,\n",
    "                            conv_3_strides,\n",
    "                            conv_3_pool_ksize,\n",
    "                            conv_3_pool_strides)\n",
    "    #Output of conv_3: 3*3*256\n",
    "    '''\n",
    "    \n",
    "    # TODO: Apply a Flatten Layer\n",
    "    # Function Definition from Above:\n",
    "    #   flatten(x_tensor)\n",
    "    flatten_layer = flatten(conv_2)\n",
    "\n",
    "    # TODO: Apply 1, 2, or 3 Fully Connected Layers\n",
    "    #    Play around with different number of outputs\n",
    "    # Function Definition from Above:\n",
    "    #   fully_conn(x_tensor, num_outputs)\n",
    "    \n",
    "    #Define the first fully connected layer,full_1\n",
    "    f1_num_outputs = 512\n",
    "    full_1 = fully_conn(flatten_layer,f1_num_outputs)\n",
    "    #Apply a dropout layer here\n",
    "    full_1 = tf.nn.dropout(full_1,keep_prob)\n",
    "    \n",
    "    \n",
    "    #Define the second fully connected layer, full_2\n",
    "    f2_num_outputs = 128\n",
    "    full_2 = fully_conn(full_1,f2_num_outputs)\n",
    "    #Apply a dropout layer here\n",
    "    #full_2 = tf.nn.dropout(full_2,keep_prob)\n",
    "    \n",
    "    \n",
    "    # TODO: Apply an Output Layer\n",
    "    #    Set this to the number of classes\n",
    "    # Function Definition from Above:\n",
    "    #   output(x_tensor, num_outputs)\n",
    "    num_outputs = 10\n",
    "    output_layer = output(full_2,num_outputs)\n",
    "    \n",
    "    # TODO: return output\n",
    "    return output_layer\n",
    "\n",
    "\n",
    "\"\"\"\n",
    "DON'T MODIFY ANYTHING IN THIS CELL THAT IS BELOW THIS LINE\n",
    "\"\"\"\n",
    "\n",
    "##############################\n",
    "## Build the Neural Network ##\n",
    "##############################\n",
    "\n",
    "# Remove previous weights, bias, inputs, etc..\n",
    "tf.reset_default_graph()\n",
    "\n",
    "# Inputs\n",
    "x = neural_net_image_input((32, 32, 3))\n",
    "y = neural_net_label_input(10)\n",
    "keep_prob = neural_net_keep_prob_input()\n",
    "\n",
    "# Model\n",
    "logits = conv_net(x, keep_prob)\n",
    "\n",
    "# Name logits Tensor, so that is can be loaded from disk after training\n",
    "logits = tf.identity(logits, name='logits')\n",
    "\n",
    "# Loss and Optimizer\n",
    "cost = tf.reduce_mean(tf.nn.softmax_cross_entropy_with_logits(logits=logits, labels=y))\n",
    "optimizer = tf.train.AdamOptimizer().minimize(cost)\n",
    "\n",
    "# Accuracy\n",
    "correct_pred = tf.equal(tf.argmax(logits, 1), tf.argmax(y, 1))\n",
    "accuracy = tf.reduce_mean(tf.cast(correct_pred, tf.float32), name='accuracy')\n",
    "\n",
    "tests.test_conv_net(conv_net)"
   ]
  },
  {
   "cell_type": "markdown",
   "metadata": {
    "deletable": true,
    "editable": true
   },
   "source": [
    "## Train the Neural Network\n",
    "### Single Optimization\n",
    "Implement the function `train_neural_network` to do a single optimization.  The optimization should use `optimizer` to optimize in `session` with a `feed_dict` of the following:\n",
    "* `x` for image input\n",
    "* `y` for labels\n",
    "* `keep_prob` for keep probability for dropout\n",
    "\n",
    "This function will be called for each batch, so `tf.global_variables_initializer()` has already been called.\n",
    "\n",
    "Note: Nothing needs to be returned. This function is only optimizing the neural network."
   ]
  },
  {
   "cell_type": "code",
   "execution_count": 14,
   "metadata": {
    "collapsed": false,
    "deletable": true,
    "editable": true
   },
   "outputs": [
    {
     "name": "stdout",
     "output_type": "stream",
     "text": [
      "Tests Passed\n"
     ]
    }
   ],
   "source": [
    "def train_neural_network(session, optimizer, keep_probability, feature_batch, label_batch):\n",
    "    \"\"\"\n",
    "    Optimize the session on a batch of images and labels\n",
    "    : session: Current TensorFlow session\n",
    "    : optimizer: TensorFlow optimizer function\n",
    "    : keep_probability: keep probability\n",
    "    : feature_batch: Batch of Numpy image data\n",
    "    : label_batch: Batch of Numpy label data\n",
    "    \"\"\"\n",
    "    # TODO: Implement Function\n",
    "    session.run(optimizer, feed_dict={x:feature_batch,y:label_batch, keep_prob: keep_probability})\n",
    "    pass\n",
    "\n",
    "\n",
    "\"\"\"\n",
    "DON'T MODIFY ANYTHING IN THIS CELL THAT IS BELOW THIS LINE\n",
    "\"\"\"\n",
    "tests.test_train_nn(train_neural_network)"
   ]
  },
  {
   "cell_type": "markdown",
   "metadata": {
    "deletable": true,
    "editable": true
   },
   "source": [
    "### Show Stats\n",
    "Implement the function `print_stats` to print loss and validation accuracy.  Use the global variables `valid_features` and `valid_labels` to calculate validation accuracy.  Use a keep probability of `1.0` to calculate the loss and validation accuracy."
   ]
  },
  {
   "cell_type": "code",
   "execution_count": 15,
   "metadata": {
    "collapsed": false,
    "deletable": true,
    "editable": true
   },
   "outputs": [],
   "source": [
    "def print_stats(session, feature_batch, label_batch, cost, accuracy):\n",
    "    \"\"\"\n",
    "    Print information about loss and validation accuracy\n",
    "    : session: Current TensorFlow session\n",
    "    : feature_batch: Batch of Numpy image data\n",
    "    : label_batch: Batch of Numpy label data\n",
    "    : cost: TensorFlow cost function\n",
    "    : accuracy: TensorFlow accuracy function\n",
    "    \"\"\"\n",
    "    # TODO: Implement Function\n",
    "    #Compute the loss\n",
    "    loss = session.run(cost,feed_dict={x:feature_batch, y: label_batch, keep_prob: 1.0})\n",
    "    #Compute the validation accuracy\n",
    "    val_accuracy = session.run(accuracy, feed_dict={x:valid_features, y:valid_labels, keep_prob: 1.0})\n",
    "    #print the loss and validation accuracy\n",
    "    print(\"The loss is: {:>10.4f} and the validation_accuracy is {:.6f}\".format(loss, val_accuracy))\n",
    "    pass"
   ]
  },
  {
   "cell_type": "markdown",
   "metadata": {
    "deletable": true,
    "editable": true
   },
   "source": [
    "### Hyperparameters\n",
    "Tune the following parameters:\n",
    "* Set `epochs` to the number of iterations until the network stops learning or start overfitting\n",
    "* Set `batch_size` to the highest number that your machine has memory for.  Most people set them to common sizes of memory:\n",
    " * 64\n",
    " * 128\n",
    " * 256\n",
    " * ...\n",
    "* Set `keep_probability` to the probability of keeping a node using dropout"
   ]
  },
  {
   "cell_type": "code",
   "execution_count": 20,
   "metadata": {
    "collapsed": true,
    "deletable": true,
    "editable": true
   },
   "outputs": [],
   "source": [
    "# TODO: Tune Parameters\n",
    "epochs = 40\n",
    "batch_size = 128\n",
    "keep_probability = 0.6"
   ]
  },
  {
   "cell_type": "markdown",
   "metadata": {
    "deletable": true,
    "editable": true
   },
   "source": [
    "### Train on a Single CIFAR-10 Batch\n",
    "Instead of training the neural network on all the CIFAR-10 batches of data, let's use a single batch. This should save time while you iterate on the model to get a better accuracy.  Once the final validation accuracy is 50% or greater, run the model on all the data in the next section."
   ]
  },
  {
   "cell_type": "code",
   "execution_count": 25,
   "metadata": {
    "collapsed": false,
    "deletable": true,
    "editable": true
   },
   "outputs": [
    {
     "name": "stdout",
     "output_type": "stream",
     "text": [
      "Checking the Training on a Single Batch...\n",
      "Epoch  1, CIFAR-10 Batch 1:  "
     ]
    },
    {
     "ename": "KeyboardInterrupt",
     "evalue": "",
     "output_type": "error",
     "traceback": [
      "\u001b[0;31m---------------------------------------------------------------------------\u001b[0m",
      "\u001b[0;31mKeyboardInterrupt\u001b[0m                         Traceback (most recent call last)",
      "\u001b[0;32m<ipython-input-25-0ebd1bbc35ad>\u001b[0m in \u001b[0;36m<module>\u001b[0;34m()\u001b[0m\n\u001b[1;32m     13\u001b[0m             \u001b[0mtrain_neural_network\u001b[0m\u001b[0;34m(\u001b[0m\u001b[0msess\u001b[0m\u001b[0;34m,\u001b[0m \u001b[0moptimizer\u001b[0m\u001b[0;34m,\u001b[0m \u001b[0mkeep_probability\u001b[0m\u001b[0;34m,\u001b[0m \u001b[0mbatch_features\u001b[0m\u001b[0;34m,\u001b[0m \u001b[0mbatch_labels\u001b[0m\u001b[0;34m)\u001b[0m\u001b[0;34m\u001b[0m\u001b[0m\n\u001b[1;32m     14\u001b[0m         \u001b[0mprint\u001b[0m\u001b[0;34m(\u001b[0m\u001b[0;34m'Epoch {:>2}, CIFAR-10 Batch {}:  '\u001b[0m\u001b[0;34m.\u001b[0m\u001b[0mformat\u001b[0m\u001b[0;34m(\u001b[0m\u001b[0mepoch\u001b[0m \u001b[0;34m+\u001b[0m \u001b[0;36m1\u001b[0m\u001b[0;34m,\u001b[0m \u001b[0mbatch_i\u001b[0m\u001b[0;34m)\u001b[0m\u001b[0;34m,\u001b[0m \u001b[0mend\u001b[0m\u001b[0;34m=\u001b[0m\u001b[0;34m''\u001b[0m\u001b[0;34m)\u001b[0m\u001b[0;34m\u001b[0m\u001b[0m\n\u001b[0;32m---> 15\u001b[0;31m         \u001b[0mprint_stats\u001b[0m\u001b[0;34m(\u001b[0m\u001b[0msess\u001b[0m\u001b[0;34m,\u001b[0m \u001b[0mbatch_features\u001b[0m\u001b[0;34m,\u001b[0m \u001b[0mbatch_labels\u001b[0m\u001b[0;34m,\u001b[0m \u001b[0mcost\u001b[0m\u001b[0;34m,\u001b[0m \u001b[0maccuracy\u001b[0m\u001b[0;34m)\u001b[0m\u001b[0;34m\u001b[0m\u001b[0m\n\u001b[0m",
      "\u001b[0;32m<ipython-input-14-a8a17aceba0c>\u001b[0m in \u001b[0;36mprint_stats\u001b[0;34m(session, feature_batch, label_batch, cost, accuracy)\u001b[0m\n\u001b[1;32m     12\u001b[0m     \u001b[0mloss\u001b[0m \u001b[0;34m=\u001b[0m \u001b[0msession\u001b[0m\u001b[0;34m.\u001b[0m\u001b[0mrun\u001b[0m\u001b[0;34m(\u001b[0m\u001b[0mcost\u001b[0m\u001b[0;34m,\u001b[0m\u001b[0mfeed_dict\u001b[0m\u001b[0;34m=\u001b[0m\u001b[0;34m{\u001b[0m\u001b[0mx\u001b[0m\u001b[0;34m:\u001b[0m\u001b[0mfeature_batch\u001b[0m\u001b[0;34m,\u001b[0m \u001b[0my\u001b[0m\u001b[0;34m:\u001b[0m \u001b[0mlabel_batch\u001b[0m\u001b[0;34m,\u001b[0m \u001b[0mkeep_prob\u001b[0m\u001b[0;34m:\u001b[0m \u001b[0;36m1.0\u001b[0m\u001b[0;34m}\u001b[0m\u001b[0;34m)\u001b[0m\u001b[0;34m\u001b[0m\u001b[0m\n\u001b[1;32m     13\u001b[0m     \u001b[0;31m#Compute the validation accuracy\u001b[0m\u001b[0;34m\u001b[0m\u001b[0;34m\u001b[0m\u001b[0m\n\u001b[0;32m---> 14\u001b[0;31m     \u001b[0mval_accuracy\u001b[0m \u001b[0;34m=\u001b[0m \u001b[0msession\u001b[0m\u001b[0;34m.\u001b[0m\u001b[0mrun\u001b[0m\u001b[0;34m(\u001b[0m\u001b[0maccuracy\u001b[0m\u001b[0;34m,\u001b[0m \u001b[0mfeed_dict\u001b[0m\u001b[0;34m=\u001b[0m\u001b[0;34m{\u001b[0m\u001b[0mx\u001b[0m\u001b[0;34m:\u001b[0m\u001b[0mvalid_features\u001b[0m\u001b[0;34m,\u001b[0m \u001b[0my\u001b[0m\u001b[0;34m:\u001b[0m\u001b[0mvalid_labels\u001b[0m\u001b[0;34m,\u001b[0m \u001b[0mkeep_prob\u001b[0m\u001b[0;34m:\u001b[0m \u001b[0;36m1.0\u001b[0m\u001b[0;34m}\u001b[0m\u001b[0;34m)\u001b[0m\u001b[0;34m\u001b[0m\u001b[0m\n\u001b[0m\u001b[1;32m     15\u001b[0m     \u001b[0;31m#print the loss and validation accuracy\u001b[0m\u001b[0;34m\u001b[0m\u001b[0;34m\u001b[0m\u001b[0m\n\u001b[1;32m     16\u001b[0m     \u001b[0mprint\u001b[0m\u001b[0;34m(\u001b[0m\u001b[0;34m\"The loss is: {:>10.4f} and the validation_accuracy is {:.6f}\"\u001b[0m\u001b[0;34m.\u001b[0m\u001b[0mformat\u001b[0m\u001b[0;34m(\u001b[0m\u001b[0mloss\u001b[0m\u001b[0;34m,\u001b[0m \u001b[0mval_accuracy\u001b[0m\u001b[0;34m)\u001b[0m\u001b[0;34m)\u001b[0m\u001b[0;34m\u001b[0m\u001b[0m\n",
      "\u001b[0;32m/home/carnd/anaconda3/envs/dl/lib/python3.5/site-packages/tensorflow/python/client/session.py\u001b[0m in \u001b[0;36mrun\u001b[0;34m(self, fetches, feed_dict, options, run_metadata)\u001b[0m\n\u001b[1;32m    765\u001b[0m     \u001b[0;32mtry\u001b[0m\u001b[0;34m:\u001b[0m\u001b[0;34m\u001b[0m\u001b[0m\n\u001b[1;32m    766\u001b[0m       result = self._run(None, fetches, feed_dict, options_ptr,\n\u001b[0;32m--> 767\u001b[0;31m                          run_metadata_ptr)\n\u001b[0m\u001b[1;32m    768\u001b[0m       \u001b[0;32mif\u001b[0m \u001b[0mrun_metadata\u001b[0m\u001b[0;34m:\u001b[0m\u001b[0;34m\u001b[0m\u001b[0m\n\u001b[1;32m    769\u001b[0m         \u001b[0mproto_data\u001b[0m \u001b[0;34m=\u001b[0m \u001b[0mtf_session\u001b[0m\u001b[0;34m.\u001b[0m\u001b[0mTF_GetBuffer\u001b[0m\u001b[0;34m(\u001b[0m\u001b[0mrun_metadata_ptr\u001b[0m\u001b[0;34m)\u001b[0m\u001b[0;34m\u001b[0m\u001b[0m\n",
      "\u001b[0;32m/home/carnd/anaconda3/envs/dl/lib/python3.5/site-packages/tensorflow/python/client/session.py\u001b[0m in \u001b[0;36m_run\u001b[0;34m(self, handle, fetches, feed_dict, options, run_metadata)\u001b[0m\n\u001b[1;32m    963\u001b[0m     \u001b[0;32mif\u001b[0m \u001b[0mfinal_fetches\u001b[0m \u001b[0;32mor\u001b[0m \u001b[0mfinal_targets\u001b[0m\u001b[0;34m:\u001b[0m\u001b[0;34m\u001b[0m\u001b[0m\n\u001b[1;32m    964\u001b[0m       results = self._do_run(handle, final_targets, final_fetches,\n\u001b[0;32m--> 965\u001b[0;31m                              feed_dict_string, options, run_metadata)\n\u001b[0m\u001b[1;32m    966\u001b[0m     \u001b[0;32melse\u001b[0m\u001b[0;34m:\u001b[0m\u001b[0;34m\u001b[0m\u001b[0m\n\u001b[1;32m    967\u001b[0m       \u001b[0mresults\u001b[0m \u001b[0;34m=\u001b[0m \u001b[0;34m[\u001b[0m\u001b[0;34m]\u001b[0m\u001b[0;34m\u001b[0m\u001b[0m\n",
      "\u001b[0;32m/home/carnd/anaconda3/envs/dl/lib/python3.5/site-packages/tensorflow/python/client/session.py\u001b[0m in \u001b[0;36m_do_run\u001b[0;34m(self, handle, target_list, fetch_list, feed_dict, options, run_metadata)\u001b[0m\n\u001b[1;32m   1013\u001b[0m     \u001b[0;32mif\u001b[0m \u001b[0mhandle\u001b[0m \u001b[0;32mis\u001b[0m \u001b[0;32mNone\u001b[0m\u001b[0;34m:\u001b[0m\u001b[0;34m\u001b[0m\u001b[0m\n\u001b[1;32m   1014\u001b[0m       return self._do_call(_run_fn, self._session, feed_dict, fetch_list,\n\u001b[0;32m-> 1015\u001b[0;31m                            target_list, options, run_metadata)\n\u001b[0m\u001b[1;32m   1016\u001b[0m     \u001b[0;32melse\u001b[0m\u001b[0;34m:\u001b[0m\u001b[0;34m\u001b[0m\u001b[0m\n\u001b[1;32m   1017\u001b[0m       return self._do_call(_prun_fn, self._session, handle, feed_dict,\n",
      "\u001b[0;32m/home/carnd/anaconda3/envs/dl/lib/python3.5/site-packages/tensorflow/python/client/session.py\u001b[0m in \u001b[0;36m_do_call\u001b[0;34m(self, fn, *args)\u001b[0m\n\u001b[1;32m   1020\u001b[0m   \u001b[0;32mdef\u001b[0m \u001b[0m_do_call\u001b[0m\u001b[0;34m(\u001b[0m\u001b[0mself\u001b[0m\u001b[0;34m,\u001b[0m \u001b[0mfn\u001b[0m\u001b[0;34m,\u001b[0m \u001b[0;34m*\u001b[0m\u001b[0margs\u001b[0m\u001b[0;34m)\u001b[0m\u001b[0;34m:\u001b[0m\u001b[0;34m\u001b[0m\u001b[0m\n\u001b[1;32m   1021\u001b[0m     \u001b[0;32mtry\u001b[0m\u001b[0;34m:\u001b[0m\u001b[0;34m\u001b[0m\u001b[0m\n\u001b[0;32m-> 1022\u001b[0;31m       \u001b[0;32mreturn\u001b[0m \u001b[0mfn\u001b[0m\u001b[0;34m(\u001b[0m\u001b[0;34m*\u001b[0m\u001b[0margs\u001b[0m\u001b[0;34m)\u001b[0m\u001b[0;34m\u001b[0m\u001b[0m\n\u001b[0m\u001b[1;32m   1023\u001b[0m     \u001b[0;32mexcept\u001b[0m \u001b[0merrors\u001b[0m\u001b[0;34m.\u001b[0m\u001b[0mOpError\u001b[0m \u001b[0;32mas\u001b[0m \u001b[0me\u001b[0m\u001b[0;34m:\u001b[0m\u001b[0;34m\u001b[0m\u001b[0m\n\u001b[1;32m   1024\u001b[0m       \u001b[0mmessage\u001b[0m \u001b[0;34m=\u001b[0m \u001b[0mcompat\u001b[0m\u001b[0;34m.\u001b[0m\u001b[0mas_text\u001b[0m\u001b[0;34m(\u001b[0m\u001b[0me\u001b[0m\u001b[0;34m.\u001b[0m\u001b[0mmessage\u001b[0m\u001b[0;34m)\u001b[0m\u001b[0;34m\u001b[0m\u001b[0m\n",
      "\u001b[0;32m/home/carnd/anaconda3/envs/dl/lib/python3.5/site-packages/tensorflow/python/client/session.py\u001b[0m in \u001b[0;36m_run_fn\u001b[0;34m(session, feed_dict, fetch_list, target_list, options, run_metadata)\u001b[0m\n\u001b[1;32m   1002\u001b[0m         return tf_session.TF_Run(session, options,\n\u001b[1;32m   1003\u001b[0m                                  \u001b[0mfeed_dict\u001b[0m\u001b[0;34m,\u001b[0m \u001b[0mfetch_list\u001b[0m\u001b[0;34m,\u001b[0m \u001b[0mtarget_list\u001b[0m\u001b[0;34m,\u001b[0m\u001b[0;34m\u001b[0m\u001b[0m\n\u001b[0;32m-> 1004\u001b[0;31m                                  status, run_metadata)\n\u001b[0m\u001b[1;32m   1005\u001b[0m \u001b[0;34m\u001b[0m\u001b[0m\n\u001b[1;32m   1006\u001b[0m     \u001b[0;32mdef\u001b[0m \u001b[0m_prun_fn\u001b[0m\u001b[0;34m(\u001b[0m\u001b[0msession\u001b[0m\u001b[0;34m,\u001b[0m \u001b[0mhandle\u001b[0m\u001b[0;34m,\u001b[0m \u001b[0mfeed_dict\u001b[0m\u001b[0;34m,\u001b[0m \u001b[0mfetch_list\u001b[0m\u001b[0;34m)\u001b[0m\u001b[0;34m:\u001b[0m\u001b[0;34m\u001b[0m\u001b[0m\n",
      "\u001b[0;31mKeyboardInterrupt\u001b[0m: "
     ]
    }
   ],
   "source": [
    "\"\"\"\n",
    "DON'T MODIFY ANYTHING IN THIS CELL\n",
    "\"\"\"\n",
    "print('Checking the Training on a Single Batch...')\n",
    "with tf.Session() as sess:\n",
    "    # Initializing the variables\n",
    "    sess.run(tf.global_variables_initializer())\n",
    "    \n",
    "    # Training cycle\n",
    "    for epoch in range(epochs):\n",
    "        batch_i = 1\n",
    "        for batch_features, batch_labels in helper.load_preprocess_training_batch(batch_i, batch_size):\n",
    "            train_neural_network(sess, optimizer, keep_probability, batch_features, batch_labels)\n",
    "        print('Epoch {:>2}, CIFAR-10 Batch {}:  '.format(epoch + 1, batch_i), end='')\n",
    "        print_stats(sess, batch_features, batch_labels, cost, accuracy)"
   ]
  },
  {
   "cell_type": "markdown",
   "metadata": {
    "deletable": true,
    "editable": true
   },
   "source": [
    "### Fully Train the Model\n",
    "Now that you got a good accuracy with a single CIFAR-10 batch, try it with all five batches."
   ]
  },
  {
   "cell_type": "code",
   "execution_count": 25,
   "metadata": {
    "collapsed": false,
    "deletable": true,
    "editable": true
   },
   "outputs": [
    {
     "name": "stdout",
     "output_type": "stream",
     "text": [
      "Training...\n",
      "Epoch  1, CIFAR-10 Batch 1:  The loss is:     2.7570 and the validation_accuracy is 0.190800\n",
      "Epoch  1, CIFAR-10 Batch 2:  The loss is:     2.3745 and the validation_accuracy is 0.205200\n",
      "Epoch  1, CIFAR-10 Batch 3:  The loss is:     2.1530 and the validation_accuracy is 0.204000\n",
      "Epoch  1, CIFAR-10 Batch 4:  The loss is:     2.0847 and the validation_accuracy is 0.225400\n",
      "Epoch  1, CIFAR-10 Batch 5:  The loss is:     2.1942 and the validation_accuracy is 0.233800\n",
      "Epoch  2, CIFAR-10 Batch 1:  The loss is:     2.1429 and the validation_accuracy is 0.276400\n",
      "Epoch  2, CIFAR-10 Batch 2:  The loss is:     1.9482 and the validation_accuracy is 0.296000\n",
      "Epoch  2, CIFAR-10 Batch 3:  The loss is:     1.9152 and the validation_accuracy is 0.301600\n",
      "Epoch  2, CIFAR-10 Batch 4:  The loss is:     1.8274 and the validation_accuracy is 0.319400\n",
      "Epoch  2, CIFAR-10 Batch 5:  The loss is:     2.0085 and the validation_accuracy is 0.328200\n",
      "Epoch  3, CIFAR-10 Batch 1:  The loss is:     1.9251 and the validation_accuracy is 0.346000\n",
      "Epoch  3, CIFAR-10 Batch 2:  The loss is:     1.6728 and the validation_accuracy is 0.352600\n",
      "Epoch  3, CIFAR-10 Batch 3:  The loss is:     1.6418 and the validation_accuracy is 0.350400\n",
      "Epoch  3, CIFAR-10 Batch 4:  The loss is:     1.6430 and the validation_accuracy is 0.376600\n",
      "Epoch  3, CIFAR-10 Batch 5:  The loss is:     1.8991 and the validation_accuracy is 0.378400\n",
      "Epoch  4, CIFAR-10 Batch 1:  The loss is:     1.8224 and the validation_accuracy is 0.377600\n",
      "Epoch  4, CIFAR-10 Batch 2:  The loss is:     1.6392 and the validation_accuracy is 0.387400\n",
      "Epoch  4, CIFAR-10 Batch 3:  The loss is:     1.5705 and the validation_accuracy is 0.388400\n",
      "Epoch  4, CIFAR-10 Batch 4:  The loss is:     1.5211 and the validation_accuracy is 0.410000\n",
      "Epoch  4, CIFAR-10 Batch 5:  The loss is:     1.7117 and the validation_accuracy is 0.391200\n",
      "Epoch  5, CIFAR-10 Batch 1:  The loss is:     1.6900 and the validation_accuracy is 0.421200\n",
      "Epoch  5, CIFAR-10 Batch 2:  The loss is:     1.6195 and the validation_accuracy is 0.409600\n",
      "Epoch  5, CIFAR-10 Batch 3:  The loss is:     1.3609 and the validation_accuracy is 0.429000\n",
      "Epoch  5, CIFAR-10 Batch 4:  The loss is:     1.4712 and the validation_accuracy is 0.432000\n",
      "Epoch  5, CIFAR-10 Batch 5:  The loss is:     1.5476 and the validation_accuracy is 0.426600\n",
      "Epoch  6, CIFAR-10 Batch 1:  The loss is:     1.5716 and the validation_accuracy is 0.455200\n",
      "Epoch  6, CIFAR-10 Batch 2:  The loss is:     1.5056 and the validation_accuracy is 0.445200\n",
      "Epoch  6, CIFAR-10 Batch 3:  The loss is:     1.1905 and the validation_accuracy is 0.450000\n",
      "Epoch  6, CIFAR-10 Batch 4:  The loss is:     1.3783 and the validation_accuracy is 0.449800\n",
      "Epoch  6, CIFAR-10 Batch 5:  The loss is:     1.4185 and the validation_accuracy is 0.451400\n",
      "Epoch  7, CIFAR-10 Batch 1:  The loss is:     1.5509 and the validation_accuracy is 0.467200\n",
      "Epoch  7, CIFAR-10 Batch 2:  The loss is:     1.3960 and the validation_accuracy is 0.473200\n",
      "Epoch  7, CIFAR-10 Batch 3:  The loss is:     1.0572 and the validation_accuracy is 0.482600\n",
      "Epoch  7, CIFAR-10 Batch 4:  The loss is:     1.3320 and the validation_accuracy is 0.489000\n",
      "Epoch  7, CIFAR-10 Batch 5:  The loss is:     1.3945 and the validation_accuracy is 0.476800\n",
      "Epoch  8, CIFAR-10 Batch 1:  The loss is:     1.2610 and the validation_accuracy is 0.502200\n",
      "Epoch  8, CIFAR-10 Batch 2:  The loss is:     1.2925 and the validation_accuracy is 0.490200\n",
      "Epoch  8, CIFAR-10 Batch 3:  The loss is:     1.0209 and the validation_accuracy is 0.497400\n",
      "Epoch  8, CIFAR-10 Batch 4:  The loss is:     1.2582 and the validation_accuracy is 0.502600\n",
      "Epoch  8, CIFAR-10 Batch 5:  The loss is:     1.2723 and the validation_accuracy is 0.504000\n",
      "Epoch  9, CIFAR-10 Batch 1:  The loss is:     1.2095 and the validation_accuracy is 0.517200\n",
      "Epoch  9, CIFAR-10 Batch 2:  The loss is:     1.2071 and the validation_accuracy is 0.518600\n",
      "Epoch  9, CIFAR-10 Batch 3:  The loss is:     0.9090 and the validation_accuracy is 0.517000\n",
      "Epoch  9, CIFAR-10 Batch 4:  The loss is:     1.0983 and the validation_accuracy is 0.531400\n",
      "Epoch  9, CIFAR-10 Batch 5:  The loss is:     1.1908 and the validation_accuracy is 0.524800\n",
      "Epoch 10, CIFAR-10 Batch 1:  The loss is:     1.1087 and the validation_accuracy is 0.534800\n",
      "Epoch 10, CIFAR-10 Batch 2:  The loss is:     1.0559 and the validation_accuracy is 0.531600\n",
      "Epoch 10, CIFAR-10 Batch 3:  The loss is:     0.8390 and the validation_accuracy is 0.522200\n",
      "Epoch 10, CIFAR-10 Batch 4:  The loss is:     0.9784 and the validation_accuracy is 0.538800\n",
      "Epoch 10, CIFAR-10 Batch 5:  The loss is:     1.0806 and the validation_accuracy is 0.546800\n",
      "Epoch 11, CIFAR-10 Batch 1:  The loss is:     1.0542 and the validation_accuracy is 0.545200\n",
      "Epoch 11, CIFAR-10 Batch 2:  The loss is:     0.8290 and the validation_accuracy is 0.546200\n",
      "Epoch 11, CIFAR-10 Batch 3:  The loss is:     0.7791 and the validation_accuracy is 0.550800\n",
      "Epoch 11, CIFAR-10 Batch 4:  The loss is:     0.8993 and the validation_accuracy is 0.541800\n",
      "Epoch 11, CIFAR-10 Batch 5:  The loss is:     1.0634 and the validation_accuracy is 0.549800\n",
      "Epoch 12, CIFAR-10 Batch 1:  The loss is:     0.8968 and the validation_accuracy is 0.567000\n",
      "Epoch 12, CIFAR-10 Batch 2:  The loss is:     0.8233 and the validation_accuracy is 0.551000\n",
      "Epoch 12, CIFAR-10 Batch 3:  The loss is:     0.7110 and the validation_accuracy is 0.550800\n",
      "Epoch 12, CIFAR-10 Batch 4:  The loss is:     0.7009 and the validation_accuracy is 0.562800\n",
      "Epoch 12, CIFAR-10 Batch 5:  The loss is:     0.8367 and the validation_accuracy is 0.562400\n",
      "Epoch 13, CIFAR-10 Batch 1:  The loss is:     0.7244 and the validation_accuracy is 0.566800\n",
      "Epoch 13, CIFAR-10 Batch 2:  The loss is:     0.7442 and the validation_accuracy is 0.556600\n",
      "Epoch 13, CIFAR-10 Batch 3:  The loss is:     0.5712 and the validation_accuracy is 0.573200\n",
      "Epoch 13, CIFAR-10 Batch 4:  The loss is:     0.6566 and the validation_accuracy is 0.571800\n",
      "Epoch 13, CIFAR-10 Batch 5:  The loss is:     0.7229 and the validation_accuracy is 0.570800\n",
      "Epoch 14, CIFAR-10 Batch 1:  The loss is:     0.6784 and the validation_accuracy is 0.565000\n",
      "Epoch 14, CIFAR-10 Batch 2:  The loss is:     0.6492 and the validation_accuracy is 0.574200\n",
      "Epoch 14, CIFAR-10 Batch 3:  The loss is:     0.4931 and the validation_accuracy is 0.573600\n",
      "Epoch 14, CIFAR-10 Batch 4:  The loss is:     0.5382 and the validation_accuracy is 0.570400\n",
      "Epoch 14, CIFAR-10 Batch 5:  The loss is:     0.6668 and the validation_accuracy is 0.582400\n",
      "Epoch 15, CIFAR-10 Batch 1:  The loss is:     0.5833 and the validation_accuracy is 0.588200\n",
      "Epoch 15, CIFAR-10 Batch 2:  The loss is:     0.6120 and the validation_accuracy is 0.574200\n",
      "Epoch 15, CIFAR-10 Batch 3:  The loss is:     0.3796 and the validation_accuracy is 0.572800\n",
      "Epoch 15, CIFAR-10 Batch 4:  The loss is:     0.4032 and the validation_accuracy is 0.596800\n",
      "Epoch 15, CIFAR-10 Batch 5:  The loss is:     0.6680 and the validation_accuracy is 0.570200\n",
      "Epoch 16, CIFAR-10 Batch 1:  The loss is:     0.5002 and the validation_accuracy is 0.590400\n",
      "Epoch 16, CIFAR-10 Batch 2:  The loss is:     0.4666 and the validation_accuracy is 0.585400\n",
      "Epoch 16, CIFAR-10 Batch 3:  The loss is:     0.3615 and the validation_accuracy is 0.577800\n",
      "Epoch 16, CIFAR-10 Batch 4:  The loss is:     0.3208 and the validation_accuracy is 0.594800\n",
      "Epoch 16, CIFAR-10 Batch 5:  The loss is:     0.5381 and the validation_accuracy is 0.603200\n",
      "Epoch 17, CIFAR-10 Batch 1:  The loss is:     0.4449 and the validation_accuracy is 0.588600\n",
      "Epoch 17, CIFAR-10 Batch 2:  The loss is:     0.3255 and the validation_accuracy is 0.577000\n",
      "Epoch 17, CIFAR-10 Batch 3:  The loss is:     0.3140 and the validation_accuracy is 0.591800\n",
      "Epoch 17, CIFAR-10 Batch 4:  The loss is:     0.3123 and the validation_accuracy is 0.605800\n",
      "Epoch 17, CIFAR-10 Batch 5:  The loss is:     0.4814 and the validation_accuracy is 0.604600\n",
      "Epoch 18, CIFAR-10 Batch 1:  The loss is:     0.3265 and the validation_accuracy is 0.598400\n",
      "Epoch 18, CIFAR-10 Batch 2:  The loss is:     0.2986 and the validation_accuracy is 0.595200\n",
      "Epoch 18, CIFAR-10 Batch 3:  The loss is:     0.2500 and the validation_accuracy is 0.597000\n",
      "Epoch 18, CIFAR-10 Batch 4:  The loss is:     0.2460 and the validation_accuracy is 0.610200\n",
      "Epoch 18, CIFAR-10 Batch 5:  The loss is:     0.5393 and the validation_accuracy is 0.597000\n",
      "Epoch 19, CIFAR-10 Batch 1:  The loss is:     0.3194 and the validation_accuracy is 0.597000\n",
      "Epoch 19, CIFAR-10 Batch 2:  The loss is:     0.2340 and the validation_accuracy is 0.599200\n",
      "Epoch 19, CIFAR-10 Batch 3:  The loss is:     0.2190 and the validation_accuracy is 0.616600\n",
      "Epoch 19, CIFAR-10 Batch 4:  The loss is:     0.2479 and the validation_accuracy is 0.598600\n",
      "Epoch 19, CIFAR-10 Batch 5:  The loss is:     0.4418 and the validation_accuracy is 0.596600\n",
      "Epoch 20, CIFAR-10 Batch 1:  The loss is:     0.2777 and the validation_accuracy is 0.602000\n",
      "Epoch 20, CIFAR-10 Batch 2:  The loss is:     0.2549 and the validation_accuracy is 0.621800\n",
      "Epoch 20, CIFAR-10 Batch 3:  The loss is:     0.1800 and the validation_accuracy is 0.624800\n",
      "Epoch 20, CIFAR-10 Batch 4:  The loss is:     0.2243 and the validation_accuracy is 0.610000\n",
      "Epoch 20, CIFAR-10 Batch 5:  The loss is:     0.4076 and the validation_accuracy is 0.611200\n",
      "Epoch 21, CIFAR-10 Batch 1:  The loss is:     0.2252 and the validation_accuracy is 0.617200\n",
      "Epoch 21, CIFAR-10 Batch 2:  The loss is:     0.2768 and the validation_accuracy is 0.616200\n",
      "Epoch 21, CIFAR-10 Batch 3:  The loss is:     0.1499 and the validation_accuracy is 0.624000\n",
      "Epoch 21, CIFAR-10 Batch 4:  The loss is:     0.1608 and the validation_accuracy is 0.604000\n",
      "Epoch 21, CIFAR-10 Batch 5:  The loss is:     0.2784 and the validation_accuracy is 0.628000\n",
      "Epoch 22, CIFAR-10 Batch 1:  The loss is:     0.1840 and the validation_accuracy is 0.622800\n",
      "Epoch 22, CIFAR-10 Batch 2:  The loss is:     0.2176 and the validation_accuracy is 0.617400\n",
      "Epoch 22, CIFAR-10 Batch 3:  The loss is:     0.1179 and the validation_accuracy is 0.620800\n",
      "Epoch 22, CIFAR-10 Batch 4:  The loss is:     0.1330 and the validation_accuracy is 0.621000\n",
      "Epoch 22, CIFAR-10 Batch 5:  The loss is:     0.2583 and the validation_accuracy is 0.628800\n",
      "Epoch 23, CIFAR-10 Batch 1:  The loss is:     0.1088 and the validation_accuracy is 0.621200\n",
      "Epoch 23, CIFAR-10 Batch 2:  The loss is:     0.1765 and the validation_accuracy is 0.623600\n",
      "Epoch 23, CIFAR-10 Batch 3:  The loss is:     0.0869 and the validation_accuracy is 0.619800\n",
      "Epoch 23, CIFAR-10 Batch 4:  The loss is:     0.1772 and the validation_accuracy is 0.601800\n",
      "Epoch 23, CIFAR-10 Batch 5:  The loss is:     0.1703 and the validation_accuracy is 0.629400\n",
      "Epoch 24, CIFAR-10 Batch 1:  The loss is:     0.1030 and the validation_accuracy is 0.631800\n",
      "Epoch 24, CIFAR-10 Batch 2:  The loss is:     0.1307 and the validation_accuracy is 0.627200\n",
      "Epoch 24, CIFAR-10 Batch 3:  The loss is:     0.0772 and the validation_accuracy is 0.625000\n",
      "Epoch 24, CIFAR-10 Batch 4:  The loss is:     0.1702 and the validation_accuracy is 0.609200\n",
      "Epoch 24, CIFAR-10 Batch 5:  The loss is:     0.1256 and the validation_accuracy is 0.630800\n",
      "Epoch 25, CIFAR-10 Batch 1:  The loss is:     0.0871 and the validation_accuracy is 0.627600\n",
      "Epoch 25, CIFAR-10 Batch 2:  The loss is:     0.0855 and the validation_accuracy is 0.627400\n",
      "Epoch 25, CIFAR-10 Batch 3:  The loss is:     0.0735 and the validation_accuracy is 0.628000\n",
      "Epoch 25, CIFAR-10 Batch 4:  The loss is:     0.1785 and the validation_accuracy is 0.611400\n",
      "Epoch 25, CIFAR-10 Batch 5:  The loss is:     0.1353 and the validation_accuracy is 0.628200\n",
      "Epoch 26, CIFAR-10 Batch 1:  The loss is:     0.1237 and the validation_accuracy is 0.619800\n",
      "Epoch 26, CIFAR-10 Batch 2:  The loss is:     0.0668 and the validation_accuracy is 0.621600\n",
      "Epoch 26, CIFAR-10 Batch 3:  The loss is:     0.0432 and the validation_accuracy is 0.624400\n",
      "Epoch 26, CIFAR-10 Batch 4:  The loss is:     0.1131 and the validation_accuracy is 0.609400\n",
      "Epoch 26, CIFAR-10 Batch 5:  The loss is:     0.1350 and the validation_accuracy is 0.635200\n",
      "Epoch 27, CIFAR-10 Batch 1:  The loss is:     0.0690 and the validation_accuracy is 0.619000\n",
      "Epoch 27, CIFAR-10 Batch 2:  The loss is:     0.0587 and the validation_accuracy is 0.610400\n",
      "Epoch 27, CIFAR-10 Batch 3:  The loss is:     0.0390 and the validation_accuracy is 0.623600\n",
      "Epoch 27, CIFAR-10 Batch 4:  The loss is:     0.0873 and the validation_accuracy is 0.615400\n",
      "Epoch 27, CIFAR-10 Batch 5:  The loss is:     0.0618 and the validation_accuracy is 0.630000\n",
      "Epoch 28, CIFAR-10 Batch 1:  The loss is:     0.0701 and the validation_accuracy is 0.613000\n",
      "Epoch 28, CIFAR-10 Batch 2:  The loss is:     0.0425 and the validation_accuracy is 0.624600\n",
      "Epoch 28, CIFAR-10 Batch 3:  The loss is:     0.0280 and the validation_accuracy is 0.624800\n",
      "Epoch 28, CIFAR-10 Batch 4:  The loss is:     0.0523 and the validation_accuracy is 0.623400\n",
      "Epoch 28, CIFAR-10 Batch 5:  The loss is:     0.0392 and the validation_accuracy is 0.630600\n",
      "Epoch 29, CIFAR-10 Batch 1:  The loss is:     0.0596 and the validation_accuracy is 0.621000\n",
      "Epoch 29, CIFAR-10 Batch 2:  The loss is:     0.0291 and the validation_accuracy is 0.625200\n",
      "Epoch 29, CIFAR-10 Batch 3:  The loss is:     0.0342 and the validation_accuracy is 0.628800\n",
      "Epoch 29, CIFAR-10 Batch 4:  The loss is:     0.0555 and the validation_accuracy is 0.625600\n",
      "Epoch 29, CIFAR-10 Batch 5:  The loss is:     0.0380 and the validation_accuracy is 0.635000\n",
      "Epoch 30, CIFAR-10 Batch 1:  The loss is:     0.0259 and the validation_accuracy is 0.635600\n",
      "Epoch 30, CIFAR-10 Batch 2:  The loss is:     0.0320 and the validation_accuracy is 0.629000\n",
      "Epoch 30, CIFAR-10 Batch 3:  The loss is:     0.0300 and the validation_accuracy is 0.620200\n",
      "Epoch 30, CIFAR-10 Batch 4:  The loss is:     0.0713 and the validation_accuracy is 0.616200\n",
      "Epoch 30, CIFAR-10 Batch 5:  The loss is:     0.0319 and the validation_accuracy is 0.636800\n",
      "Epoch 31, CIFAR-10 Batch 1:  The loss is:     0.0176 and the validation_accuracy is 0.635200\n",
      "Epoch 31, CIFAR-10 Batch 2:  The loss is:     0.0253 and the validation_accuracy is 0.636800\n",
      "Epoch 31, CIFAR-10 Batch 3:  The loss is:     0.0151 and the validation_accuracy is 0.626200\n",
      "Epoch 31, CIFAR-10 Batch 4:  The loss is:     0.0285 and the validation_accuracy is 0.627600\n",
      "Epoch 31, CIFAR-10 Batch 5:  The loss is:     0.0431 and the validation_accuracy is 0.631200\n",
      "Epoch 32, CIFAR-10 Batch 1:  The loss is:     0.0417 and the validation_accuracy is 0.636400\n",
      "Epoch 32, CIFAR-10 Batch 2:  The loss is:     0.0215 and the validation_accuracy is 0.627400\n",
      "Epoch 32, CIFAR-10 Batch 3:  The loss is:     0.0144 and the validation_accuracy is 0.623800\n",
      "Epoch 32, CIFAR-10 Batch 4:  The loss is:     0.0395 and the validation_accuracy is 0.616800\n",
      "Epoch 32, CIFAR-10 Batch 5:  The loss is:     0.0259 and the validation_accuracy is 0.616600\n",
      "Epoch 33, CIFAR-10 Batch 1:  The loss is:     0.0153 and the validation_accuracy is 0.635200\n",
      "Epoch 33, CIFAR-10 Batch 2:  The loss is:     0.0229 and the validation_accuracy is 0.631400\n",
      "Epoch 33, CIFAR-10 Batch 3:  The loss is:     0.0263 and the validation_accuracy is 0.620000\n",
      "Epoch 33, CIFAR-10 Batch 4:  The loss is:     0.0577 and the validation_accuracy is 0.621400\n",
      "Epoch 33, CIFAR-10 Batch 5:  The loss is:     0.0139 and the validation_accuracy is 0.631200\n",
      "Epoch 34, CIFAR-10 Batch 1:  The loss is:     0.0157 and the validation_accuracy is 0.634000\n",
      "Epoch 34, CIFAR-10 Batch 2:  The loss is:     0.0126 and the validation_accuracy is 0.641200\n",
      "Epoch 34, CIFAR-10 Batch 3:  The loss is:     0.0125 and the validation_accuracy is 0.632000\n",
      "Epoch 34, CIFAR-10 Batch 4:  The loss is:     0.0195 and the validation_accuracy is 0.629400\n",
      "Epoch 34, CIFAR-10 Batch 5:  The loss is:     0.0060 and the validation_accuracy is 0.642200\n",
      "Epoch 35, CIFAR-10 Batch 1:  The loss is:     0.0311 and the validation_accuracy is 0.632400\n",
      "Epoch 35, CIFAR-10 Batch 2:  The loss is:     0.0137 and the validation_accuracy is 0.627400\n",
      "Epoch 35, CIFAR-10 Batch 3:  The loss is:     0.0086 and the validation_accuracy is 0.635400\n",
      "Epoch 35, CIFAR-10 Batch 4:  The loss is:     0.0223 and the validation_accuracy is 0.622800\n",
      "Epoch 35, CIFAR-10 Batch 5:  The loss is:     0.0101 and the validation_accuracy is 0.638800\n",
      "Epoch 36, CIFAR-10 Batch 1:  The loss is:     0.0073 and the validation_accuracy is 0.636800\n",
      "Epoch 36, CIFAR-10 Batch 2:  The loss is:     0.0091 and the validation_accuracy is 0.633800\n",
      "Epoch 36, CIFAR-10 Batch 3:  The loss is:     0.0232 and the validation_accuracy is 0.628400\n",
      "Epoch 36, CIFAR-10 Batch 4:  The loss is:     0.0192 and the validation_accuracy is 0.627200\n",
      "Epoch 36, CIFAR-10 Batch 5:  The loss is:     0.0143 and the validation_accuracy is 0.645800\n",
      "Epoch 37, CIFAR-10 Batch 1:  The loss is:     0.0036 and the validation_accuracy is 0.631400\n",
      "Epoch 37, CIFAR-10 Batch 2:  The loss is:     0.0101 and the validation_accuracy is 0.635200\n",
      "Epoch 37, CIFAR-10 Batch 3:  The loss is:     0.0063 and the validation_accuracy is 0.631200\n",
      "Epoch 37, CIFAR-10 Batch 4:  The loss is:     0.0198 and the validation_accuracy is 0.634400\n",
      "Epoch 37, CIFAR-10 Batch 5:  The loss is:     0.0042 and the validation_accuracy is 0.650200\n",
      "Epoch 38, CIFAR-10 Batch 1:  The loss is:     0.0027 and the validation_accuracy is 0.634000\n",
      "Epoch 38, CIFAR-10 Batch 2:  The loss is:     0.0037 and the validation_accuracy is 0.626600\n",
      "Epoch 38, CIFAR-10 Batch 3:  The loss is:     0.0097 and the validation_accuracy is 0.638800\n",
      "Epoch 38, CIFAR-10 Batch 4:  The loss is:     0.0323 and the validation_accuracy is 0.628600\n",
      "Epoch 38, CIFAR-10 Batch 5:  The loss is:     0.0028 and the validation_accuracy is 0.635600\n",
      "Epoch 39, CIFAR-10 Batch 1:  The loss is:     0.0063 and the validation_accuracy is 0.645000\n",
      "Epoch 39, CIFAR-10 Batch 2:  The loss is:     0.0013 and the validation_accuracy is 0.628400\n",
      "Epoch 39, CIFAR-10 Batch 3:  The loss is:     0.0046 and the validation_accuracy is 0.636200\n",
      "Epoch 39, CIFAR-10 Batch 4:  The loss is:     0.0111 and the validation_accuracy is 0.633800\n",
      "Epoch 39, CIFAR-10 Batch 5:  The loss is:     0.0116 and the validation_accuracy is 0.646200\n",
      "Epoch 40, CIFAR-10 Batch 1:  The loss is:     0.0129 and the validation_accuracy is 0.640800\n",
      "Epoch 40, CIFAR-10 Batch 2:  The loss is:     0.0031 and the validation_accuracy is 0.625600\n",
      "Epoch 40, CIFAR-10 Batch 3:  The loss is:     0.0045 and the validation_accuracy is 0.640800\n",
      "Epoch 40, CIFAR-10 Batch 4:  The loss is:     0.0274 and the validation_accuracy is 0.638200\n",
      "Epoch 40, CIFAR-10 Batch 5:  The loss is:     0.0091 and the validation_accuracy is 0.643000\n"
     ]
    }
   ],
   "source": [
    "\"\"\"\n",
    "DON'T MODIFY ANYTHING IN THIS CELL\n",
    "\"\"\"\n",
    "save_model_path = './image_classification'\n",
    "\n",
    "print('Training...')\n",
    "with tf.Session() as sess:\n",
    "    # Initializing the variables\n",
    "    sess.run(tf.global_variables_initializer())\n",
    "    \n",
    "    # Training cycle\n",
    "    for epoch in range(epochs):\n",
    "        # Loop over all batches\n",
    "        n_batches = 5\n",
    "        for batch_i in range(1, n_batches + 1):\n",
    "            for batch_features, batch_labels in helper.load_preprocess_training_batch(batch_i, batch_size):\n",
    "                train_neural_network(sess, optimizer, keep_probability, batch_features, batch_labels)\n",
    "            print('Epoch {:>2}, CIFAR-10 Batch {}:  '.format(epoch + 1, batch_i), end='')\n",
    "            print_stats(sess, batch_features, batch_labels, cost, accuracy)\n",
    "            \n",
    "    # Save Model\n",
    "    saver = tf.train.Saver()\n",
    "    save_path = saver.save(sess, save_model_path)"
   ]
  },
  {
   "cell_type": "markdown",
   "metadata": {
    "deletable": true,
    "editable": true
   },
   "source": [
    "# Checkpoint\n",
    "The model has been saved to disk.\n",
    "## Test Model\n",
    "Test your model against the test dataset.  This will be your final accuracy. You should have an accuracy greater than 50%. If you don't, keep tweaking the model architecture and parameters."
   ]
  },
  {
   "cell_type": "code",
   "execution_count": 22,
   "metadata": {
    "collapsed": false,
    "deletable": true,
    "editable": true
   },
   "outputs": [
    {
     "name": "stdout",
     "output_type": "stream",
     "text": [
      "Testing Accuracy: 0.6575356012658228\n",
      "\n"
     ]
    },
    {
     "data": {
      "image/png": "[encoded data removed]",
      "text/plain": [
       "<matplotlib.figure.Figure at 0x7f895f6676d8>"
      ]
     },
     "metadata": {
      "image/png": {
       "height": 319,
       "width": 355
      }
     },
     "output_type": "display_data"
    }
   ],
   "source": [
    "\"\"\"\n",
    "DON'T MODIFY ANYTHING IN THIS CELL\n",
    "\"\"\"\n",
    "%matplotlib inline\n",
    "%config InlineBackend.figure_format = 'retina'\n",
    "\n",
    "import tensorflow as tf\n",
    "import pickle\n",
    "import helper\n",
    "import random\n",
    "\n",
    "# Set batch size if not already set\n",
    "try:\n",
    "    if batch_size:\n",
    "        pass\n",
    "except NameError:\n",
    "    batch_size = 64\n",
    "\n",
    "save_model_path = './image_classification'\n",
    "n_samples = 4\n",
    "top_n_predictions = 3\n",
    "\n",
    "def test_model():\n",
    "    \"\"\"\n",
    "    Test the saved model against the test dataset\n",
    "    \"\"\"\n",
    "\n",
    "    test_features, test_labels = pickle.load(open('preprocess_training.p', mode='rb'))\n",
    "    loaded_graph = tf.Graph()\n",
    "\n",
    "    with tf.Session(graph=loaded_graph) as sess:\n",
    "        # Load model\n",
    "        loader = tf.train.import_meta_graph(save_model_path + '.meta')\n",
    "        loader.restore(sess, save_model_path)\n",
    "\n",
    "        # Get Tensors from loaded model\n",
    "        loaded_x = loaded_graph.get_tensor_by_name('x:0')\n",
    "        loaded_y = loaded_graph.get_tensor_by_name('y:0')\n",
    "        loaded_keep_prob = loaded_graph.get_tensor_by_name('keep_prob:0')\n",
    "        loaded_logits = loaded_graph.get_tensor_by_name('logits:0')\n",
    "        loaded_acc = loaded_graph.get_tensor_by_name('accuracy:0')\n",
    "        \n",
    "        # Get accuracy in batches for memory limitations\n",
    "        test_batch_acc_total = 0\n",
    "        test_batch_count = 0\n",
    "        \n",
    "        for train_feature_batch, train_label_batch in helper.batch_features_labels(test_features, test_labels, batch_size):\n",
    "            test_batch_acc_total += sess.run(\n",
    "                loaded_acc,\n",
    "                feed_dict={loaded_x: train_feature_batch, loaded_y: train_label_batch, loaded_keep_prob: 1.0})\n",
    "            test_batch_count += 1\n",
    "\n",
    "        print('Testing Accuracy: {}\\n'.format(test_batch_acc_total/test_batch_count))\n",
    "\n",
    "        # Print Random Samples\n",
    "        random_test_features, random_test_labels = tuple(zip(*random.sample(list(zip(test_features, test_labels)), n_samples)))\n",
    "        random_test_predictions = sess.run(\n",
    "            tf.nn.top_k(tf.nn.softmax(loaded_logits), top_n_predictions),\n",
    "            feed_dict={loaded_x: random_test_features, loaded_y: random_test_labels, loaded_keep_prob: 1.0})\n",
    "        helper.display_image_predictions(random_test_features, random_test_labels, random_test_predictions)\n",
    "\n",
    "\n",
    "test_model()"
   ]
  },
  {
   "cell_type": "markdown",
   "metadata": {
    "deletable": true,
    "editable": true
   },
   "source": [
    "## Why 50-70% Accuracy?\n",
    "You might be wondering why you can't get an accuracy any higher. First things first, 50% isn't bad for a simple CNN.  Pure guessing would get you 10% accuracy. However, you might notice people are getting scores [well above 70%](http://rodrigob.github.io/are_we_there_yet/build/classification_datasets_results.html#43494641522d3130).  That's because we haven't taught you all there is to know about neural networks. We still need to cover a few more techniques.\n",
    "## Submitting This Project\n",
    "When submitting this project, make sure to run all the cells before saving the notebook.  Save the notebook file as \"dlnd_image_classification.ipynb\" and save it as a HTML file under \"File\" -> \"Download as\".  Include the \"helper.py\" and \"problem_unittests.py\" files in your submission."
   ]
  }
 ],
 "metadata": {
  "kernelspec": {
   "display_name": "Python 3",
   "language": "python",
   "name": "python3"
  },
  "language_info": {
   "codemirror_mode": {
    "name": "ipython",
    "version": 3
   },
   "file_extension": ".py",
   "mimetype": "text/x-python",
   "name": "python",
   "nbconvert_exporter": "python",
   "pygments_lexer": "ipython3",
   "version": "3.5.2"
  },
  "widgets": {
   "state": {},
   "version": "1.1.2"
  }
 },
 "nbformat": 4,
 "nbformat_minor": 0
}
